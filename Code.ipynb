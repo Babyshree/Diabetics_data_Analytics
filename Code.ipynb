{
 "cells": [
  {
   "cell_type": "code",
   "execution_count": 1,
   "id": "b36cc24b-8e0e-489b-aca1-dffc55d65c69",
   "metadata": {},
   "outputs": [],
   "source": [
    "import pandas as pd\n",
    "import numpy as np\n",
    "from scipy.stats import pointbiserialr\n",
    "\n",
    "file_path = 'diabetic_data.csv'  \n",
    "df = pd.read_csv(file_path)"
   ]
  },
  {
   "cell_type": "code",
   "execution_count": 2,
   "id": "c3b94ff3-5421-4669-9a6b-75069793736a",
   "metadata": {},
   "outputs": [
    {
     "name": "stdout",
     "output_type": "stream",
     "text": [
      "<class 'pandas.core.frame.DataFrame'>\n",
      "RangeIndex: 101766 entries, 0 to 101765\n",
      "Data columns (total 50 columns):\n",
      " #   Column                    Non-Null Count   Dtype \n",
      "---  ------                    --------------   ----- \n",
      " 0   encounter_id              101766 non-null  int64 \n",
      " 1   patient_nbr               101766 non-null  int64 \n",
      " 2   race                      101766 non-null  object\n",
      " 3   gender                    101766 non-null  object\n",
      " 4   age                       101766 non-null  object\n",
      " 5   weight                    101766 non-null  object\n",
      " 6   admission_type_id         101766 non-null  int64 \n",
      " 7   discharge_disposition_id  101766 non-null  int64 \n",
      " 8   admission_source_id       101766 non-null  int64 \n",
      " 9   time_in_hospital          101766 non-null  int64 \n",
      " 10  payer_code                101766 non-null  object\n",
      " 11  medical_specialty         101766 non-null  object\n",
      " 12  num_lab_procedures        101766 non-null  int64 \n",
      " 13  num_procedures            101766 non-null  int64 \n",
      " 14  num_medications           101766 non-null  int64 \n",
      " 15  number_outpatient         101766 non-null  int64 \n",
      " 16  number_emergency          101766 non-null  int64 \n",
      " 17  number_inpatient          101766 non-null  int64 \n",
      " 18  diag_1                    101766 non-null  object\n",
      " 19  diag_2                    101766 non-null  object\n",
      " 20  diag_3                    101766 non-null  object\n",
      " 21  number_diagnoses          101766 non-null  int64 \n",
      " 22  max_glu_serum             5346 non-null    object\n",
      " 23  A1Cresult                 17018 non-null   object\n",
      " 24  metformin                 101766 non-null  object\n",
      " 25  repaglinide               101766 non-null  object\n",
      " 26  nateglinide               101766 non-null  object\n",
      " 27  chlorpropamide            101766 non-null  object\n",
      " 28  glimepiride               101766 non-null  object\n",
      " 29  acetohexamide             101766 non-null  object\n",
      " 30  glipizide                 101766 non-null  object\n",
      " 31  glyburide                 101766 non-null  object\n",
      " 32  tolbutamide               101766 non-null  object\n",
      " 33  pioglitazone              101766 non-null  object\n",
      " 34  rosiglitazone             101766 non-null  object\n",
      " 35  acarbose                  101766 non-null  object\n",
      " 36  miglitol                  101766 non-null  object\n",
      " 37  troglitazone              101766 non-null  object\n",
      " 38  tolazamide                101766 non-null  object\n",
      " 39  examide                   101766 non-null  object\n",
      " 40  citoglipton               101766 non-null  object\n",
      " 41  insulin                   101766 non-null  object\n",
      " 42  glyburide-metformin       101766 non-null  object\n",
      " 43  glipizide-metformin       101766 non-null  object\n",
      " 44  glimepiride-pioglitazone  101766 non-null  object\n",
      " 45  metformin-rosiglitazone   101766 non-null  object\n",
      " 46  metformin-pioglitazone    101766 non-null  object\n",
      " 47  change                    101766 non-null  object\n",
      " 48  diabetesMed               101766 non-null  object\n",
      " 49  readmitted                101766 non-null  object\n",
      "dtypes: int64(13), object(37)\n",
      "memory usage: 38.8+ MB\n"
     ]
    }
   ],
   "source": [
    "df.info()"
   ]
  },
  {
   "cell_type": "code",
   "execution_count": 3,
   "id": "07e40c95-9f00-467b-a7e8-1b927f306086",
   "metadata": {},
   "outputs": [
    {
     "data": {
      "text/html": [
       "<div>\n",
       "<style scoped>\n",
       "    .dataframe tbody tr th:only-of-type {\n",
       "        vertical-align: middle;\n",
       "    }\n",
       "\n",
       "    .dataframe tbody tr th {\n",
       "        vertical-align: top;\n",
       "    }\n",
       "\n",
       "    .dataframe thead th {\n",
       "        text-align: right;\n",
       "    }\n",
       "</style>\n",
       "<table border=\"1\" class=\"dataframe\">\n",
       "  <thead>\n",
       "    <tr style=\"text-align: right;\">\n",
       "      <th></th>\n",
       "      <th>encounter_id</th>\n",
       "      <th>patient_nbr</th>\n",
       "      <th>admission_type_id</th>\n",
       "      <th>discharge_disposition_id</th>\n",
       "      <th>admission_source_id</th>\n",
       "      <th>time_in_hospital</th>\n",
       "      <th>num_lab_procedures</th>\n",
       "      <th>num_procedures</th>\n",
       "      <th>num_medications</th>\n",
       "      <th>number_outpatient</th>\n",
       "      <th>number_emergency</th>\n",
       "      <th>number_inpatient</th>\n",
       "      <th>number_diagnoses</th>\n",
       "    </tr>\n",
       "  </thead>\n",
       "  <tbody>\n",
       "    <tr>\n",
       "      <th>count</th>\n",
       "      <td>1.017660e+05</td>\n",
       "      <td>1.017660e+05</td>\n",
       "      <td>101766.000000</td>\n",
       "      <td>101766.000000</td>\n",
       "      <td>101766.000000</td>\n",
       "      <td>101766.000000</td>\n",
       "      <td>101766.000000</td>\n",
       "      <td>101766.000000</td>\n",
       "      <td>101766.000000</td>\n",
       "      <td>101766.000000</td>\n",
       "      <td>101766.000000</td>\n",
       "      <td>101766.000000</td>\n",
       "      <td>101766.000000</td>\n",
       "    </tr>\n",
       "    <tr>\n",
       "      <th>mean</th>\n",
       "      <td>1.652016e+08</td>\n",
       "      <td>5.433040e+07</td>\n",
       "      <td>2.024006</td>\n",
       "      <td>3.715642</td>\n",
       "      <td>5.754437</td>\n",
       "      <td>4.395987</td>\n",
       "      <td>43.095641</td>\n",
       "      <td>1.339730</td>\n",
       "      <td>16.021844</td>\n",
       "      <td>0.369357</td>\n",
       "      <td>0.197836</td>\n",
       "      <td>0.635566</td>\n",
       "      <td>7.422607</td>\n",
       "    </tr>\n",
       "    <tr>\n",
       "      <th>std</th>\n",
       "      <td>1.026403e+08</td>\n",
       "      <td>3.869636e+07</td>\n",
       "      <td>1.445403</td>\n",
       "      <td>5.280166</td>\n",
       "      <td>4.064081</td>\n",
       "      <td>2.985108</td>\n",
       "      <td>19.674362</td>\n",
       "      <td>1.705807</td>\n",
       "      <td>8.127566</td>\n",
       "      <td>1.267265</td>\n",
       "      <td>0.930472</td>\n",
       "      <td>1.262863</td>\n",
       "      <td>1.933600</td>\n",
       "    </tr>\n",
       "    <tr>\n",
       "      <th>min</th>\n",
       "      <td>1.252200e+04</td>\n",
       "      <td>1.350000e+02</td>\n",
       "      <td>1.000000</td>\n",
       "      <td>1.000000</td>\n",
       "      <td>1.000000</td>\n",
       "      <td>1.000000</td>\n",
       "      <td>1.000000</td>\n",
       "      <td>0.000000</td>\n",
       "      <td>1.000000</td>\n",
       "      <td>0.000000</td>\n",
       "      <td>0.000000</td>\n",
       "      <td>0.000000</td>\n",
       "      <td>1.000000</td>\n",
       "    </tr>\n",
       "    <tr>\n",
       "      <th>25%</th>\n",
       "      <td>8.496119e+07</td>\n",
       "      <td>2.341322e+07</td>\n",
       "      <td>1.000000</td>\n",
       "      <td>1.000000</td>\n",
       "      <td>1.000000</td>\n",
       "      <td>2.000000</td>\n",
       "      <td>31.000000</td>\n",
       "      <td>0.000000</td>\n",
       "      <td>10.000000</td>\n",
       "      <td>0.000000</td>\n",
       "      <td>0.000000</td>\n",
       "      <td>0.000000</td>\n",
       "      <td>6.000000</td>\n",
       "    </tr>\n",
       "    <tr>\n",
       "      <th>50%</th>\n",
       "      <td>1.523890e+08</td>\n",
       "      <td>4.550514e+07</td>\n",
       "      <td>1.000000</td>\n",
       "      <td>1.000000</td>\n",
       "      <td>7.000000</td>\n",
       "      <td>4.000000</td>\n",
       "      <td>44.000000</td>\n",
       "      <td>1.000000</td>\n",
       "      <td>15.000000</td>\n",
       "      <td>0.000000</td>\n",
       "      <td>0.000000</td>\n",
       "      <td>0.000000</td>\n",
       "      <td>8.000000</td>\n",
       "    </tr>\n",
       "    <tr>\n",
       "      <th>75%</th>\n",
       "      <td>2.302709e+08</td>\n",
       "      <td>8.754595e+07</td>\n",
       "      <td>3.000000</td>\n",
       "      <td>4.000000</td>\n",
       "      <td>7.000000</td>\n",
       "      <td>6.000000</td>\n",
       "      <td>57.000000</td>\n",
       "      <td>2.000000</td>\n",
       "      <td>20.000000</td>\n",
       "      <td>0.000000</td>\n",
       "      <td>0.000000</td>\n",
       "      <td>1.000000</td>\n",
       "      <td>9.000000</td>\n",
       "    </tr>\n",
       "    <tr>\n",
       "      <th>max</th>\n",
       "      <td>4.438672e+08</td>\n",
       "      <td>1.895026e+08</td>\n",
       "      <td>8.000000</td>\n",
       "      <td>28.000000</td>\n",
       "      <td>25.000000</td>\n",
       "      <td>14.000000</td>\n",
       "      <td>132.000000</td>\n",
       "      <td>6.000000</td>\n",
       "      <td>81.000000</td>\n",
       "      <td>42.000000</td>\n",
       "      <td>76.000000</td>\n",
       "      <td>21.000000</td>\n",
       "      <td>16.000000</td>\n",
       "    </tr>\n",
       "  </tbody>\n",
       "</table>\n",
       "</div>"
      ],
      "text/plain": [
       "       encounter_id   patient_nbr  admission_type_id  \\\n",
       "count  1.017660e+05  1.017660e+05      101766.000000   \n",
       "mean   1.652016e+08  5.433040e+07           2.024006   \n",
       "std    1.026403e+08  3.869636e+07           1.445403   \n",
       "min    1.252200e+04  1.350000e+02           1.000000   \n",
       "25%    8.496119e+07  2.341322e+07           1.000000   \n",
       "50%    1.523890e+08  4.550514e+07           1.000000   \n",
       "75%    2.302709e+08  8.754595e+07           3.000000   \n",
       "max    4.438672e+08  1.895026e+08           8.000000   \n",
       "\n",
       "       discharge_disposition_id  admission_source_id  time_in_hospital  \\\n",
       "count             101766.000000        101766.000000     101766.000000   \n",
       "mean                   3.715642             5.754437          4.395987   \n",
       "std                    5.280166             4.064081          2.985108   \n",
       "min                    1.000000             1.000000          1.000000   \n",
       "25%                    1.000000             1.000000          2.000000   \n",
       "50%                    1.000000             7.000000          4.000000   \n",
       "75%                    4.000000             7.000000          6.000000   \n",
       "max                   28.000000            25.000000         14.000000   \n",
       "\n",
       "       num_lab_procedures  num_procedures  num_medications  number_outpatient  \\\n",
       "count       101766.000000   101766.000000    101766.000000      101766.000000   \n",
       "mean            43.095641        1.339730        16.021844           0.369357   \n",
       "std             19.674362        1.705807         8.127566           1.267265   \n",
       "min              1.000000        0.000000         1.000000           0.000000   \n",
       "25%             31.000000        0.000000        10.000000           0.000000   \n",
       "50%             44.000000        1.000000        15.000000           0.000000   \n",
       "75%             57.000000        2.000000        20.000000           0.000000   \n",
       "max            132.000000        6.000000        81.000000          42.000000   \n",
       "\n",
       "       number_emergency  number_inpatient  number_diagnoses  \n",
       "count     101766.000000     101766.000000     101766.000000  \n",
       "mean           0.197836          0.635566          7.422607  \n",
       "std            0.930472          1.262863          1.933600  \n",
       "min            0.000000          0.000000          1.000000  \n",
       "25%            0.000000          0.000000          6.000000  \n",
       "50%            0.000000          0.000000          8.000000  \n",
       "75%            0.000000          1.000000          9.000000  \n",
       "max           76.000000         21.000000         16.000000  "
      ]
     },
     "execution_count": 3,
     "metadata": {},
     "output_type": "execute_result"
    }
   ],
   "source": [
    "df.describe()"
   ]
  },
  {
   "cell_type": "code",
   "execution_count": 4,
   "id": "6fbbb774-7a2f-428a-8618-085f259623ed",
   "metadata": {},
   "outputs": [
    {
     "data": {
      "text/plain": [
       "(101766, 50)"
      ]
     },
     "execution_count": 4,
     "metadata": {},
     "output_type": "execute_result"
    }
   ],
   "source": [
    "df.shape"
   ]
  },
  {
   "cell_type": "code",
   "execution_count": 5,
   "id": "2c42042a-7655-4619-b746-8c90a9ba0e6e",
   "metadata": {},
   "outputs": [
    {
     "data": {
      "text/plain": [
       "Index(['encounter_id', 'patient_nbr', 'race', 'gender', 'age', 'weight',\n",
       "       'admission_type_id', 'discharge_disposition_id', 'admission_source_id',\n",
       "       'time_in_hospital', 'payer_code', 'medical_specialty',\n",
       "       'num_lab_procedures', 'num_procedures', 'num_medications',\n",
       "       'number_outpatient', 'number_emergency', 'number_inpatient', 'diag_1',\n",
       "       'diag_2', 'diag_3', 'number_diagnoses', 'max_glu_serum', 'A1Cresult',\n",
       "       'metformin', 'repaglinide', 'nateglinide', 'chlorpropamide',\n",
       "       'glimepiride', 'acetohexamide', 'glipizide', 'glyburide', 'tolbutamide',\n",
       "       'pioglitazone', 'rosiglitazone', 'acarbose', 'miglitol', 'troglitazone',\n",
       "       'tolazamide', 'examide', 'citoglipton', 'insulin',\n",
       "       'glyburide-metformin', 'glipizide-metformin',\n",
       "       'glimepiride-pioglitazone', 'metformin-rosiglitazone',\n",
       "       'metformin-pioglitazone', 'change', 'diabetesMed', 'readmitted'],\n",
       "      dtype='object')"
      ]
     },
     "execution_count": 5,
     "metadata": {},
     "output_type": "execute_result"
    }
   ],
   "source": [
    "df.columns"
   ]
  },
  {
   "cell_type": "code",
   "execution_count": 6,
   "id": "5d9f71d4-db5e-41ed-a13c-2e6cba19099f",
   "metadata": {},
   "outputs": [
    {
     "data": {
      "text/html": [
       "<div>\n",
       "<style scoped>\n",
       "    .dataframe tbody tr th:only-of-type {\n",
       "        vertical-align: middle;\n",
       "    }\n",
       "\n",
       "    .dataframe tbody tr th {\n",
       "        vertical-align: top;\n",
       "    }\n",
       "\n",
       "    .dataframe thead th {\n",
       "        text-align: right;\n",
       "    }\n",
       "</style>\n",
       "<table border=\"1\" class=\"dataframe\">\n",
       "  <thead>\n",
       "    <tr style=\"text-align: right;\">\n",
       "      <th></th>\n",
       "      <th>encounter_id</th>\n",
       "      <th>patient_nbr</th>\n",
       "      <th>race</th>\n",
       "      <th>gender</th>\n",
       "      <th>age</th>\n",
       "      <th>weight</th>\n",
       "      <th>admission_type_id</th>\n",
       "      <th>discharge_disposition_id</th>\n",
       "      <th>admission_source_id</th>\n",
       "      <th>time_in_hospital</th>\n",
       "      <th>...</th>\n",
       "      <th>citoglipton</th>\n",
       "      <th>insulin</th>\n",
       "      <th>glyburide-metformin</th>\n",
       "      <th>glipizide-metformin</th>\n",
       "      <th>glimepiride-pioglitazone</th>\n",
       "      <th>metformin-rosiglitazone</th>\n",
       "      <th>metformin-pioglitazone</th>\n",
       "      <th>change</th>\n",
       "      <th>diabetesMed</th>\n",
       "      <th>readmitted</th>\n",
       "    </tr>\n",
       "  </thead>\n",
       "  <tbody>\n",
       "    <tr>\n",
       "      <th>0</th>\n",
       "      <td>2278392</td>\n",
       "      <td>8222157</td>\n",
       "      <td>Caucasian</td>\n",
       "      <td>Female</td>\n",
       "      <td>[0-10)</td>\n",
       "      <td>?</td>\n",
       "      <td>6</td>\n",
       "      <td>25</td>\n",
       "      <td>1</td>\n",
       "      <td>1</td>\n",
       "      <td>...</td>\n",
       "      <td>No</td>\n",
       "      <td>No</td>\n",
       "      <td>No</td>\n",
       "      <td>No</td>\n",
       "      <td>No</td>\n",
       "      <td>No</td>\n",
       "      <td>No</td>\n",
       "      <td>No</td>\n",
       "      <td>No</td>\n",
       "      <td>NO</td>\n",
       "    </tr>\n",
       "    <tr>\n",
       "      <th>1</th>\n",
       "      <td>149190</td>\n",
       "      <td>55629189</td>\n",
       "      <td>Caucasian</td>\n",
       "      <td>Female</td>\n",
       "      <td>[10-20)</td>\n",
       "      <td>?</td>\n",
       "      <td>1</td>\n",
       "      <td>1</td>\n",
       "      <td>7</td>\n",
       "      <td>3</td>\n",
       "      <td>...</td>\n",
       "      <td>No</td>\n",
       "      <td>Up</td>\n",
       "      <td>No</td>\n",
       "      <td>No</td>\n",
       "      <td>No</td>\n",
       "      <td>No</td>\n",
       "      <td>No</td>\n",
       "      <td>Ch</td>\n",
       "      <td>Yes</td>\n",
       "      <td>&gt;30</td>\n",
       "    </tr>\n",
       "    <tr>\n",
       "      <th>2</th>\n",
       "      <td>64410</td>\n",
       "      <td>86047875</td>\n",
       "      <td>AfricanAmerican</td>\n",
       "      <td>Female</td>\n",
       "      <td>[20-30)</td>\n",
       "      <td>?</td>\n",
       "      <td>1</td>\n",
       "      <td>1</td>\n",
       "      <td>7</td>\n",
       "      <td>2</td>\n",
       "      <td>...</td>\n",
       "      <td>No</td>\n",
       "      <td>No</td>\n",
       "      <td>No</td>\n",
       "      <td>No</td>\n",
       "      <td>No</td>\n",
       "      <td>No</td>\n",
       "      <td>No</td>\n",
       "      <td>No</td>\n",
       "      <td>Yes</td>\n",
       "      <td>NO</td>\n",
       "    </tr>\n",
       "    <tr>\n",
       "      <th>3</th>\n",
       "      <td>500364</td>\n",
       "      <td>82442376</td>\n",
       "      <td>Caucasian</td>\n",
       "      <td>Male</td>\n",
       "      <td>[30-40)</td>\n",
       "      <td>?</td>\n",
       "      <td>1</td>\n",
       "      <td>1</td>\n",
       "      <td>7</td>\n",
       "      <td>2</td>\n",
       "      <td>...</td>\n",
       "      <td>No</td>\n",
       "      <td>Up</td>\n",
       "      <td>No</td>\n",
       "      <td>No</td>\n",
       "      <td>No</td>\n",
       "      <td>No</td>\n",
       "      <td>No</td>\n",
       "      <td>Ch</td>\n",
       "      <td>Yes</td>\n",
       "      <td>NO</td>\n",
       "    </tr>\n",
       "    <tr>\n",
       "      <th>4</th>\n",
       "      <td>16680</td>\n",
       "      <td>42519267</td>\n",
       "      <td>Caucasian</td>\n",
       "      <td>Male</td>\n",
       "      <td>[40-50)</td>\n",
       "      <td>?</td>\n",
       "      <td>1</td>\n",
       "      <td>1</td>\n",
       "      <td>7</td>\n",
       "      <td>1</td>\n",
       "      <td>...</td>\n",
       "      <td>No</td>\n",
       "      <td>Steady</td>\n",
       "      <td>No</td>\n",
       "      <td>No</td>\n",
       "      <td>No</td>\n",
       "      <td>No</td>\n",
       "      <td>No</td>\n",
       "      <td>Ch</td>\n",
       "      <td>Yes</td>\n",
       "      <td>NO</td>\n",
       "    </tr>\n",
       "  </tbody>\n",
       "</table>\n",
       "<p>5 rows × 50 columns</p>\n",
       "</div>"
      ],
      "text/plain": [
       "   encounter_id  patient_nbr             race  gender      age weight  \\\n",
       "0       2278392      8222157        Caucasian  Female   [0-10)      ?   \n",
       "1        149190     55629189        Caucasian  Female  [10-20)      ?   \n",
       "2         64410     86047875  AfricanAmerican  Female  [20-30)      ?   \n",
       "3        500364     82442376        Caucasian    Male  [30-40)      ?   \n",
       "4         16680     42519267        Caucasian    Male  [40-50)      ?   \n",
       "\n",
       "   admission_type_id  discharge_disposition_id  admission_source_id  \\\n",
       "0                  6                        25                    1   \n",
       "1                  1                         1                    7   \n",
       "2                  1                         1                    7   \n",
       "3                  1                         1                    7   \n",
       "4                  1                         1                    7   \n",
       "\n",
       "   time_in_hospital  ... citoglipton insulin  glyburide-metformin  \\\n",
       "0                 1  ...          No      No                   No   \n",
       "1                 3  ...          No      Up                   No   \n",
       "2                 2  ...          No      No                   No   \n",
       "3                 2  ...          No      Up                   No   \n",
       "4                 1  ...          No  Steady                   No   \n",
       "\n",
       "   glipizide-metformin  glimepiride-pioglitazone  metformin-rosiglitazone  \\\n",
       "0                   No                        No                       No   \n",
       "1                   No                        No                       No   \n",
       "2                   No                        No                       No   \n",
       "3                   No                        No                       No   \n",
       "4                   No                        No                       No   \n",
       "\n",
       "   metformin-pioglitazone  change diabetesMed readmitted  \n",
       "0                      No      No          No         NO  \n",
       "1                      No      Ch         Yes        >30  \n",
       "2                      No      No         Yes         NO  \n",
       "3                      No      Ch         Yes         NO  \n",
       "4                      No      Ch         Yes         NO  \n",
       "\n",
       "[5 rows x 50 columns]"
      ]
     },
     "execution_count": 6,
     "metadata": {},
     "output_type": "execute_result"
    }
   ],
   "source": [
    "df.head()"
   ]
  },
  {
   "cell_type": "code",
   "execution_count": 7,
   "id": "45268d63-e5e7-464f-bf2b-e82cdbef96e0",
   "metadata": {},
   "outputs": [],
   "source": [
    "df.replace('?', np.nan, inplace=True)"
   ]
  },
  {
   "cell_type": "code",
   "execution_count": 8,
   "id": "f847476b-4a0f-412a-9b5f-dfeed1ef23b6",
   "metadata": {},
   "outputs": [
    {
     "data": {
      "text/plain": [
       "0"
      ]
     },
     "execution_count": 8,
     "metadata": {},
     "output_type": "execute_result"
    }
   ],
   "source": [
    "df.duplicated().sum()"
   ]
  },
  {
   "cell_type": "code",
   "execution_count": 9,
   "id": "347cfc27-6f61-4c5b-949a-367697b19b63",
   "metadata": {},
   "outputs": [
    {
     "data": {
      "text/plain": [
       "encounter_id                    0\n",
       "patient_nbr                     0\n",
       "race                         2273\n",
       "gender                          0\n",
       "age                             0\n",
       "weight                      98569\n",
       "admission_type_id               0\n",
       "discharge_disposition_id        0\n",
       "admission_source_id             0\n",
       "time_in_hospital                0\n",
       "payer_code                  40256\n",
       "medical_specialty           49949\n",
       "num_lab_procedures              0\n",
       "num_procedures                  0\n",
       "num_medications                 0\n",
       "number_outpatient               0\n",
       "number_emergency                0\n",
       "number_inpatient                0\n",
       "diag_1                         21\n",
       "diag_2                        358\n",
       "diag_3                       1423\n",
       "number_diagnoses                0\n",
       "max_glu_serum               96420\n",
       "A1Cresult                   84748\n",
       "metformin                       0\n",
       "repaglinide                     0\n",
       "nateglinide                     0\n",
       "chlorpropamide                  0\n",
       "glimepiride                     0\n",
       "acetohexamide                   0\n",
       "glipizide                       0\n",
       "glyburide                       0\n",
       "tolbutamide                     0\n",
       "pioglitazone                    0\n",
       "rosiglitazone                   0\n",
       "acarbose                        0\n",
       "miglitol                        0\n",
       "troglitazone                    0\n",
       "tolazamide                      0\n",
       "examide                         0\n",
       "citoglipton                     0\n",
       "insulin                         0\n",
       "glyburide-metformin             0\n",
       "glipizide-metformin             0\n",
       "glimepiride-pioglitazone        0\n",
       "metformin-rosiglitazone         0\n",
       "metformin-pioglitazone          0\n",
       "change                          0\n",
       "diabetesMed                     0\n",
       "readmitted                      0\n",
       "dtype: int64"
      ]
     },
     "execution_count": 9,
     "metadata": {},
     "output_type": "execute_result"
    }
   ],
   "source": [
    "df.isnull().sum()"
   ]
  },
  {
   "cell_type": "code",
   "execution_count": 10,
   "id": "f7c326e7-6a23-4f90-8402-4e810803ab91",
   "metadata": {},
   "outputs": [
    {
     "name": "stderr",
     "output_type": "stream",
     "text": [
      "C:\\Users\\DLK Groups\\AppData\\Local\\Temp\\ipykernel_6872\\3468761712.py:4: FutureWarning: A value is trying to be set on a copy of a DataFrame or Series through chained assignment using an inplace method.\n",
      "The behavior will change in pandas 3.0. This inplace method will never work because the intermediate object on which we are setting values always behaves as a copy.\n",
      "\n",
      "For example, when doing 'df[col].method(value, inplace=True)', try using 'df.method({col: value}, inplace=True)' or df[col] = df[col].method(value) instead, to perform the operation inplace on the original object.\n",
      "\n",
      "\n",
      "  df[col].fillna(df[col].mode()[0], inplace=True)\n"
     ]
    }
   ],
   "source": [
    "for col in df.columns:\n",
    "    if df[col].isnull().sum() > 0:\n",
    "        if df[col].dtype == 'object':\n",
    "            df[col].fillna(df[col].mode()[0], inplace=True)\n",
    "        else:\n",
    "            df[col].fillna(df[col].median(), inplace=True) "
   ]
  },
  {
   "cell_type": "code",
   "execution_count": 11,
   "id": "12cd3350-445b-4afd-9795-39462214f3ea",
   "metadata": {},
   "outputs": [
    {
     "data": {
      "text/plain": [
       "encounter_id                0\n",
       "patient_nbr                 0\n",
       "race                        0\n",
       "gender                      0\n",
       "age                         0\n",
       "weight                      0\n",
       "admission_type_id           0\n",
       "discharge_disposition_id    0\n",
       "admission_source_id         0\n",
       "time_in_hospital            0\n",
       "payer_code                  0\n",
       "medical_specialty           0\n",
       "num_lab_procedures          0\n",
       "num_procedures              0\n",
       "num_medications             0\n",
       "number_outpatient           0\n",
       "number_emergency            0\n",
       "number_inpatient            0\n",
       "diag_1                      0\n",
       "diag_2                      0\n",
       "diag_3                      0\n",
       "number_diagnoses            0\n",
       "max_glu_serum               0\n",
       "A1Cresult                   0\n",
       "metformin                   0\n",
       "repaglinide                 0\n",
       "nateglinide                 0\n",
       "chlorpropamide              0\n",
       "glimepiride                 0\n",
       "acetohexamide               0\n",
       "glipizide                   0\n",
       "glyburide                   0\n",
       "tolbutamide                 0\n",
       "pioglitazone                0\n",
       "rosiglitazone               0\n",
       "acarbose                    0\n",
       "miglitol                    0\n",
       "troglitazone                0\n",
       "tolazamide                  0\n",
       "examide                     0\n",
       "citoglipton                 0\n",
       "insulin                     0\n",
       "glyburide-metformin         0\n",
       "glipizide-metformin         0\n",
       "glimepiride-pioglitazone    0\n",
       "metformin-rosiglitazone     0\n",
       "metformin-pioglitazone      0\n",
       "change                      0\n",
       "diabetesMed                 0\n",
       "readmitted                  0\n",
       "dtype: int64"
      ]
     },
     "execution_count": 11,
     "metadata": {},
     "output_type": "execute_result"
    }
   ],
   "source": [
    "df.isnull().sum()"
   ]
  },
  {
   "cell_type": "code",
   "execution_count": 12,
   "id": "4ec522b3-6643-4f04-94b3-48f310662e96",
   "metadata": {},
   "outputs": [
    {
     "data": {
      "text/plain": [
       "encounter_id\n",
       "2278392      1\n",
       "190792044    1\n",
       "190790070    1\n",
       "190789722    1\n",
       "190786806    1\n",
       "            ..\n",
       "106665324    1\n",
       "106657776    1\n",
       "106644876    1\n",
       "106644474    1\n",
       "443867222    1\n",
       "Name: count, Length: 101766, dtype: int64"
      ]
     },
     "execution_count": 12,
     "metadata": {},
     "output_type": "execute_result"
    }
   ],
   "source": [
    "df['encounter_id'].value_counts()"
   ]
  },
  {
   "cell_type": "code",
   "execution_count": 13,
   "id": "f72db567-f004-4263-8c3a-9592c2cc1408",
   "metadata": {},
   "outputs": [
    {
     "data": {
      "text/plain": [
       "patient_nbr\n",
       "88785891     40\n",
       "43140906     28\n",
       "1660293      23\n",
       "88227540     23\n",
       "23199021     23\n",
       "             ..\n",
       "11005362      1\n",
       "98252496      1\n",
       "1019673       1\n",
       "13396320      1\n",
       "175429310     1\n",
       "Name: count, Length: 71518, dtype: int64"
      ]
     },
     "execution_count": 13,
     "metadata": {},
     "output_type": "execute_result"
    }
   ],
   "source": [
    "df['patient_nbr'].value_counts()"
   ]
  },
  {
   "cell_type": "code",
   "execution_count": 14,
   "id": "ba8d9a08-9d04-4a4d-9a12-531f85ef72f1",
   "metadata": {},
   "outputs": [
    {
     "data": {
      "text/plain": [
       "race\n",
       "Caucasian          78372\n",
       "AfricanAmerican    19210\n",
       "Hispanic            2037\n",
       "Other               1506\n",
       "Asian                641\n",
       "Name: count, dtype: int64"
      ]
     },
     "execution_count": 14,
     "metadata": {},
     "output_type": "execute_result"
    }
   ],
   "source": [
    "df['race'].value_counts()"
   ]
  },
  {
   "cell_type": "code",
   "execution_count": 15,
   "id": "b746e606-1a20-4549-9233-243af4824132",
   "metadata": {},
   "outputs": [
    {
     "data": {
      "text/plain": [
       "gender\n",
       "Female             54708\n",
       "Male               47055\n",
       "Unknown/Invalid        3\n",
       "Name: count, dtype: int64"
      ]
     },
     "execution_count": 15,
     "metadata": {},
     "output_type": "execute_result"
    }
   ],
   "source": [
    "df['gender'].value_counts()"
   ]
  },
  {
   "cell_type": "code",
   "execution_count": 16,
   "id": "8317e2b0-359b-47e2-97cd-0fac11102517",
   "metadata": {},
   "outputs": [
    {
     "data": {
      "text/plain": [
       "age\n",
       "[70-80)     26068\n",
       "[60-70)     22483\n",
       "[50-60)     17256\n",
       "[80-90)     17197\n",
       "[40-50)      9685\n",
       "[30-40)      3775\n",
       "[90-100)     2793\n",
       "[20-30)      1657\n",
       "[10-20)       691\n",
       "[0-10)        161\n",
       "Name: count, dtype: int64"
      ]
     },
     "execution_count": 16,
     "metadata": {},
     "output_type": "execute_result"
    }
   ],
   "source": [
    "df['age'].value_counts()"
   ]
  },
  {
   "cell_type": "code",
   "execution_count": 17,
   "id": "c651cd1e-02a5-4bd9-bba4-c671c27d019b",
   "metadata": {},
   "outputs": [],
   "source": [
    "def convert_age_range_to_midpoint(age_range):\n",
    "    try:\n",
    "        low, high = map(int, age_range.strip('[]()').split('-'))\n",
    "        return (low + high) / 2\n",
    "    except:\n",
    "        return np.nan\n",
    "df['age'] = df['age'].apply(convert_age_range_to_midpoint)"
   ]
  },
  {
   "cell_type": "code",
   "execution_count": 18,
   "id": "548e5753-fc6c-4200-80f8-15a537ec13eb",
   "metadata": {},
   "outputs": [
    {
     "data": {
      "text/plain": [
       "age\n",
       "75.0    26068\n",
       "65.0    22483\n",
       "55.0    17256\n",
       "85.0    17197\n",
       "45.0     9685\n",
       "35.0     3775\n",
       "95.0     2793\n",
       "25.0     1657\n",
       "15.0      691\n",
       "5.0       161\n",
       "Name: count, dtype: int64"
      ]
     },
     "execution_count": 18,
     "metadata": {},
     "output_type": "execute_result"
    }
   ],
   "source": [
    "df['age'].value_counts()"
   ]
  },
  {
   "cell_type": "code",
   "execution_count": 19,
   "id": "50c5c85e-3d54-4b3a-a53f-9953bae4ee3c",
   "metadata": {},
   "outputs": [
    {
     "data": {
      "text/plain": [
       "weight\n",
       "[75-100)     99905\n",
       "[50-75)        897\n",
       "[100-125)      625\n",
       "[125-150)      145\n",
       "[25-50)         97\n",
       "[0-25)          48\n",
       "[150-175)       35\n",
       "[175-200)       11\n",
       ">200             3\n",
       "Name: count, dtype: int64"
      ]
     },
     "execution_count": 19,
     "metadata": {},
     "output_type": "execute_result"
    }
   ],
   "source": [
    "df['weight'].value_counts()"
   ]
  },
  {
   "cell_type": "code",
   "execution_count": 20,
   "id": "0067e819-05e9-476d-aaec-0b18e7744524",
   "metadata": {},
   "outputs": [],
   "source": [
    "def convert_weight_range_to_midpoint(weight):\n",
    "    if isinstance(weight, str) and weight.startswith('>'):\n",
    "        return float(weight[1:]) + 10  # You can adjust +10 based on your logic\n",
    "    try:\n",
    "        low, high = map(int, weight.strip('[]()').split('-'))\n",
    "        return (low + high) / 2\n",
    "    except:\n",
    "        return np.nan\n",
    "df['weight'] = df['weight'].apply(convert_weight_range_to_midpoint)"
   ]
  },
  {
   "cell_type": "code",
   "execution_count": 21,
   "id": "8f0f1aa8-0bf5-4191-a0d5-fa3f5a257135",
   "metadata": {},
   "outputs": [
    {
     "data": {
      "text/plain": [
       "weight\n",
       "87.5     99905\n",
       "62.5       897\n",
       "112.5      625\n",
       "137.5      145\n",
       "37.5        97\n",
       "12.5        48\n",
       "162.5       35\n",
       "187.5       11\n",
       "210.0        3\n",
       "Name: count, dtype: int64"
      ]
     },
     "execution_count": 21,
     "metadata": {},
     "output_type": "execute_result"
    }
   ],
   "source": [
    "df['weight'].value_counts()"
   ]
  },
  {
   "cell_type": "code",
   "execution_count": 22,
   "id": "03f67c1b-43d4-4171-abb3-896fed38d5dc",
   "metadata": {},
   "outputs": [
    {
     "data": {
      "text/plain": [
       "admission_type_id\n",
       "1    53990\n",
       "3    18869\n",
       "2    18480\n",
       "6     5291\n",
       "5     4785\n",
       "8      320\n",
       "7       21\n",
       "4       10\n",
       "Name: count, dtype: int64"
      ]
     },
     "execution_count": 22,
     "metadata": {},
     "output_type": "execute_result"
    }
   ],
   "source": [
    "df['admission_type_id'].value_counts()"
   ]
  },
  {
   "cell_type": "code",
   "execution_count": 23,
   "id": "316a7577-2871-4acf-b5fe-e83db574bba7",
   "metadata": {},
   "outputs": [
    {
     "data": {
      "text/plain": [
       "discharge_disposition_id\n",
       "1     60234\n",
       "3     13954\n",
       "6     12902\n",
       "18     3691\n",
       "2      2128\n",
       "22     1993\n",
       "11     1642\n",
       "5      1184\n",
       "25      989\n",
       "4       815\n",
       "7       623\n",
       "23      412\n",
       "13      399\n",
       "14      372\n",
       "28      139\n",
       "8       108\n",
       "15       63\n",
       "24       48\n",
       "9        21\n",
       "17       14\n",
       "16       11\n",
       "19        8\n",
       "10        6\n",
       "27        5\n",
       "12        3\n",
       "20        2\n",
       "Name: count, dtype: int64"
      ]
     },
     "execution_count": 23,
     "metadata": {},
     "output_type": "execute_result"
    }
   ],
   "source": [
    "df['discharge_disposition_id'].value_counts()"
   ]
  },
  {
   "cell_type": "code",
   "execution_count": 24,
   "id": "3e6dce5e-41cf-4f39-a11c-98f2dc892a55",
   "metadata": {},
   "outputs": [
    {
     "data": {
      "text/plain": [
       "admission_source_id\n",
       "7     57494\n",
       "1     29565\n",
       "17     6781\n",
       "4      3187\n",
       "6      2264\n",
       "2      1104\n",
       "5       855\n",
       "3       187\n",
       "20      161\n",
       "9       125\n",
       "8        16\n",
       "22       12\n",
       "10        8\n",
       "14        2\n",
       "11        2\n",
       "25        2\n",
       "13        1\n",
       "Name: count, dtype: int64"
      ]
     },
     "execution_count": 24,
     "metadata": {},
     "output_type": "execute_result"
    }
   ],
   "source": [
    "df['admission_source_id'].value_counts()"
   ]
  },
  {
   "cell_type": "code",
   "execution_count": 25,
   "id": "e21d6ccc-9249-4c31-9cfd-880279b85468",
   "metadata": {
    "scrolled": true
   },
   "outputs": [
    {
     "data": {
      "text/plain": [
       "time_in_hospital\n",
       "3     17756\n",
       "2     17224\n",
       "1     14208\n",
       "4     13924\n",
       "5      9966\n",
       "6      7539\n",
       "7      5859\n",
       "8      4391\n",
       "9      3002\n",
       "10     2342\n",
       "11     1855\n",
       "12     1448\n",
       "13     1210\n",
       "14     1042\n",
       "Name: count, dtype: int64"
      ]
     },
     "execution_count": 25,
     "metadata": {},
     "output_type": "execute_result"
    }
   ],
   "source": [
    "df['time_in_hospital'].value_counts()"
   ]
  },
  {
   "cell_type": "code",
   "execution_count": 26,
   "id": "366fd5f0-a747-477c-8a73-7487b9868afe",
   "metadata": {},
   "outputs": [
    {
     "data": {
      "text/plain": [
       "payer_code\n",
       "MC    72695\n",
       "HM     6274\n",
       "SP     5007\n",
       "BC     4655\n",
       "MD     3532\n",
       "CP     2533\n",
       "UN     2448\n",
       "CM     1937\n",
       "OG     1033\n",
       "PO      592\n",
       "DM      549\n",
       "CH      146\n",
       "WC      135\n",
       "OT       95\n",
       "MP       79\n",
       "SI       55\n",
       "FR        1\n",
       "Name: count, dtype: int64"
      ]
     },
     "execution_count": 26,
     "metadata": {},
     "output_type": "execute_result"
    }
   ],
   "source": [
    "df['payer_code'].value_counts()"
   ]
  },
  {
   "cell_type": "code",
   "execution_count": 27,
   "id": "d48069df-56d7-46e0-baaa-d7a1d3e396da",
   "metadata": {},
   "outputs": [
    {
     "data": {
      "text/plain": [
       "medical_specialty\n",
       "InternalMedicine                    64584\n",
       "Emergency/Trauma                     7565\n",
       "Family/GeneralPractice               7440\n",
       "Cardiology                           5352\n",
       "Surgery-General                      3099\n",
       "                                    ...  \n",
       "Perinatology                            1\n",
       "Neurophysiology                         1\n",
       "Psychiatry-Addictive                    1\n",
       "Pediatrics-InfectiousDiseases           1\n",
       "Surgery-PlasticwithinHeadandNeck        1\n",
       "Name: count, Length: 72, dtype: int64"
      ]
     },
     "execution_count": 27,
     "metadata": {},
     "output_type": "execute_result"
    }
   ],
   "source": [
    "df['medical_specialty'].value_counts()"
   ]
  },
  {
   "cell_type": "code",
   "execution_count": 28,
   "id": "9a6976e8-2b82-407b-a39f-fb093983e349",
   "metadata": {},
   "outputs": [
    {
     "data": {
      "text/plain": [
       "num_lab_procedures\n",
       "1      3208\n",
       "43     2804\n",
       "44     2496\n",
       "45     2376\n",
       "38     2213\n",
       "       ... \n",
       "120       1\n",
       "132       1\n",
       "121       1\n",
       "126       1\n",
       "118       1\n",
       "Name: count, Length: 118, dtype: int64"
      ]
     },
     "execution_count": 28,
     "metadata": {},
     "output_type": "execute_result"
    }
   ],
   "source": [
    "df['num_lab_procedures'].value_counts()"
   ]
  },
  {
   "cell_type": "code",
   "execution_count": 29,
   "id": "d3e45574-1068-476a-8c21-ba3559fe909f",
   "metadata": {},
   "outputs": [
    {
     "data": {
      "text/plain": [
       "num_procedures\n",
       "0    46652\n",
       "1    20742\n",
       "2    12717\n",
       "3     9443\n",
       "6     4954\n",
       "4     4180\n",
       "5     3078\n",
       "Name: count, dtype: int64"
      ]
     },
     "execution_count": 29,
     "metadata": {},
     "output_type": "execute_result"
    }
   ],
   "source": [
    "df['num_procedures'].value_counts()"
   ]
  },
  {
   "cell_type": "code",
   "execution_count": 30,
   "id": "a7373bf4-7e44-411e-8ed5-ff363d03b63c",
   "metadata": {},
   "outputs": [
    {
     "data": {
      "text/plain": [
       "num_medications\n",
       "13    6086\n",
       "12    6004\n",
       "11    5795\n",
       "15    5792\n",
       "14    5707\n",
       "      ... \n",
       "70       2\n",
       "75       2\n",
       "81       1\n",
       "79       1\n",
       "74       1\n",
       "Name: count, Length: 75, dtype: int64"
      ]
     },
     "execution_count": 30,
     "metadata": {},
     "output_type": "execute_result"
    }
   ],
   "source": [
    "df['num_medications'].value_counts()"
   ]
  },
  {
   "cell_type": "code",
   "execution_count": 31,
   "id": "fe7128a8-a43b-4d3f-ad2d-b24f3e891c94",
   "metadata": {},
   "outputs": [
    {
     "data": {
      "text/plain": [
       "number_outpatient\n",
       "0     85027\n",
       "1      8547\n",
       "2      3594\n",
       "3      2042\n",
       "4      1099\n",
       "5       533\n",
       "6       303\n",
       "7       155\n",
       "8        98\n",
       "9        83\n",
       "10       57\n",
       "11       42\n",
       "13       31\n",
       "12       30\n",
       "14       28\n",
       "15       20\n",
       "16       15\n",
       "17        8\n",
       "21        7\n",
       "20        7\n",
       "18        5\n",
       "22        5\n",
       "19        3\n",
       "27        3\n",
       "24        3\n",
       "26        2\n",
       "23        2\n",
       "25        2\n",
       "33        2\n",
       "35        2\n",
       "36        2\n",
       "29        2\n",
       "34        1\n",
       "39        1\n",
       "42        1\n",
       "28        1\n",
       "37        1\n",
       "38        1\n",
       "40        1\n",
       "Name: count, dtype: int64"
      ]
     },
     "execution_count": 31,
     "metadata": {},
     "output_type": "execute_result"
    }
   ],
   "source": [
    "df['number_outpatient'].value_counts()"
   ]
  },
  {
   "cell_type": "code",
   "execution_count": 32,
   "id": "51f6a591-b14d-4223-831c-556515d856d0",
   "metadata": {},
   "outputs": [
    {
     "data": {
      "text/plain": [
       "number_emergency\n",
       "0     90383\n",
       "1      7677\n",
       "2      2042\n",
       "3       725\n",
       "4       374\n",
       "5       192\n",
       "6        94\n",
       "7        73\n",
       "8        50\n",
       "10       34\n",
       "9        33\n",
       "11       23\n",
       "13       12\n",
       "12       10\n",
       "22        6\n",
       "16        5\n",
       "18        5\n",
       "19        4\n",
       "20        4\n",
       "15        3\n",
       "14        3\n",
       "25        2\n",
       "21        2\n",
       "28        1\n",
       "42        1\n",
       "46        1\n",
       "76        1\n",
       "37        1\n",
       "64        1\n",
       "63        1\n",
       "54        1\n",
       "24        1\n",
       "29        1\n",
       "Name: count, dtype: int64"
      ]
     },
     "execution_count": 32,
     "metadata": {},
     "output_type": "execute_result"
    }
   ],
   "source": [
    "df['number_emergency'].value_counts()"
   ]
  },
  {
   "cell_type": "code",
   "execution_count": 33,
   "id": "5e64e42b-2043-461f-afcb-462fbe979dd1",
   "metadata": {},
   "outputs": [
    {
     "data": {
      "text/plain": [
       "number_inpatient\n",
       "0     67630\n",
       "1     19521\n",
       "2      7566\n",
       "3      3411\n",
       "4      1622\n",
       "5       812\n",
       "6       480\n",
       "7       268\n",
       "8       151\n",
       "9       111\n",
       "10       61\n",
       "11       49\n",
       "12       34\n",
       "13       20\n",
       "14       10\n",
       "15        9\n",
       "16        6\n",
       "19        2\n",
       "17        1\n",
       "21        1\n",
       "18        1\n",
       "Name: count, dtype: int64"
      ]
     },
     "execution_count": 33,
     "metadata": {},
     "output_type": "execute_result"
    }
   ],
   "source": [
    "df['number_inpatient'].value_counts()"
   ]
  },
  {
   "cell_type": "code",
   "execution_count": 34,
   "id": "b105c4c3-88d4-4ef7-8ba3-65efe8eafb34",
   "metadata": {},
   "outputs": [
    {
     "data": {
      "text/plain": [
       "diag_1\n",
       "428    6883\n",
       "414    6581\n",
       "786    4016\n",
       "410    3614\n",
       "486    3508\n",
       "       ... \n",
       "817       1\n",
       "61        1\n",
       "148       1\n",
       "870       1\n",
       "V51       1\n",
       "Name: count, Length: 716, dtype: int64"
      ]
     },
     "execution_count": 34,
     "metadata": {},
     "output_type": "execute_result"
    }
   ],
   "source": [
    "df['diag_1'].value_counts()"
   ]
  },
  {
   "cell_type": "code",
   "execution_count": 35,
   "id": "c71393fb-a278-435a-9464-1202dda6600b",
   "metadata": {},
   "outputs": [
    {
     "data": {
      "text/plain": [
       "diag_2\n",
       "276     7110\n",
       "428     6662\n",
       "250     6071\n",
       "427     5036\n",
       "401     3736\n",
       "        ... \n",
       "232        1\n",
       "908        1\n",
       "52         1\n",
       "E817       1\n",
       "927        1\n",
       "Name: count, Length: 748, dtype: int64"
      ]
     },
     "execution_count": 35,
     "metadata": {},
     "output_type": "execute_result"
    }
   ],
   "source": [
    "df['diag_2'].value_counts()"
   ]
  },
  {
   "cell_type": "code",
   "execution_count": 36,
   "id": "5d09b73b-621e-44cd-a401-b1cd8c7b2bcf",
   "metadata": {},
   "outputs": [
    {
     "data": {
      "text/plain": [
       "diag_3\n",
       "250     12978\n",
       "401      8289\n",
       "276      5175\n",
       "428      4577\n",
       "427      3955\n",
       "        ...  \n",
       "657         1\n",
       "684         1\n",
       "603         1\n",
       "E826        1\n",
       "971         1\n",
       "Name: count, Length: 789, dtype: int64"
      ]
     },
     "execution_count": 36,
     "metadata": {},
     "output_type": "execute_result"
    }
   ],
   "source": [
    "df['diag_3'].value_counts()"
   ]
  },
  {
   "cell_type": "code",
   "execution_count": 37,
   "id": "c6bb6eb6-bdee-4d8e-b425-c402acda7154",
   "metadata": {},
   "outputs": [
    {
     "data": {
      "text/plain": [
       "number_diagnoses\n",
       "9     49474\n",
       "5     11393\n",
       "8     10616\n",
       "7     10393\n",
       "6     10161\n",
       "4      5537\n",
       "3      2835\n",
       "2      1023\n",
       "1       219\n",
       "16       45\n",
       "10       17\n",
       "13       16\n",
       "11       11\n",
       "15       10\n",
       "12        9\n",
       "14        7\n",
       "Name: count, dtype: int64"
      ]
     },
     "execution_count": 37,
     "metadata": {},
     "output_type": "execute_result"
    }
   ],
   "source": [
    "df['number_diagnoses'].value_counts()"
   ]
  },
  {
   "cell_type": "code",
   "execution_count": 38,
   "id": "0eb68cae-7d4e-4a5d-a6c8-3dc4a9039bb6",
   "metadata": {},
   "outputs": [
    {
     "data": {
      "text/plain": [
       "max_glu_serum\n",
       "Norm    99017\n",
       ">200     1485\n",
       ">300     1264\n",
       "Name: count, dtype: int64"
      ]
     },
     "execution_count": 38,
     "metadata": {},
     "output_type": "execute_result"
    }
   ],
   "source": [
    "df['max_glu_serum'].value_counts()"
   ]
  },
  {
   "cell_type": "code",
   "execution_count": 39,
   "id": "5fc0c189-9c5e-46f2-9a74-88dd9039c9aa",
   "metadata": {},
   "outputs": [],
   "source": [
    "def label_max_glu_serum(value):\n",
    "    if pd.isnull(value) or value == 'None':\n",
    "        return 'None'\n",
    "    elif value == 'Norm':\n",
    "        return 'Normal'\n",
    "    elif value == '>200':\n",
    "        return 'Greater than 200'\n",
    "    elif value == '>300':\n",
    "        return 'Greater than 300'\n",
    "    else:\n",
    "        return 'Unknown'\n",
    "df['max_glu_serum'] = df['max_glu_serum'].apply(label_max_glu_serum)"
   ]
  },
  {
   "cell_type": "code",
   "execution_count": 40,
   "id": "b8ea238d-5b8d-4b68-ad23-440fe2bfe9e2",
   "metadata": {},
   "outputs": [
    {
     "data": {
      "text/plain": [
       "max_glu_serum\n",
       "Normal              99017\n",
       "Greater than 200     1485\n",
       "Greater than 300     1264\n",
       "Name: count, dtype: int64"
      ]
     },
     "execution_count": 40,
     "metadata": {},
     "output_type": "execute_result"
    }
   ],
   "source": [
    "df['max_glu_serum'].value_counts()"
   ]
  },
  {
   "cell_type": "code",
   "execution_count": 41,
   "id": "4d918f9f-efd2-4a5e-9c2a-5d27407ef77b",
   "metadata": {},
   "outputs": [
    {
     "data": {
      "text/plain": [
       "A1Cresult\n",
       ">8      92964\n",
       "Norm     4990\n",
       ">7       3812\n",
       "Name: count, dtype: int64"
      ]
     },
     "execution_count": 41,
     "metadata": {},
     "output_type": "execute_result"
    }
   ],
   "source": [
    "df['A1Cresult'].value_counts()"
   ]
  },
  {
   "cell_type": "code",
   "execution_count": 42,
   "id": "f9e288f8-dd0e-4805-9018-90ccf568eb8f",
   "metadata": {},
   "outputs": [],
   "source": [
    "def label_a1c_result(value):\n",
    "    if pd.isnull(value) or value == 'None':\n",
    "        return 'None'\n",
    "    elif value == 'Norm':\n",
    "        return 'Normal'\n",
    "    elif value == '>7':\n",
    "        return 'Greater than Seven'\n",
    "    elif value == '>8':\n",
    "        return 'Greater than Eight'\n",
    "    else:\n",
    "        return 'Unknown'\n",
    "df['A1Cresult'] = df['A1Cresult'].apply(label_a1c_result)"
   ]
  },
  {
   "cell_type": "code",
   "execution_count": 43,
   "id": "fa3429c3-a461-4165-a396-82f5b7aab5dc",
   "metadata": {},
   "outputs": [
    {
     "data": {
      "text/plain": [
       "A1Cresult\n",
       "Greater than Eight    92964\n",
       "Normal                 4990\n",
       "Greater than Seven     3812\n",
       "Name: count, dtype: int64"
      ]
     },
     "execution_count": 43,
     "metadata": {},
     "output_type": "execute_result"
    }
   ],
   "source": [
    "df['A1Cresult'].value_counts()"
   ]
  },
  {
   "cell_type": "code",
   "execution_count": 44,
   "id": "60b6d8cc-7aa7-4ba9-8060-8a796a5f10a8",
   "metadata": {},
   "outputs": [
    {
     "data": {
      "text/plain": [
       "metformin\n",
       "No        81778\n",
       "Steady    18346\n",
       "Up         1067\n",
       "Down        575\n",
       "Name: count, dtype: int64"
      ]
     },
     "execution_count": 44,
     "metadata": {},
     "output_type": "execute_result"
    }
   ],
   "source": [
    "df['metformin'].value_counts()"
   ]
  },
  {
   "cell_type": "code",
   "execution_count": 45,
   "id": "f1c1395f-d125-4290-bc14-576f5b0c047b",
   "metadata": {},
   "outputs": [
    {
     "data": {
      "text/plain": [
       "repaglinide\n",
       "No        100227\n",
       "Steady      1384\n",
       "Up           110\n",
       "Down          45\n",
       "Name: count, dtype: int64"
      ]
     },
     "execution_count": 45,
     "metadata": {},
     "output_type": "execute_result"
    }
   ],
   "source": [
    "df['repaglinide'].value_counts()"
   ]
  },
  {
   "cell_type": "code",
   "execution_count": 46,
   "id": "d01f43fa-9576-4741-a0c5-8efd1b74422e",
   "metadata": {},
   "outputs": [
    {
     "data": {
      "text/plain": [
       "nateglinide\n",
       "No        101063\n",
       "Steady       668\n",
       "Up            24\n",
       "Down          11\n",
       "Name: count, dtype: int64"
      ]
     },
     "execution_count": 46,
     "metadata": {},
     "output_type": "execute_result"
    }
   ],
   "source": [
    "df['nateglinide'].value_counts()"
   ]
  },
  {
   "cell_type": "code",
   "execution_count": 47,
   "id": "00a20be4-f606-4651-ac27-0111de259a36",
   "metadata": {},
   "outputs": [
    {
     "data": {
      "text/plain": [
       "chlorpropamide\n",
       "No        101680\n",
       "Steady        79\n",
       "Up             6\n",
       "Down           1\n",
       "Name: count, dtype: int64"
      ]
     },
     "execution_count": 47,
     "metadata": {},
     "output_type": "execute_result"
    }
   ],
   "source": [
    "df['chlorpropamide'].value_counts()"
   ]
  },
  {
   "cell_type": "code",
   "execution_count": 48,
   "id": "d1cd27e3-f48b-4ad1-95c1-899a83a5c2d4",
   "metadata": {},
   "outputs": [
    {
     "data": {
      "text/plain": [
       "glimepiride\n",
       "No        96575\n",
       "Steady     4670\n",
       "Up          327\n",
       "Down        194\n",
       "Name: count, dtype: int64"
      ]
     },
     "execution_count": 48,
     "metadata": {},
     "output_type": "execute_result"
    }
   ],
   "source": [
    "df['glimepiride'].value_counts()"
   ]
  },
  {
   "cell_type": "code",
   "execution_count": 49,
   "id": "0ef562ad-4ed6-4d86-aa6b-0607733209a4",
   "metadata": {},
   "outputs": [
    {
     "data": {
      "text/plain": [
       "acetohexamide\n",
       "No        101765\n",
       "Steady         1\n",
       "Name: count, dtype: int64"
      ]
     },
     "execution_count": 49,
     "metadata": {},
     "output_type": "execute_result"
    }
   ],
   "source": [
    "df['acetohexamide'].value_counts()"
   ]
  },
  {
   "cell_type": "code",
   "execution_count": 50,
   "id": "b05c6cff-7b67-4cc0-823b-8409ca361e09",
   "metadata": {},
   "outputs": [
    {
     "data": {
      "text/plain": [
       "glipizide\n",
       "No        89080\n",
       "Steady    11356\n",
       "Up          770\n",
       "Down        560\n",
       "Name: count, dtype: int64"
      ]
     },
     "execution_count": 50,
     "metadata": {},
     "output_type": "execute_result"
    }
   ],
   "source": [
    "df['glipizide'].value_counts()"
   ]
  },
  {
   "cell_type": "code",
   "execution_count": 51,
   "id": "1e3be197-d74f-4d2c-a747-39eff921ed5a",
   "metadata": {},
   "outputs": [
    {
     "data": {
      "text/plain": [
       "tolbutamide\n",
       "No        101743\n",
       "Steady        23\n",
       "Name: count, dtype: int64"
      ]
     },
     "execution_count": 51,
     "metadata": {},
     "output_type": "execute_result"
    }
   ],
   "source": [
    "df['tolbutamide'].value_counts()"
   ]
  },
  {
   "cell_type": "code",
   "execution_count": 52,
   "id": "7bf3d8f2-f386-4b75-9ce6-9a86675522af",
   "metadata": {},
   "outputs": [
    {
     "data": {
      "text/plain": [
       "pioglitazone\n",
       "No        94438\n",
       "Steady     6976\n",
       "Up          234\n",
       "Down        118\n",
       "Name: count, dtype: int64"
      ]
     },
     "execution_count": 52,
     "metadata": {},
     "output_type": "execute_result"
    }
   ],
   "source": [
    "df['pioglitazone'].value_counts()"
   ]
  },
  {
   "cell_type": "code",
   "execution_count": 53,
   "id": "6b88f1ca-30c7-40eb-ac1a-c4cbef1a86d0",
   "metadata": {},
   "outputs": [
    {
     "data": {
      "text/plain": [
       "rosiglitazone\n",
       "No        95401\n",
       "Steady     6100\n",
       "Up          178\n",
       "Down         87\n",
       "Name: count, dtype: int64"
      ]
     },
     "execution_count": 53,
     "metadata": {},
     "output_type": "execute_result"
    }
   ],
   "source": [
    "df['rosiglitazone'].value_counts()"
   ]
  },
  {
   "cell_type": "code",
   "execution_count": 54,
   "id": "c1b155f8-65f0-407f-a5b2-7b5bd6537218",
   "metadata": {},
   "outputs": [
    {
     "data": {
      "text/plain": [
       "acarbose\n",
       "No        101458\n",
       "Steady       295\n",
       "Up            10\n",
       "Down           3\n",
       "Name: count, dtype: int64"
      ]
     },
     "execution_count": 54,
     "metadata": {},
     "output_type": "execute_result"
    }
   ],
   "source": [
    "df['acarbose'].value_counts()"
   ]
  },
  {
   "cell_type": "code",
   "execution_count": 55,
   "id": "cba87b1c-68cf-455c-aec5-4bf58fd1b158",
   "metadata": {},
   "outputs": [
    {
     "data": {
      "text/plain": [
       "miglitol\n",
       "No        101728\n",
       "Steady        31\n",
       "Down           5\n",
       "Up             2\n",
       "Name: count, dtype: int64"
      ]
     },
     "execution_count": 55,
     "metadata": {},
     "output_type": "execute_result"
    }
   ],
   "source": [
    "df['miglitol'].value_counts()"
   ]
  },
  {
   "cell_type": "code",
   "execution_count": 56,
   "id": "5580cb2e-5e65-465b-bc70-7d91b0db0583",
   "metadata": {},
   "outputs": [
    {
     "data": {
      "text/plain": [
       "troglitazone\n",
       "No        101763\n",
       "Steady         3\n",
       "Name: count, dtype: int64"
      ]
     },
     "execution_count": 56,
     "metadata": {},
     "output_type": "execute_result"
    }
   ],
   "source": [
    "df['troglitazone'].value_counts()"
   ]
  },
  {
   "cell_type": "code",
   "execution_count": 57,
   "id": "38583ac8-b10f-4a9e-bfaf-1ef6640aaf44",
   "metadata": {},
   "outputs": [
    {
     "data": {
      "text/plain": [
       "tolazamide\n",
       "No        101727\n",
       "Steady        38\n",
       "Up             1\n",
       "Name: count, dtype: int64"
      ]
     },
     "execution_count": 57,
     "metadata": {},
     "output_type": "execute_result"
    }
   ],
   "source": [
    "df['tolazamide'].value_counts()"
   ]
  },
  {
   "cell_type": "code",
   "execution_count": 58,
   "id": "170be2ae-a594-4d7a-bfbd-74877811f548",
   "metadata": {},
   "outputs": [
    {
     "data": {
      "text/plain": [
       "examide\n",
       "No    101766\n",
       "Name: count, dtype: int64"
      ]
     },
     "execution_count": 58,
     "metadata": {},
     "output_type": "execute_result"
    }
   ],
   "source": [
    "df['examide'].value_counts()"
   ]
  },
  {
   "cell_type": "code",
   "execution_count": 59,
   "id": "780e2f68-b50c-4a02-affa-bf9e506786bf",
   "metadata": {},
   "outputs": [
    {
     "data": {
      "text/plain": [
       "citoglipton\n",
       "No    101766\n",
       "Name: count, dtype: int64"
      ]
     },
     "execution_count": 59,
     "metadata": {},
     "output_type": "execute_result"
    }
   ],
   "source": [
    "df['citoglipton'].value_counts()"
   ]
  },
  {
   "cell_type": "code",
   "execution_count": 60,
   "id": "ab2e3bbb-8b14-4fd6-ad83-8be29b9f15d8",
   "metadata": {},
   "outputs": [
    {
     "data": {
      "text/plain": [
       "insulin\n",
       "No        47383\n",
       "Steady    30849\n",
       "Down      12218\n",
       "Up        11316\n",
       "Name: count, dtype: int64"
      ]
     },
     "execution_count": 60,
     "metadata": {},
     "output_type": "execute_result"
    }
   ],
   "source": [
    "df['insulin'].value_counts()"
   ]
  },
  {
   "cell_type": "code",
   "execution_count": 61,
   "id": "07263a77-851c-46bf-acc8-3ae1c1c6a497",
   "metadata": {},
   "outputs": [
    {
     "data": {
      "text/plain": [
       "glyburide-metformin\n",
       "No        101060\n",
       "Steady       692\n",
       "Up             8\n",
       "Down           6\n",
       "Name: count, dtype: int64"
      ]
     },
     "execution_count": 61,
     "metadata": {},
     "output_type": "execute_result"
    }
   ],
   "source": [
    "df['glyburide-metformin'].value_counts()"
   ]
  },
  {
   "cell_type": "code",
   "execution_count": 62,
   "id": "3f9e81f7-a254-4dec-88a4-06f624550b46",
   "metadata": {},
   "outputs": [
    {
     "data": {
      "text/plain": [
       "glipizide-metformin\n",
       "No        101753\n",
       "Steady        13\n",
       "Name: count, dtype: int64"
      ]
     },
     "execution_count": 62,
     "metadata": {},
     "output_type": "execute_result"
    }
   ],
   "source": [
    "df['glipizide-metformin'].value_counts()"
   ]
  },
  {
   "cell_type": "code",
   "execution_count": 63,
   "id": "bd3ef62d-0c8d-4438-81f7-4ed94e199da6",
   "metadata": {},
   "outputs": [
    {
     "data": {
      "text/plain": [
       "glimepiride-pioglitazone\n",
       "No        101765\n",
       "Steady         1\n",
       "Name: count, dtype: int64"
      ]
     },
     "execution_count": 63,
     "metadata": {},
     "output_type": "execute_result"
    }
   ],
   "source": [
    "df['glimepiride-pioglitazone'].value_counts()"
   ]
  },
  {
   "cell_type": "code",
   "execution_count": 64,
   "id": "fc30610d-d17e-4a03-9624-87335f904cba",
   "metadata": {},
   "outputs": [
    {
     "data": {
      "text/plain": [
       "metformin-rosiglitazone\n",
       "No        101764\n",
       "Steady         2\n",
       "Name: count, dtype: int64"
      ]
     },
     "execution_count": 64,
     "metadata": {},
     "output_type": "execute_result"
    }
   ],
   "source": [
    "df['metformin-rosiglitazone'].value_counts()"
   ]
  },
  {
   "cell_type": "code",
   "execution_count": 65,
   "id": "a5d4bc0f-da7c-40fb-850a-a09773d2f4d1",
   "metadata": {},
   "outputs": [
    {
     "data": {
      "text/plain": [
       "metformin-pioglitazone\n",
       "No        101765\n",
       "Steady         1\n",
       "Name: count, dtype: int64"
      ]
     },
     "execution_count": 65,
     "metadata": {},
     "output_type": "execute_result"
    }
   ],
   "source": [
    "df['metformin-pioglitazone'].value_counts()"
   ]
  },
  {
   "cell_type": "code",
   "execution_count": 66,
   "id": "767a1f80-36a7-4a96-baca-4dc711ccc16f",
   "metadata": {},
   "outputs": [
    {
     "data": {
      "text/plain": [
       "change\n",
       "No    54755\n",
       "Ch    47011\n",
       "Name: count, dtype: int64"
      ]
     },
     "execution_count": 66,
     "metadata": {},
     "output_type": "execute_result"
    }
   ],
   "source": [
    "df['change'].value_counts()"
   ]
  },
  {
   "cell_type": "code",
   "execution_count": 67,
   "id": "5736253a-c9a4-4c97-af9d-abe9c10c75f5",
   "metadata": {},
   "outputs": [
    {
     "data": {
      "text/plain": [
       "diabetesMed\n",
       "Yes    78363\n",
       "No     23403\n",
       "Name: count, dtype: int64"
      ]
     },
     "execution_count": 67,
     "metadata": {},
     "output_type": "execute_result"
    }
   ],
   "source": [
    "df['diabetesMed'].value_counts()"
   ]
  },
  {
   "cell_type": "code",
   "execution_count": 68,
   "id": "cd24f94f-feda-4efc-9da1-273371c238c5",
   "metadata": {},
   "outputs": [
    {
     "data": {
      "text/plain": [
       "readmitted\n",
       "NO     54864\n",
       ">30    35545\n",
       "<30    11357\n",
       "Name: count, dtype: int64"
      ]
     },
     "execution_count": 68,
     "metadata": {},
     "output_type": "execute_result"
    }
   ],
   "source": [
    "df['readmitted'].value_counts()"
   ]
  },
  {
   "cell_type": "code",
   "execution_count": 69,
   "id": "62f95e34-c428-43e0-b29d-ea3b80335881",
   "metadata": {},
   "outputs": [],
   "source": [
    "def classify_readmission(x):\n",
    "    if x == 'NO':\n",
    "        return 'Greater than 30'\n",
    "    elif x == '>30':\n",
    "        return 'Lesser than 30'\n",
    "    elif x == '<30':\n",
    "        return 'Early Readmission'\n",
    "    else:\n",
    "        return 'Unknown'\n",
    "df['readmitted'] = df['readmitted'].apply(classify_readmission)"
   ]
  },
  {
   "cell_type": "code",
   "execution_count": 70,
   "id": "03b7546b-108f-4eaa-a681-3544101d2ea9",
   "metadata": {},
   "outputs": [
    {
     "data": {
      "text/plain": [
       "readmitted\n",
       "Greater than 30      54864\n",
       "Lesser than 30       35545\n",
       "Early Readmission    11357\n",
       "Name: count, dtype: int64"
      ]
     },
     "execution_count": 70,
     "metadata": {},
     "output_type": "execute_result"
    }
   ],
   "source": [
    "df['readmitted'].value_counts()"
   ]
  },
  {
   "cell_type": "code",
   "execution_count": 71,
   "id": "1ad74412-2f19-43ea-bbae-abd17a4b4c9b",
   "metadata": {
    "scrolled": true
   },
   "outputs": [
    {
     "data": {
      "text/html": [
       "<div>\n",
       "<style scoped>\n",
       "    .dataframe tbody tr th:only-of-type {\n",
       "        vertical-align: middle;\n",
       "    }\n",
       "\n",
       "    .dataframe tbody tr th {\n",
       "        vertical-align: top;\n",
       "    }\n",
       "\n",
       "    .dataframe thead th {\n",
       "        text-align: right;\n",
       "    }\n",
       "</style>\n",
       "<table border=\"1\" class=\"dataframe\">\n",
       "  <thead>\n",
       "    <tr style=\"text-align: right;\">\n",
       "      <th></th>\n",
       "      <th>encounter_id</th>\n",
       "      <th>patient_nbr</th>\n",
       "      <th>race</th>\n",
       "      <th>gender</th>\n",
       "      <th>age</th>\n",
       "      <th>weight</th>\n",
       "      <th>admission_type_id</th>\n",
       "      <th>discharge_disposition_id</th>\n",
       "      <th>admission_source_id</th>\n",
       "      <th>time_in_hospital</th>\n",
       "      <th>...</th>\n",
       "      <th>citoglipton</th>\n",
       "      <th>insulin</th>\n",
       "      <th>glyburide-metformin</th>\n",
       "      <th>glipizide-metformin</th>\n",
       "      <th>glimepiride-pioglitazone</th>\n",
       "      <th>metformin-rosiglitazone</th>\n",
       "      <th>metformin-pioglitazone</th>\n",
       "      <th>change</th>\n",
       "      <th>diabetesMed</th>\n",
       "      <th>readmitted</th>\n",
       "    </tr>\n",
       "  </thead>\n",
       "  <tbody>\n",
       "    <tr>\n",
       "      <th>0</th>\n",
       "      <td>2278392</td>\n",
       "      <td>8222157</td>\n",
       "      <td>Caucasian</td>\n",
       "      <td>Female</td>\n",
       "      <td>5.0</td>\n",
       "      <td>87.5</td>\n",
       "      <td>6</td>\n",
       "      <td>25</td>\n",
       "      <td>1</td>\n",
       "      <td>1</td>\n",
       "      <td>...</td>\n",
       "      <td>No</td>\n",
       "      <td>No</td>\n",
       "      <td>No</td>\n",
       "      <td>No</td>\n",
       "      <td>No</td>\n",
       "      <td>No</td>\n",
       "      <td>No</td>\n",
       "      <td>No</td>\n",
       "      <td>No</td>\n",
       "      <td>Greater than 30</td>\n",
       "    </tr>\n",
       "    <tr>\n",
       "      <th>1</th>\n",
       "      <td>149190</td>\n",
       "      <td>55629189</td>\n",
       "      <td>Caucasian</td>\n",
       "      <td>Female</td>\n",
       "      <td>15.0</td>\n",
       "      <td>87.5</td>\n",
       "      <td>1</td>\n",
       "      <td>1</td>\n",
       "      <td>7</td>\n",
       "      <td>3</td>\n",
       "      <td>...</td>\n",
       "      <td>No</td>\n",
       "      <td>Up</td>\n",
       "      <td>No</td>\n",
       "      <td>No</td>\n",
       "      <td>No</td>\n",
       "      <td>No</td>\n",
       "      <td>No</td>\n",
       "      <td>Ch</td>\n",
       "      <td>Yes</td>\n",
       "      <td>Lesser than 30</td>\n",
       "    </tr>\n",
       "    <tr>\n",
       "      <th>2</th>\n",
       "      <td>64410</td>\n",
       "      <td>86047875</td>\n",
       "      <td>AfricanAmerican</td>\n",
       "      <td>Female</td>\n",
       "      <td>25.0</td>\n",
       "      <td>87.5</td>\n",
       "      <td>1</td>\n",
       "      <td>1</td>\n",
       "      <td>7</td>\n",
       "      <td>2</td>\n",
       "      <td>...</td>\n",
       "      <td>No</td>\n",
       "      <td>No</td>\n",
       "      <td>No</td>\n",
       "      <td>No</td>\n",
       "      <td>No</td>\n",
       "      <td>No</td>\n",
       "      <td>No</td>\n",
       "      <td>No</td>\n",
       "      <td>Yes</td>\n",
       "      <td>Greater than 30</td>\n",
       "    </tr>\n",
       "    <tr>\n",
       "      <th>3</th>\n",
       "      <td>500364</td>\n",
       "      <td>82442376</td>\n",
       "      <td>Caucasian</td>\n",
       "      <td>Male</td>\n",
       "      <td>35.0</td>\n",
       "      <td>87.5</td>\n",
       "      <td>1</td>\n",
       "      <td>1</td>\n",
       "      <td>7</td>\n",
       "      <td>2</td>\n",
       "      <td>...</td>\n",
       "      <td>No</td>\n",
       "      <td>Up</td>\n",
       "      <td>No</td>\n",
       "      <td>No</td>\n",
       "      <td>No</td>\n",
       "      <td>No</td>\n",
       "      <td>No</td>\n",
       "      <td>Ch</td>\n",
       "      <td>Yes</td>\n",
       "      <td>Greater than 30</td>\n",
       "    </tr>\n",
       "    <tr>\n",
       "      <th>4</th>\n",
       "      <td>16680</td>\n",
       "      <td>42519267</td>\n",
       "      <td>Caucasian</td>\n",
       "      <td>Male</td>\n",
       "      <td>45.0</td>\n",
       "      <td>87.5</td>\n",
       "      <td>1</td>\n",
       "      <td>1</td>\n",
       "      <td>7</td>\n",
       "      <td>1</td>\n",
       "      <td>...</td>\n",
       "      <td>No</td>\n",
       "      <td>Steady</td>\n",
       "      <td>No</td>\n",
       "      <td>No</td>\n",
       "      <td>No</td>\n",
       "      <td>No</td>\n",
       "      <td>No</td>\n",
       "      <td>Ch</td>\n",
       "      <td>Yes</td>\n",
       "      <td>Greater than 30</td>\n",
       "    </tr>\n",
       "    <tr>\n",
       "      <th>5</th>\n",
       "      <td>35754</td>\n",
       "      <td>82637451</td>\n",
       "      <td>Caucasian</td>\n",
       "      <td>Male</td>\n",
       "      <td>55.0</td>\n",
       "      <td>87.5</td>\n",
       "      <td>2</td>\n",
       "      <td>1</td>\n",
       "      <td>2</td>\n",
       "      <td>3</td>\n",
       "      <td>...</td>\n",
       "      <td>No</td>\n",
       "      <td>Steady</td>\n",
       "      <td>No</td>\n",
       "      <td>No</td>\n",
       "      <td>No</td>\n",
       "      <td>No</td>\n",
       "      <td>No</td>\n",
       "      <td>No</td>\n",
       "      <td>Yes</td>\n",
       "      <td>Lesser than 30</td>\n",
       "    </tr>\n",
       "    <tr>\n",
       "      <th>6</th>\n",
       "      <td>55842</td>\n",
       "      <td>84259809</td>\n",
       "      <td>Caucasian</td>\n",
       "      <td>Male</td>\n",
       "      <td>65.0</td>\n",
       "      <td>87.5</td>\n",
       "      <td>3</td>\n",
       "      <td>1</td>\n",
       "      <td>2</td>\n",
       "      <td>4</td>\n",
       "      <td>...</td>\n",
       "      <td>No</td>\n",
       "      <td>Steady</td>\n",
       "      <td>No</td>\n",
       "      <td>No</td>\n",
       "      <td>No</td>\n",
       "      <td>No</td>\n",
       "      <td>No</td>\n",
       "      <td>Ch</td>\n",
       "      <td>Yes</td>\n",
       "      <td>Greater than 30</td>\n",
       "    </tr>\n",
       "    <tr>\n",
       "      <th>7</th>\n",
       "      <td>63768</td>\n",
       "      <td>114882984</td>\n",
       "      <td>Caucasian</td>\n",
       "      <td>Male</td>\n",
       "      <td>75.0</td>\n",
       "      <td>87.5</td>\n",
       "      <td>1</td>\n",
       "      <td>1</td>\n",
       "      <td>7</td>\n",
       "      <td>5</td>\n",
       "      <td>...</td>\n",
       "      <td>No</td>\n",
       "      <td>No</td>\n",
       "      <td>No</td>\n",
       "      <td>No</td>\n",
       "      <td>No</td>\n",
       "      <td>No</td>\n",
       "      <td>No</td>\n",
       "      <td>No</td>\n",
       "      <td>Yes</td>\n",
       "      <td>Lesser than 30</td>\n",
       "    </tr>\n",
       "    <tr>\n",
       "      <th>8</th>\n",
       "      <td>12522</td>\n",
       "      <td>48330783</td>\n",
       "      <td>Caucasian</td>\n",
       "      <td>Female</td>\n",
       "      <td>85.0</td>\n",
       "      <td>87.5</td>\n",
       "      <td>2</td>\n",
       "      <td>1</td>\n",
       "      <td>4</td>\n",
       "      <td>13</td>\n",
       "      <td>...</td>\n",
       "      <td>No</td>\n",
       "      <td>Steady</td>\n",
       "      <td>No</td>\n",
       "      <td>No</td>\n",
       "      <td>No</td>\n",
       "      <td>No</td>\n",
       "      <td>No</td>\n",
       "      <td>Ch</td>\n",
       "      <td>Yes</td>\n",
       "      <td>Greater than 30</td>\n",
       "    </tr>\n",
       "    <tr>\n",
       "      <th>9</th>\n",
       "      <td>15738</td>\n",
       "      <td>63555939</td>\n",
       "      <td>Caucasian</td>\n",
       "      <td>Female</td>\n",
       "      <td>95.0</td>\n",
       "      <td>87.5</td>\n",
       "      <td>3</td>\n",
       "      <td>3</td>\n",
       "      <td>4</td>\n",
       "      <td>12</td>\n",
       "      <td>...</td>\n",
       "      <td>No</td>\n",
       "      <td>Steady</td>\n",
       "      <td>No</td>\n",
       "      <td>No</td>\n",
       "      <td>No</td>\n",
       "      <td>No</td>\n",
       "      <td>No</td>\n",
       "      <td>Ch</td>\n",
       "      <td>Yes</td>\n",
       "      <td>Greater than 30</td>\n",
       "    </tr>\n",
       "    <tr>\n",
       "      <th>10</th>\n",
       "      <td>28236</td>\n",
       "      <td>89869032</td>\n",
       "      <td>AfricanAmerican</td>\n",
       "      <td>Female</td>\n",
       "      <td>45.0</td>\n",
       "      <td>87.5</td>\n",
       "      <td>1</td>\n",
       "      <td>1</td>\n",
       "      <td>7</td>\n",
       "      <td>9</td>\n",
       "      <td>...</td>\n",
       "      <td>No</td>\n",
       "      <td>Steady</td>\n",
       "      <td>No</td>\n",
       "      <td>No</td>\n",
       "      <td>No</td>\n",
       "      <td>No</td>\n",
       "      <td>No</td>\n",
       "      <td>No</td>\n",
       "      <td>Yes</td>\n",
       "      <td>Lesser than 30</td>\n",
       "    </tr>\n",
       "    <tr>\n",
       "      <th>11</th>\n",
       "      <td>36900</td>\n",
       "      <td>77391171</td>\n",
       "      <td>AfricanAmerican</td>\n",
       "      <td>Male</td>\n",
       "      <td>65.0</td>\n",
       "      <td>87.5</td>\n",
       "      <td>2</td>\n",
       "      <td>1</td>\n",
       "      <td>4</td>\n",
       "      <td>7</td>\n",
       "      <td>...</td>\n",
       "      <td>No</td>\n",
       "      <td>Steady</td>\n",
       "      <td>No</td>\n",
       "      <td>No</td>\n",
       "      <td>No</td>\n",
       "      <td>No</td>\n",
       "      <td>No</td>\n",
       "      <td>Ch</td>\n",
       "      <td>Yes</td>\n",
       "      <td>Early Readmission</td>\n",
       "    </tr>\n",
       "    <tr>\n",
       "      <th>12</th>\n",
       "      <td>40926</td>\n",
       "      <td>85504905</td>\n",
       "      <td>Caucasian</td>\n",
       "      <td>Female</td>\n",
       "      <td>45.0</td>\n",
       "      <td>87.5</td>\n",
       "      <td>1</td>\n",
       "      <td>3</td>\n",
       "      <td>7</td>\n",
       "      <td>7</td>\n",
       "      <td>...</td>\n",
       "      <td>No</td>\n",
       "      <td>Down</td>\n",
       "      <td>No</td>\n",
       "      <td>No</td>\n",
       "      <td>No</td>\n",
       "      <td>No</td>\n",
       "      <td>No</td>\n",
       "      <td>Ch</td>\n",
       "      <td>Yes</td>\n",
       "      <td>Early Readmission</td>\n",
       "    </tr>\n",
       "    <tr>\n",
       "      <th>13</th>\n",
       "      <td>42570</td>\n",
       "      <td>77586282</td>\n",
       "      <td>Caucasian</td>\n",
       "      <td>Male</td>\n",
       "      <td>85.0</td>\n",
       "      <td>87.5</td>\n",
       "      <td>1</td>\n",
       "      <td>6</td>\n",
       "      <td>7</td>\n",
       "      <td>10</td>\n",
       "      <td>...</td>\n",
       "      <td>No</td>\n",
       "      <td>Steady</td>\n",
       "      <td>No</td>\n",
       "      <td>No</td>\n",
       "      <td>No</td>\n",
       "      <td>No</td>\n",
       "      <td>No</td>\n",
       "      <td>No</td>\n",
       "      <td>Yes</td>\n",
       "      <td>Greater than 30</td>\n",
       "    </tr>\n",
       "    <tr>\n",
       "      <th>14</th>\n",
       "      <td>62256</td>\n",
       "      <td>49726791</td>\n",
       "      <td>AfricanAmerican</td>\n",
       "      <td>Female</td>\n",
       "      <td>65.0</td>\n",
       "      <td>87.5</td>\n",
       "      <td>3</td>\n",
       "      <td>1</td>\n",
       "      <td>2</td>\n",
       "      <td>1</td>\n",
       "      <td>...</td>\n",
       "      <td>No</td>\n",
       "      <td>Steady</td>\n",
       "      <td>No</td>\n",
       "      <td>No</td>\n",
       "      <td>No</td>\n",
       "      <td>No</td>\n",
       "      <td>No</td>\n",
       "      <td>No</td>\n",
       "      <td>Yes</td>\n",
       "      <td>Lesser than 30</td>\n",
       "    </tr>\n",
       "    <tr>\n",
       "      <th>15</th>\n",
       "      <td>73578</td>\n",
       "      <td>86328819</td>\n",
       "      <td>AfricanAmerican</td>\n",
       "      <td>Male</td>\n",
       "      <td>65.0</td>\n",
       "      <td>87.5</td>\n",
       "      <td>1</td>\n",
       "      <td>3</td>\n",
       "      <td>7</td>\n",
       "      <td>12</td>\n",
       "      <td>...</td>\n",
       "      <td>No</td>\n",
       "      <td>Up</td>\n",
       "      <td>No</td>\n",
       "      <td>No</td>\n",
       "      <td>No</td>\n",
       "      <td>No</td>\n",
       "      <td>No</td>\n",
       "      <td>Ch</td>\n",
       "      <td>Yes</td>\n",
       "      <td>Greater than 30</td>\n",
       "    </tr>\n",
       "    <tr>\n",
       "      <th>16</th>\n",
       "      <td>77076</td>\n",
       "      <td>92519352</td>\n",
       "      <td>AfricanAmerican</td>\n",
       "      <td>Male</td>\n",
       "      <td>55.0</td>\n",
       "      <td>87.5</td>\n",
       "      <td>1</td>\n",
       "      <td>1</td>\n",
       "      <td>7</td>\n",
       "      <td>4</td>\n",
       "      <td>...</td>\n",
       "      <td>No</td>\n",
       "      <td>Steady</td>\n",
       "      <td>No</td>\n",
       "      <td>No</td>\n",
       "      <td>No</td>\n",
       "      <td>No</td>\n",
       "      <td>No</td>\n",
       "      <td>Ch</td>\n",
       "      <td>Yes</td>\n",
       "      <td>Early Readmission</td>\n",
       "    </tr>\n",
       "    <tr>\n",
       "      <th>17</th>\n",
       "      <td>84222</td>\n",
       "      <td>108662661</td>\n",
       "      <td>Caucasian</td>\n",
       "      <td>Female</td>\n",
       "      <td>55.0</td>\n",
       "      <td>87.5</td>\n",
       "      <td>1</td>\n",
       "      <td>1</td>\n",
       "      <td>7</td>\n",
       "      <td>3</td>\n",
       "      <td>...</td>\n",
       "      <td>No</td>\n",
       "      <td>No</td>\n",
       "      <td>No</td>\n",
       "      <td>No</td>\n",
       "      <td>No</td>\n",
       "      <td>No</td>\n",
       "      <td>No</td>\n",
       "      <td>No</td>\n",
       "      <td>Yes</td>\n",
       "      <td>Greater than 30</td>\n",
       "    </tr>\n",
       "    <tr>\n",
       "      <th>18</th>\n",
       "      <td>89682</td>\n",
       "      <td>107389323</td>\n",
       "      <td>AfricanAmerican</td>\n",
       "      <td>Male</td>\n",
       "      <td>75.0</td>\n",
       "      <td>87.5</td>\n",
       "      <td>1</td>\n",
       "      <td>1</td>\n",
       "      <td>7</td>\n",
       "      <td>5</td>\n",
       "      <td>...</td>\n",
       "      <td>No</td>\n",
       "      <td>Steady</td>\n",
       "      <td>No</td>\n",
       "      <td>No</td>\n",
       "      <td>No</td>\n",
       "      <td>No</td>\n",
       "      <td>No</td>\n",
       "      <td>No</td>\n",
       "      <td>Yes</td>\n",
       "      <td>Lesser than 30</td>\n",
       "    </tr>\n",
       "    <tr>\n",
       "      <th>19</th>\n",
       "      <td>148530</td>\n",
       "      <td>69422211</td>\n",
       "      <td>Caucasian</td>\n",
       "      <td>Male</td>\n",
       "      <td>75.0</td>\n",
       "      <td>87.5</td>\n",
       "      <td>3</td>\n",
       "      <td>6</td>\n",
       "      <td>2</td>\n",
       "      <td>6</td>\n",
       "      <td>...</td>\n",
       "      <td>No</td>\n",
       "      <td>Steady</td>\n",
       "      <td>No</td>\n",
       "      <td>No</td>\n",
       "      <td>No</td>\n",
       "      <td>No</td>\n",
       "      <td>No</td>\n",
       "      <td>Ch</td>\n",
       "      <td>Yes</td>\n",
       "      <td>Greater than 30</td>\n",
       "    </tr>\n",
       "  </tbody>\n",
       "</table>\n",
       "<p>20 rows × 50 columns</p>\n",
       "</div>"
      ],
      "text/plain": [
       "    encounter_id  patient_nbr             race  gender   age  weight  \\\n",
       "0        2278392      8222157        Caucasian  Female   5.0    87.5   \n",
       "1         149190     55629189        Caucasian  Female  15.0    87.5   \n",
       "2          64410     86047875  AfricanAmerican  Female  25.0    87.5   \n",
       "3         500364     82442376        Caucasian    Male  35.0    87.5   \n",
       "4          16680     42519267        Caucasian    Male  45.0    87.5   \n",
       "5          35754     82637451        Caucasian    Male  55.0    87.5   \n",
       "6          55842     84259809        Caucasian    Male  65.0    87.5   \n",
       "7          63768    114882984        Caucasian    Male  75.0    87.5   \n",
       "8          12522     48330783        Caucasian  Female  85.0    87.5   \n",
       "9          15738     63555939        Caucasian  Female  95.0    87.5   \n",
       "10         28236     89869032  AfricanAmerican  Female  45.0    87.5   \n",
       "11         36900     77391171  AfricanAmerican    Male  65.0    87.5   \n",
       "12         40926     85504905        Caucasian  Female  45.0    87.5   \n",
       "13         42570     77586282        Caucasian    Male  85.0    87.5   \n",
       "14         62256     49726791  AfricanAmerican  Female  65.0    87.5   \n",
       "15         73578     86328819  AfricanAmerican    Male  65.0    87.5   \n",
       "16         77076     92519352  AfricanAmerican    Male  55.0    87.5   \n",
       "17         84222    108662661        Caucasian  Female  55.0    87.5   \n",
       "18         89682    107389323  AfricanAmerican    Male  75.0    87.5   \n",
       "19        148530     69422211        Caucasian    Male  75.0    87.5   \n",
       "\n",
       "    admission_type_id  discharge_disposition_id  admission_source_id  \\\n",
       "0                   6                        25                    1   \n",
       "1                   1                         1                    7   \n",
       "2                   1                         1                    7   \n",
       "3                   1                         1                    7   \n",
       "4                   1                         1                    7   \n",
       "5                   2                         1                    2   \n",
       "6                   3                         1                    2   \n",
       "7                   1                         1                    7   \n",
       "8                   2                         1                    4   \n",
       "9                   3                         3                    4   \n",
       "10                  1                         1                    7   \n",
       "11                  2                         1                    4   \n",
       "12                  1                         3                    7   \n",
       "13                  1                         6                    7   \n",
       "14                  3                         1                    2   \n",
       "15                  1                         3                    7   \n",
       "16                  1                         1                    7   \n",
       "17                  1                         1                    7   \n",
       "18                  1                         1                    7   \n",
       "19                  3                         6                    2   \n",
       "\n",
       "    time_in_hospital  ... citoglipton insulin  glyburide-metformin  \\\n",
       "0                  1  ...          No      No                   No   \n",
       "1                  3  ...          No      Up                   No   \n",
       "2                  2  ...          No      No                   No   \n",
       "3                  2  ...          No      Up                   No   \n",
       "4                  1  ...          No  Steady                   No   \n",
       "5                  3  ...          No  Steady                   No   \n",
       "6                  4  ...          No  Steady                   No   \n",
       "7                  5  ...          No      No                   No   \n",
       "8                 13  ...          No  Steady                   No   \n",
       "9                 12  ...          No  Steady                   No   \n",
       "10                 9  ...          No  Steady                   No   \n",
       "11                 7  ...          No  Steady                   No   \n",
       "12                 7  ...          No    Down                   No   \n",
       "13                10  ...          No  Steady                   No   \n",
       "14                 1  ...          No  Steady                   No   \n",
       "15                12  ...          No      Up                   No   \n",
       "16                 4  ...          No  Steady                   No   \n",
       "17                 3  ...          No      No                   No   \n",
       "18                 5  ...          No  Steady                   No   \n",
       "19                 6  ...          No  Steady                   No   \n",
       "\n",
       "    glipizide-metformin  glimepiride-pioglitazone  metformin-rosiglitazone  \\\n",
       "0                    No                        No                       No   \n",
       "1                    No                        No                       No   \n",
       "2                    No                        No                       No   \n",
       "3                    No                        No                       No   \n",
       "4                    No                        No                       No   \n",
       "5                    No                        No                       No   \n",
       "6                    No                        No                       No   \n",
       "7                    No                        No                       No   \n",
       "8                    No                        No                       No   \n",
       "9                    No                        No                       No   \n",
       "10                   No                        No                       No   \n",
       "11                   No                        No                       No   \n",
       "12                   No                        No                       No   \n",
       "13                   No                        No                       No   \n",
       "14                   No                        No                       No   \n",
       "15                   No                        No                       No   \n",
       "16                   No                        No                       No   \n",
       "17                   No                        No                       No   \n",
       "18                   No                        No                       No   \n",
       "19                   No                        No                       No   \n",
       "\n",
       "    metformin-pioglitazone  change diabetesMed         readmitted  \n",
       "0                       No      No          No    Greater than 30  \n",
       "1                       No      Ch         Yes     Lesser than 30  \n",
       "2                       No      No         Yes    Greater than 30  \n",
       "3                       No      Ch         Yes    Greater than 30  \n",
       "4                       No      Ch         Yes    Greater than 30  \n",
       "5                       No      No         Yes     Lesser than 30  \n",
       "6                       No      Ch         Yes    Greater than 30  \n",
       "7                       No      No         Yes     Lesser than 30  \n",
       "8                       No      Ch         Yes    Greater than 30  \n",
       "9                       No      Ch         Yes    Greater than 30  \n",
       "10                      No      No         Yes     Lesser than 30  \n",
       "11                      No      Ch         Yes  Early Readmission  \n",
       "12                      No      Ch         Yes  Early Readmission  \n",
       "13                      No      No         Yes    Greater than 30  \n",
       "14                      No      No         Yes     Lesser than 30  \n",
       "15                      No      Ch         Yes    Greater than 30  \n",
       "16                      No      Ch         Yes  Early Readmission  \n",
       "17                      No      No         Yes    Greater than 30  \n",
       "18                      No      No         Yes     Lesser than 30  \n",
       "19                      No      Ch         Yes    Greater than 30  \n",
       "\n",
       "[20 rows x 50 columns]"
      ]
     },
     "execution_count": 71,
     "metadata": {},
     "output_type": "execute_result"
    }
   ],
   "source": [
    "df.head(20)"
   ]
  },
  {
   "cell_type": "code",
   "execution_count": 72,
   "id": "cc72dc9a-3045-4d52-976b-9a6b922e8638",
   "metadata": {},
   "outputs": [
    {
     "data": {
      "text/plain": [
       "Index(['encounter_id', 'patient_nbr', 'race', 'gender', 'age', 'weight',\n",
       "       'admission_type_id', 'discharge_disposition_id', 'admission_source_id',\n",
       "       'time_in_hospital', 'payer_code', 'medical_specialty',\n",
       "       'num_lab_procedures', 'num_procedures', 'num_medications',\n",
       "       'number_outpatient', 'number_emergency', 'number_inpatient', 'diag_1',\n",
       "       'diag_2', 'diag_3', 'number_diagnoses', 'max_glu_serum', 'A1Cresult',\n",
       "       'metformin', 'repaglinide', 'nateglinide', 'chlorpropamide',\n",
       "       'glimepiride', 'acetohexamide', 'glipizide', 'glyburide', 'tolbutamide',\n",
       "       'pioglitazone', 'rosiglitazone', 'acarbose', 'miglitol', 'troglitazone',\n",
       "       'tolazamide', 'examide', 'citoglipton', 'insulin',\n",
       "       'glyburide-metformin', 'glipizide-metformin',\n",
       "       'glimepiride-pioglitazone', 'metformin-rosiglitazone',\n",
       "       'metformin-pioglitazone', 'change', 'diabetesMed', 'readmitted'],\n",
       "      dtype='object')"
      ]
     },
     "execution_count": 72,
     "metadata": {},
     "output_type": "execute_result"
    }
   ],
   "source": [
    "df.columns"
   ]
  },
  {
   "cell_type": "markdown",
   "id": "8a71cf5d-eb2f-439c-bf1c-e1b687f81f9b",
   "metadata": {},
   "source": [
    "# 1. Readmission & Risk Factors"
   ]
  },
  {
   "cell_type": "markdown",
   "id": "e24a7e76-efed-4f0a-8570-36d354b8af52",
   "metadata": {},
   "source": [
    "## Which variables are most predictive of early readmission (within 30 days)?"
   ]
  },
  {
   "cell_type": "code",
   "execution_count": 73,
   "id": "330ac065-c424-4574-bd4d-59e85d9a2e09",
   "metadata": {},
   "outputs": [
    {
     "name": "stdout",
     "output_type": "stream",
     "text": [
      "age: correlation = 0.018\n",
      "weight: correlation = -0.004\n",
      "num_lab_procedures: correlation = 0.020\n",
      "num_procedures: correlation = -0.012\n",
      "num_medications: correlation = 0.038\n",
      "number_outpatient: correlation = 0.019\n",
      "number_emergency: correlation = 0.061\n",
      "number_inpatient: correlation = 0.165\n",
      "number_diagnoses: correlation = 0.050\n",
      "time_in_hospital: correlation = 0.044\n"
     ]
    }
   ],
   "source": [
    "df['early_readmit'] = df['readmitted'].apply(lambda x: 1 if x == 'Early Readmission' else 0)\n",
    "numerical_cols = ['age', 'weight', 'num_lab_procedures', 'num_procedures',\n",
    "                  'num_medications', 'number_outpatient', 'number_emergency',\n",
    "                  'number_inpatient', 'number_diagnoses', 'time_in_hospital']\n",
    "for col in numerical_cols:\n",
    "    corr, pval = pointbiserialr(df[col], df['early_readmit'])\n",
    "    print(f\"{col}: correlation = {corr:.3f}\")"
   ]
  },
  {
   "cell_type": "markdown",
   "id": "013be44e-10f3-4e3c-a37b-13d14c32682b",
   "metadata": {},
   "source": [
    "### Number_inpatient: correlation = 0.165"
   ]
  },
  {
   "cell_type": "markdown",
   "id": "2dbad00a-2da0-4e23-9ae2-9b8f48723f37",
   "metadata": {},
   "source": [
    "## What percentage of diabetic patients are readmitted within 30 days?"
   ]
  },
  {
   "cell_type": "code",
   "execution_count": 74,
   "id": "dca6c7a7-713f-4658-adef-8db80b7c8e65",
   "metadata": {},
   "outputs": [
    {
     "name": "stdout",
     "output_type": "stream",
     "text": [
      "Early Readmission Rate: 11.16%\n"
     ]
    }
   ],
   "source": [
    "early_readmitted_count = (df['readmitted'] == 'Early Readmission').sum()\n",
    "total_patients = len(df)\n",
    "percentage = (early_readmitted_count / total_patients) * 100\n",
    "print(f\"Early Readmission Rate: {percentage:.2f}%\")"
   ]
  },
  {
   "cell_type": "markdown",
   "id": "5454a82c-3097-4e15-9643-86709737f819",
   "metadata": {},
   "source": [
    "### Early Readmission Rate: 11.16%"
   ]
  },
  {
   "cell_type": "markdown",
   "id": "3d95f816-7ce7-46fb-8655-a0e0ccdf73d6",
   "metadata": {},
   "source": [
    "### How does the number of inpatient/emergency/outpatient visits affect readmission risk?"
   ]
  },
  {
   "cell_type": "markdown",
   "id": "0d39c3dd-5d3a-489a-aabc-b9fc4898dd48",
   "metadata": {},
   "source": [
    "### Number_outpatient: correlation = 0.019\n",
    "### Number_emergency: correlation = 0.061\n",
    "### Number_inpatient: correlation = 0.165"
   ]
  },
  {
   "cell_type": "markdown",
   "id": "a759e963-7019-4e3c-a5ec-3f38af8e609a",
   "metadata": {},
   "source": [
    "## Do patients with abnormal A1C or max glucose serum levels have higher readmission rates?"
   ]
  },
  {
   "cell_type": "code",
   "execution_count": 75,
   "id": "b61dc6ba-0587-4659-972b-66b5a2987db5",
   "metadata": {},
   "outputs": [
    {
     "name": "stdout",
     "output_type": "stream",
     "text": [
      "readmitted          Early Readmission\n",
      "A1Cresult                            \n",
      "Greater than Eight           0.112861\n",
      "Greater than Seven           0.100472\n",
      "Normal                       0.096593\n"
     ]
    }
   ],
   "source": [
    "a1c_readmit = df.groupby('A1Cresult')['readmitted'].value_counts(normalize=True).unstack()\n",
    "print(a1c_readmit[['Early Readmission']].sort_values('Early Readmission', ascending=False))"
   ]
  },
  {
   "cell_type": "code",
   "execution_count": 76,
   "id": "e28ca64b-8481-4963-8e09-7f32c75aa5bf",
   "metadata": {},
   "outputs": [
    {
     "name": "stdout",
     "output_type": "stream",
     "text": [
      "readmitted        Early Readmission\n",
      "max_glu_serum                      \n",
      "Greater than 300           0.143196\n",
      "Greater than 200           0.124579\n",
      "Normal                     0.111001\n"
     ]
    }
   ],
   "source": [
    "glu_readmit = df.groupby('max_glu_serum')['readmitted'].value_counts(normalize=True).unstack()\n",
    "print(glu_readmit[['Early Readmission']].sort_values('Early Readmission', ascending=False))"
   ]
  },
  {
   "cell_type": "markdown",
   "id": "2d2192ca-bf90-46f2-8246-cd33a6466344",
   "metadata": {},
   "source": [
    "### Yes patients with abnormal A1C or max glucose serum levels have higher readmission rates"
   ]
  },
  {
   "cell_type": "markdown",
   "id": "9caa74c8-df52-4b50-8074-bcfee51ae01f",
   "metadata": {},
   "source": [
    "## What percentage of patients were readmitted within 30 days?"
   ]
  },
  {
   "cell_type": "code",
   "execution_count": 78,
   "id": "5021568e-6407-44f6-bcdf-61eafc1b35d2",
   "metadata": {},
   "outputs": [
    {
     "name": "stdout",
     "output_type": "stream",
     "text": [
      "Percentage of patients readmitted within 30 days: 11.16%\n"
     ]
    }
   ],
   "source": [
    "early_readmit_count = (df['readmitted'] == 'Early Readmission').sum()\n",
    "total_count = len(df)\n",
    "percentage = (early_readmit_count / total_count) * 100\n",
    "print(f\"Percentage of patients readmitted within 30 days: {percentage:.2f}%\")"
   ]
  },
  {
   "cell_type": "markdown",
   "id": "0953f685-fe88-429a-8536-05c8cade2710",
   "metadata": {},
   "source": [
    "## What features are the strongest predictors of early readmission?"
   ]
  },
  {
   "cell_type": "code",
   "execution_count": null,
   "id": "3c0ab423-96a2-4429-886f-fb42f91cb860",
   "metadata": {},
   "outputs": [],
   "source": []
  },
  {
   "cell_type": "markdown",
   "id": "cc69f1fb-a587-4522-9433-99854a69d219",
   "metadata": {},
   "source": [
    "## \tHow does the number of prior inpatient visits correlate with readmission?"
   ]
  },
  {
   "cell_type": "code",
   "execution_count": null,
   "id": "40dcde79-90cf-4230-95f4-7a0b4122ec99",
   "metadata": {},
   "outputs": [],
   "source": []
  },
  {
   "cell_type": "markdown",
   "id": "274a6488-b338-4a96-aa56-c3be4b08303f",
   "metadata": {},
   "source": [
    "## Is there a threshold of emergency visits that significantly increases readmission likelihood?"
   ]
  },
  {
   "cell_type": "code",
   "execution_count": null,
   "id": "ffb97d0d-92e4-4896-8d6b-3208cdb77a57",
   "metadata": {},
   "outputs": [],
   "source": []
  },
  {
   "cell_type": "markdown",
   "id": "cdb0dcc4-b035-4d42-867b-10cb057323c0",
   "metadata": {},
   "source": [
    "## Are more outpatient visits associated with better or worse outcomes?"
   ]
  },
  {
   "cell_type": "code",
   "execution_count": null,
   "id": "d6f75601-adec-4380-8520-e4c34806c59c",
   "metadata": {},
   "outputs": [],
   "source": []
  },
  {
   "cell_type": "markdown",
   "id": "edf7c331-5564-4c6d-9fa9-f74aaea99839",
   "metadata": {},
   "source": [
    "## How do A1C test results relate to early readmission?"
   ]
  },
  {
   "cell_type": "code",
   "execution_count": null,
   "id": "2ac158bc-8ec7-4b1a-9576-59ba3d7b6fd6",
   "metadata": {},
   "outputs": [],
   "source": []
  },
  {
   "cell_type": "markdown",
   "id": "dc8ebbe5-f443-4426-9dd6-3b1c93048488",
   "metadata": {},
   "source": [
    "## Are abnormal max glucose serum levels predictive of readmission?"
   ]
  },
  {
   "cell_type": "code",
   "execution_count": null,
   "id": "599018a0-0264-4af9-82e2-c32ca7a0b691",
   "metadata": {},
   "outputs": [],
   "source": []
  },
  {
   "cell_type": "markdown",
   "id": "3593b2c6-c7df-4100-8f97-2480d904fd24",
   "metadata": {},
   "source": [
    "## Do patients with more medications tend to be readmitted more often?"
   ]
  },
  {
   "cell_type": "code",
   "execution_count": null,
   "id": "dd7ee904-4407-47e9-b422-794661137788",
   "metadata": {},
   "outputs": [],
   "source": []
  },
  {
   "cell_type": "markdown",
   "id": "72b46ba1-1946-4871-bbfc-e69d7becf896",
   "metadata": {},
   "source": [
    "## Is the combination of abnormal lab values and emergency visits a strong indicator of readmission?"
   ]
  },
  {
   "cell_type": "code",
   "execution_count": null,
   "id": "371aab34-6c75-4818-9354-f6fdcc15e58e",
   "metadata": {},
   "outputs": [],
   "source": []
  },
  {
   "cell_type": "markdown",
   "id": "a0943eea-6e57-4c09-bf96-be980a45d2d6",
   "metadata": {},
   "source": [
    "## Can a logistic regression model accurately classify early readmissions?"
   ]
  },
  {
   "cell_type": "code",
   "execution_count": null,
   "id": "acf7e349-ef3f-430c-b94b-7fa9d665463c",
   "metadata": {},
   "outputs": [],
   "source": []
  },
  {
   "cell_type": "markdown",
   "id": "0320e61e-4339-4dd9-9efe-c435da96b24b",
   "metadata": {},
   "source": [
    "## How well do tree-based models (e.g., Random Forest) perform in predicting readmission?"
   ]
  },
  {
   "cell_type": "code",
   "execution_count": null,
   "id": "ace958cc-26b5-40bc-9f45-c64a74e3a741",
   "metadata": {},
   "outputs": [],
   "source": []
  },
  {
   "cell_type": "markdown",
   "id": "56e90d2b-0321-45ac-b551-9482c640e523",
   "metadata": {},
   "source": [
    "## Can we build a readmission risk score to categorize patients (low, medium, high risk)?"
   ]
  },
  {
   "cell_type": "code",
   "execution_count": null,
   "id": "dc95ab6b-b2eb-4e6e-816b-b3b2ba83245e",
   "metadata": {},
   "outputs": [],
   "source": []
  },
  {
   "cell_type": "markdown",
   "id": "9669474a-88ff-48c2-a4dd-4107efe2054f",
   "metadata": {},
   "source": [
    "# 2.Demographic Disparities"
   ]
  },
  {
   "cell_type": "markdown",
   "id": "27eee7bb-98b7-4f70-b492-43d9cd40bf99",
   "metadata": {},
   "source": [
    "## Are certain races or age groups more likely to be readmitted?"
   ]
  },
  {
   "cell_type": "code",
   "execution_count": 79,
   "id": "ed92dbf5-5911-47e8-8b97-c816ab395309",
   "metadata": {},
   "outputs": [
    {
     "name": "stdout",
     "output_type": "stream",
     "text": [
      "readmitted       Early Readmission\n",
      "race                              \n",
      "AfricanAmerican           0.112181\n",
      "Caucasian                 0.112030\n",
      "Hispanic                  0.104075\n",
      "Asian                     0.101404\n",
      "Other                     0.096282\n"
     ]
    }
   ],
   "source": [
    "race_readmit = df.groupby('race')['readmitted'].value_counts(normalize=True).unstack()\n",
    "print(race_readmit[['Early Readmission']].sort_values('Early Readmission', ascending=False))"
   ]
  },
  {
   "cell_type": "code",
   "execution_count": 80,
   "id": "4d95feae-ee2c-4984-b8d3-145fac186aea",
   "metadata": {},
   "outputs": [
    {
     "name": "stdout",
     "output_type": "stream",
     "text": [
      "readmitted  Early Readmission\n",
      "age                          \n",
      "5.0                  0.018634\n",
      "15.0                 0.057887\n",
      "25.0                 0.142426\n",
      "35.0                 0.112318\n",
      "45.0                 0.106040\n",
      "55.0                 0.096662\n",
      "65.0                 0.111284\n",
      "75.0                 0.117731\n",
      "85.0                 0.120835\n",
      "95.0                 0.110992\n"
     ]
    }
   ],
   "source": [
    "age_readmit = df.groupby('age')['readmitted'].value_counts(normalize=True).unstack()\n",
    "print(age_readmit[['Early Readmission']].sort_index())"
   ]
  },
  {
   "cell_type": "markdown",
   "id": "659ec0c9-77a0-4145-89b8-730e488340a4",
   "metadata": {},
   "source": [
    "## Do gender differences exist in length of stay or frequency of readmission?"
   ]
  },
  {
   "cell_type": "code",
   "execution_count": 81,
   "id": "7115518f-2045-4621-8c1c-2c84ec363efe",
   "metadata": {},
   "outputs": [
    {
     "data": {
      "text/plain": [
       "gender\n",
       "Female             4.478797\n",
       "Male               4.299777\n",
       "Unknown/Invalid    3.333333\n",
       "Name: time_in_hospital, dtype: float64"
      ]
     },
     "execution_count": 81,
     "metadata": {},
     "output_type": "execute_result"
    }
   ],
   "source": [
    "df.groupby('gender')['time_in_hospital'].mean()"
   ]
  },
  {
   "cell_type": "code",
   "execution_count": 82,
   "id": "bea214fa-c254-4555-be7e-c29425cb9eda",
   "metadata": {
    "scrolled": true
   },
   "outputs": [
    {
     "data": {
      "text/html": [
       "<div>\n",
       "<style scoped>\n",
       "    .dataframe tbody tr th:only-of-type {\n",
       "        vertical-align: middle;\n",
       "    }\n",
       "\n",
       "    .dataframe tbody tr th {\n",
       "        vertical-align: top;\n",
       "    }\n",
       "\n",
       "    .dataframe thead th {\n",
       "        text-align: right;\n",
       "    }\n",
       "</style>\n",
       "<table border=\"1\" class=\"dataframe\">\n",
       "  <thead>\n",
       "    <tr style=\"text-align: right;\">\n",
       "      <th>readmitted</th>\n",
       "      <th>Early Readmission</th>\n",
       "    </tr>\n",
       "    <tr>\n",
       "      <th>gender</th>\n",
       "      <th></th>\n",
       "    </tr>\n",
       "  </thead>\n",
       "  <tbody>\n",
       "    <tr>\n",
       "      <th>Female</th>\n",
       "      <td>0.112452</td>\n",
       "    </tr>\n",
       "    <tr>\n",
       "      <th>Male</th>\n",
       "      <td>0.110615</td>\n",
       "    </tr>\n",
       "    <tr>\n",
       "      <th>Unknown/Invalid</th>\n",
       "      <td>NaN</td>\n",
       "    </tr>\n",
       "  </tbody>\n",
       "</table>\n",
       "</div>"
      ],
      "text/plain": [
       "readmitted       Early Readmission\n",
       "gender                            \n",
       "Female                    0.112452\n",
       "Male                      0.110615\n",
       "Unknown/Invalid                NaN"
      ]
     },
     "execution_count": 82,
     "metadata": {},
     "output_type": "execute_result"
    }
   ],
   "source": [
    "df.groupby('gender')['readmitted'].value_counts(normalize=True).unstack()[['Early Readmission']]"
   ]
  },
  {
   "cell_type": "markdown",
   "id": "8654516a-3057-43ca-b7eb-c7a4e5a97f86",
   "metadata": {},
   "source": [
    "## Are there disparities in the prescription of diabetes medications among different demographic groups?"
   ]
  },
  {
   "cell_type": "code",
   "execution_count": 83,
   "id": "286b18ec-ec5c-4bac-8a62-f950cc300556",
   "metadata": {},
   "outputs": [
    {
     "name": "stdout",
     "output_type": "stream",
     "text": [
      "metformin            Down        No    Steady        Up\n",
      "race                                                   \n",
      "AfricanAmerican  0.004633  0.817855  0.166788  0.010724\n",
      "Asian            0.006240  0.820593  0.168487  0.004680\n",
      "Caucasian        0.005869  0.800988  0.182706  0.010437\n",
      "Hispanic         0.007855  0.763868  0.214531  0.013746\n",
      "Other            0.003984  0.803453  0.184595  0.007968\n",
      "glipizide            Down        No    Steady        Up\n",
      "race                                                   \n",
      "AfricanAmerican  0.004425  0.890161  0.098386  0.007028\n",
      "Asian            0.004680  0.862715  0.118565  0.014041\n",
      "Caucasian        0.005729  0.872238  0.114646  0.007388\n",
      "Hispanic         0.006873  0.872361  0.106529  0.014237\n",
      "Other            0.005976  0.857238  0.124834  0.011952\n",
      "glyburide            Down        No    Steady        Up\n",
      "race                                                   \n",
      "AfricanAmerican  0.003384  0.912285  0.077095  0.007236\n",
      "Asian            0.003120  0.892356  0.101404  0.003120\n",
      "Caucasian        0.006163  0.890599  0.094996  0.008243\n",
      "Hispanic         0.004909  0.911144  0.076583  0.007364\n",
      "Other            0.002656  0.906375  0.084329  0.006640\n",
      "insulin              Down        No    Steady        Up\n",
      "race                                                   \n",
      "AfricanAmerican  0.127277  0.417699  0.341229  0.113795\n",
      "Asian            0.107644  0.519501  0.243370  0.129485\n",
      "Caucasian        0.117261  0.478321  0.295641  0.108776\n",
      "Hispanic         0.124202  0.458517  0.286696  0.130584\n",
      "Other            0.173307  0.401726  0.254980  0.169987\n"
     ]
    }
   ],
   "source": [
    "medications = ['metformin', 'glipizide', 'glyburide', 'insulin']\n",
    "for med in medications:\n",
    "    print(df.groupby('race')[med].value_counts(normalize=True).unstack())"
   ]
  },
  {
   "cell_type": "markdown",
   "id": "a92c7239-5f02-4832-b346-49762e93b959",
   "metadata": {},
   "source": [
    "## Which racial groups have the highest 30-day readmission rates?"
   ]
  },
  {
   "cell_type": "code",
   "execution_count": 84,
   "id": "1f0d3a5a-8276-4ae1-bb14-a65eb5e603fd",
   "metadata": {},
   "outputs": [
    {
     "data": {
      "text/html": [
       "<div>\n",
       "<style scoped>\n",
       "    .dataframe tbody tr th:only-of-type {\n",
       "        vertical-align: middle;\n",
       "    }\n",
       "\n",
       "    .dataframe tbody tr th {\n",
       "        vertical-align: top;\n",
       "    }\n",
       "\n",
       "    .dataframe thead th {\n",
       "        text-align: right;\n",
       "    }\n",
       "</style>\n",
       "<table border=\"1\" class=\"dataframe\">\n",
       "  <thead>\n",
       "    <tr style=\"text-align: right;\">\n",
       "      <th>readmitted</th>\n",
       "      <th>Early Readmission</th>\n",
       "    </tr>\n",
       "    <tr>\n",
       "      <th>race</th>\n",
       "      <th></th>\n",
       "    </tr>\n",
       "  </thead>\n",
       "  <tbody>\n",
       "    <tr>\n",
       "      <th>AfricanAmerican</th>\n",
       "      <td>0.112181</td>\n",
       "    </tr>\n",
       "    <tr>\n",
       "      <th>Caucasian</th>\n",
       "      <td>0.112030</td>\n",
       "    </tr>\n",
       "    <tr>\n",
       "      <th>Hispanic</th>\n",
       "      <td>0.104075</td>\n",
       "    </tr>\n",
       "    <tr>\n",
       "      <th>Asian</th>\n",
       "      <td>0.101404</td>\n",
       "    </tr>\n",
       "    <tr>\n",
       "      <th>Other</th>\n",
       "      <td>0.096282</td>\n",
       "    </tr>\n",
       "  </tbody>\n",
       "</table>\n",
       "</div>"
      ],
      "text/plain": [
       "readmitted       Early Readmission\n",
       "race                              \n",
       "AfricanAmerican           0.112181\n",
       "Caucasian                 0.112030\n",
       "Hispanic                  0.104075\n",
       "Asian                     0.101404\n",
       "Other                     0.096282"
      ]
     },
     "execution_count": 84,
     "metadata": {},
     "output_type": "execute_result"
    }
   ],
   "source": [
    "df.groupby('race')['readmitted'].value_counts(normalize=True).unstack()[['Early Readmission']].sort_values('Early Readmission', ascending=False)"
   ]
  },
  {
   "cell_type": "markdown",
   "id": "2f857c5f-1cdd-40dd-8964-bdb5725a85e5",
   "metadata": {},
   "source": [
    "## Are older age groups more prone to readmission?\n"
   ]
  },
  {
   "cell_type": "code",
   "execution_count": 85,
   "id": "08e2353e-43ca-4b82-b446-d4b259c953f8",
   "metadata": {},
   "outputs": [
    {
     "data": {
      "text/html": [
       "<div>\n",
       "<style scoped>\n",
       "    .dataframe tbody tr th:only-of-type {\n",
       "        vertical-align: middle;\n",
       "    }\n",
       "\n",
       "    .dataframe tbody tr th {\n",
       "        vertical-align: top;\n",
       "    }\n",
       "\n",
       "    .dataframe thead th {\n",
       "        text-align: right;\n",
       "    }\n",
       "</style>\n",
       "<table border=\"1\" class=\"dataframe\">\n",
       "  <thead>\n",
       "    <tr style=\"text-align: right;\">\n",
       "      <th>readmitted</th>\n",
       "      <th>Early Readmission</th>\n",
       "    </tr>\n",
       "    <tr>\n",
       "      <th>age</th>\n",
       "      <th></th>\n",
       "    </tr>\n",
       "  </thead>\n",
       "  <tbody>\n",
       "    <tr>\n",
       "      <th>5.0</th>\n",
       "      <td>0.018634</td>\n",
       "    </tr>\n",
       "    <tr>\n",
       "      <th>15.0</th>\n",
       "      <td>0.057887</td>\n",
       "    </tr>\n",
       "    <tr>\n",
       "      <th>25.0</th>\n",
       "      <td>0.142426</td>\n",
       "    </tr>\n",
       "    <tr>\n",
       "      <th>35.0</th>\n",
       "      <td>0.112318</td>\n",
       "    </tr>\n",
       "    <tr>\n",
       "      <th>45.0</th>\n",
       "      <td>0.106040</td>\n",
       "    </tr>\n",
       "    <tr>\n",
       "      <th>55.0</th>\n",
       "      <td>0.096662</td>\n",
       "    </tr>\n",
       "    <tr>\n",
       "      <th>65.0</th>\n",
       "      <td>0.111284</td>\n",
       "    </tr>\n",
       "    <tr>\n",
       "      <th>75.0</th>\n",
       "      <td>0.117731</td>\n",
       "    </tr>\n",
       "    <tr>\n",
       "      <th>85.0</th>\n",
       "      <td>0.120835</td>\n",
       "    </tr>\n",
       "    <tr>\n",
       "      <th>95.0</th>\n",
       "      <td>0.110992</td>\n",
       "    </tr>\n",
       "  </tbody>\n",
       "</table>\n",
       "</div>"
      ],
      "text/plain": [
       "readmitted  Early Readmission\n",
       "age                          \n",
       "5.0                  0.018634\n",
       "15.0                 0.057887\n",
       "25.0                 0.142426\n",
       "35.0                 0.112318\n",
       "45.0                 0.106040\n",
       "55.0                 0.096662\n",
       "65.0                 0.111284\n",
       "75.0                 0.117731\n",
       "85.0                 0.120835\n",
       "95.0                 0.110992"
      ]
     },
     "execution_count": 85,
     "metadata": {},
     "output_type": "execute_result"
    }
   ],
   "source": [
    "df.groupby('age')['readmitted'].value_counts(normalize=True).unstack()[['Early Readmission']]"
   ]
  },
  {
   "cell_type": "markdown",
   "id": "b9145e70-44c4-4ba6-b69d-705546dee26f",
   "metadata": {},
   "source": [
    "## How do gender-based readmission rates compare?"
   ]
  },
  {
   "cell_type": "code",
   "execution_count": null,
   "id": "4a1387d8-96f3-41b3-98cd-becbdfc75c4d",
   "metadata": {},
   "outputs": [],
   "source": []
  },
  {
   "cell_type": "markdown",
   "id": "17e130e4-2906-45e9-bea8-d1e3423c53ad",
   "metadata": {},
   "source": [
    "## Are length-of-stay differences statistically significant across genders?"
   ]
  },
  {
   "cell_type": "code",
   "execution_count": null,
   "id": "b4aec68f-5d27-4ada-9b32-f9a363f060b4",
   "metadata": {},
   "outputs": [],
   "source": []
  },
  {
   "cell_type": "markdown",
   "id": "ab403ce2-c609-4a29-be99-420679e12d6a",
   "metadata": {},
   "source": [
    "## Do specific race and gender combinations experience higher-than-average readmission?"
   ]
  },
  {
   "cell_type": "code",
   "execution_count": null,
   "id": "a2932532-1bbe-445f-978e-d316d4370bd4",
   "metadata": {},
   "outputs": [],
   "source": []
  },
  {
   "cell_type": "markdown",
   "id": "5bd7b2e3-787e-46ec-ade9-d883980d4a27",
   "metadata": {},
   "source": [
    "## Are minorities under-prescribed A1C tests or diabetes medications?"
   ]
  },
  {
   "cell_type": "code",
   "execution_count": null,
   "id": "a79e9811-2c99-4de1-8cbf-4740e9a71ce5",
   "metadata": {},
   "outputs": [],
   "source": []
  },
  {
   "cell_type": "markdown",
   "id": "360576a9-c3f1-46c0-8ce5-6f97c79eb21b",
   "metadata": {},
   "source": [
    "## Do men and women differ in the number of lab procedures received?"
   ]
  },
  {
   "cell_type": "code",
   "execution_count": null,
   "id": "afef1313-f378-4f72-8cfc-ab6b1138a155",
   "metadata": {},
   "outputs": [],
   "source": []
  },
  {
   "cell_type": "markdown",
   "id": "c9b0bd4b-f578-4686-b0ef-9575cd8855a0",
   "metadata": {},
   "source": [
    "## Are treatment changes more likely for certain demographic groups?"
   ]
  },
  {
   "cell_type": "code",
   "execution_count": null,
   "id": "cef95b42-6955-44ae-a2f4-da1f917719d2",
   "metadata": {},
   "outputs": [],
   "source": []
  },
  {
   "cell_type": "markdown",
   "id": "51818b7c-2738-4e44-a7cb-32304e0cc856",
   "metadata": {},
   "source": [
    "## Are younger patients (e.g., under 30) admitted with more severe conditions?"
   ]
  },
  {
   "cell_type": "code",
   "execution_count": null,
   "id": "b4c33c9a-e2ea-4ccd-a9c7-a185c149720c",
   "metadata": {},
   "outputs": [],
   "source": []
  },
  {
   "cell_type": "markdown",
   "id": "f911bd93-986a-4304-8923-2374a86be8a1",
   "metadata": {},
   "source": [
    "## Does age influence the likelihood of being discharged home vs. a facility?"
   ]
  },
  {
   "cell_type": "code",
   "execution_count": null,
   "id": "9a11f040-7832-494c-8a8e-73f9a28af03b",
   "metadata": {},
   "outputs": [],
   "source": []
  },
  {
   "cell_type": "markdown",
   "id": "07fc6b4f-1b0f-4f9b-bcc2-7bc807581ff7",
   "metadata": {},
   "source": [
    "## Do readmission rates vary significantly across age brackets (e.g., 50–60 vs. 70–80)?"
   ]
  },
  {
   "cell_type": "code",
   "execution_count": null,
   "id": "1f424fd8-7575-43a0-a565-84b014eb2ac9",
   "metadata": {},
   "outputs": [],
   "source": []
  },
  {
   "cell_type": "markdown",
   "id": "8e33acc1-ef1c-4951-bb95-677166499d40",
   "metadata": {},
   "source": [
    "## Are older patients more likely to receive insulin or combination drugs?"
   ]
  },
  {
   "cell_type": "code",
   "execution_count": null,
   "id": "97d1f281-e186-4f99-908e-045d2acfadd6",
   "metadata": {},
   "outputs": [],
   "source": []
  },
  {
   "cell_type": "markdown",
   "id": "00ed72d6-afe6-4f29-91fc-172b53d8c1d0",
   "metadata": {},
   "source": [
    "# 3. Treatment & Medication Insights"
   ]
  },
  {
   "cell_type": "markdown",
   "id": "18a71426-fffd-47ad-92ef-f6d6188592ff",
   "metadata": {},
   "source": [
    "## Which diabetes medications are associated with the lowest readmission rates?"
   ]
  },
  {
   "cell_type": "code",
   "execution_count": 86,
   "id": "e4a6836a-bad2-4e98-b3ec-98390fe9c4be",
   "metadata": {},
   "outputs": [
    {
     "name": "stdout",
     "output_type": "stream",
     "text": [
      "\n",
      "metformin\n",
      "readmitted  Early Readmission\n",
      "metformin                    \n",
      "Down                 0.120000\n",
      "No                   0.115165\n",
      "Steady               0.097133\n",
      "Up                   0.082474\n",
      "\n",
      "glipizide\n",
      "readmitted  Early Readmission\n",
      "glipizide                    \n",
      "Down                 0.151786\n",
      "No                   0.111192\n",
      "Steady               0.111659\n",
      "Up                   0.128571\n",
      "\n",
      "glyburide\n",
      "readmitted  Early Readmission\n",
      "glyburide                    \n",
      "Down                 0.092199\n",
      "No                   0.112220\n",
      "Steady               0.107289\n",
      "Up                   0.104680\n",
      "\n",
      "insulin\n",
      "readmitted  Early Readmission\n",
      "insulin                      \n",
      "Down                 0.138975\n",
      "No                   0.100374\n",
      "Steady               0.111284\n",
      "Up                   0.129905\n",
      "\n",
      "pioglitazone\n",
      "readmitted    Early Readmission\n",
      "pioglitazone                   \n",
      "Down                   0.152542\n",
      "No                     0.112063\n",
      "Steady                 0.104214\n",
      "Up                     0.123932\n",
      "\n",
      "rosiglitazone\n",
      "readmitted     Early Readmission\n",
      "rosiglitazone                   \n",
      "Down                    0.057471\n",
      "No                      0.112074\n",
      "Steady                  0.105082\n",
      "Up                      0.106742\n",
      "\n",
      "acarbose\n",
      "readmitted  Early Readmission\n",
      "acarbose                     \n",
      "Down                 0.333333\n",
      "No                   0.111662\n",
      "Steady               0.084746\n",
      "Up                   0.200000\n",
      "\n",
      "nateglinide\n",
      "readmitted   Early Readmission\n",
      "nateglinide                   \n",
      "Down                  0.090909\n",
      "No                    0.111584\n",
      "Steady                0.116766\n",
      "Up                    0.041667\n",
      "\n",
      "repaglinide\n",
      "readmitted   Early Readmission\n",
      "repaglinide                   \n",
      "Down                  0.066667\n",
      "No                    0.111267\n",
      "Steady                0.131503\n",
      "Up                    0.181818\n"
     ]
    }
   ],
   "source": [
    "medications = [\n",
    "    'metformin', 'glipizide', 'glyburide', 'insulin', 'pioglitazone', \n",
    "    'rosiglitazone', 'acarbose', 'nateglinide', 'repaglinide'\n",
    "]\n",
    "for med in medications:\n",
    "    print(f\"\\n{med}\")\n",
    "    print(df.groupby(med)['readmitted'].value_counts(normalize=True).unstack()[['Early Readmission']])"
   ]
  },
  {
   "cell_type": "markdown",
   "id": "c7dc7d86-9d58-4510-8ee7-b1a864d9a093",
   "metadata": {},
   "source": [
    "## Does changing medication during a hospital stay lead to better patient outcomes?"
   ]
  },
  {
   "cell_type": "code",
   "execution_count": 87,
   "id": "e9934dca-b295-4462-a283-94e9b5e13475",
   "metadata": {},
   "outputs": [
    {
     "data": {
      "text/html": [
       "<div>\n",
       "<style scoped>\n",
       "    .dataframe tbody tr th:only-of-type {\n",
       "        vertical-align: middle;\n",
       "    }\n",
       "\n",
       "    .dataframe tbody tr th {\n",
       "        vertical-align: top;\n",
       "    }\n",
       "\n",
       "    .dataframe thead th {\n",
       "        text-align: right;\n",
       "    }\n",
       "</style>\n",
       "<table border=\"1\" class=\"dataframe\">\n",
       "  <thead>\n",
       "    <tr style=\"text-align: right;\">\n",
       "      <th>readmitted</th>\n",
       "      <th>Early Readmission</th>\n",
       "    </tr>\n",
       "    <tr>\n",
       "      <th>change</th>\n",
       "      <th></th>\n",
       "    </tr>\n",
       "  </thead>\n",
       "  <tbody>\n",
       "    <tr>\n",
       "      <th>Ch</th>\n",
       "      <td>0.118228</td>\n",
       "    </tr>\n",
       "    <tr>\n",
       "      <th>No</th>\n",
       "      <td>0.105908</td>\n",
       "    </tr>\n",
       "  </tbody>\n",
       "</table>\n",
       "</div>"
      ],
      "text/plain": [
       "readmitted  Early Readmission\n",
       "change                       \n",
       "Ch                   0.118228\n",
       "No                   0.105908"
      ]
     },
     "execution_count": 87,
     "metadata": {},
     "output_type": "execute_result"
    }
   ],
   "source": [
    "df.groupby('change')['readmitted'].value_counts(normalize=True).unstack()[['Early Readmission']]"
   ]
  },
  {
   "cell_type": "markdown",
   "id": "2854d3c8-a137-4515-a702-76bb8fdd3313",
   "metadata": {},
   "source": [
    "## How does insulin usage correlate with hospital stay or readmission?\n"
   ]
  },
  {
   "cell_type": "code",
   "execution_count": 88,
   "id": "b8ffb40b-95cd-4bf1-9db8-8ef7952ccd9e",
   "metadata": {},
   "outputs": [
    {
     "data": {
      "text/plain": [
       "insulin\n",
       "Down      4.922164\n",
       "No        4.079248\n",
       "Steady    4.364193\n",
       "Up        5.240809\n",
       "Name: time_in_hospital, dtype: float64"
      ]
     },
     "execution_count": 88,
     "metadata": {},
     "output_type": "execute_result"
    }
   ],
   "source": [
    "df.groupby('insulin')['time_in_hospital'].mean()"
   ]
  },
  {
   "cell_type": "code",
   "execution_count": 89,
   "id": "e604f99a-05e0-472a-8399-d6b27d74e30e",
   "metadata": {},
   "outputs": [
    {
     "data": {
      "text/html": [
       "<div>\n",
       "<style scoped>\n",
       "    .dataframe tbody tr th:only-of-type {\n",
       "        vertical-align: middle;\n",
       "    }\n",
       "\n",
       "    .dataframe tbody tr th {\n",
       "        vertical-align: top;\n",
       "    }\n",
       "\n",
       "    .dataframe thead th {\n",
       "        text-align: right;\n",
       "    }\n",
       "</style>\n",
       "<table border=\"1\" class=\"dataframe\">\n",
       "  <thead>\n",
       "    <tr style=\"text-align: right;\">\n",
       "      <th>readmitted</th>\n",
       "      <th>Early Readmission</th>\n",
       "    </tr>\n",
       "    <tr>\n",
       "      <th>insulin</th>\n",
       "      <th></th>\n",
       "    </tr>\n",
       "  </thead>\n",
       "  <tbody>\n",
       "    <tr>\n",
       "      <th>Down</th>\n",
       "      <td>0.138975</td>\n",
       "    </tr>\n",
       "    <tr>\n",
       "      <th>No</th>\n",
       "      <td>0.100374</td>\n",
       "    </tr>\n",
       "    <tr>\n",
       "      <th>Steady</th>\n",
       "      <td>0.111284</td>\n",
       "    </tr>\n",
       "    <tr>\n",
       "      <th>Up</th>\n",
       "      <td>0.129905</td>\n",
       "    </tr>\n",
       "  </tbody>\n",
       "</table>\n",
       "</div>"
      ],
      "text/plain": [
       "readmitted  Early Readmission\n",
       "insulin                      \n",
       "Down                 0.138975\n",
       "No                   0.100374\n",
       "Steady               0.111284\n",
       "Up                   0.129905"
      ]
     },
     "execution_count": 89,
     "metadata": {},
     "output_type": "execute_result"
    }
   ],
   "source": [
    "df.groupby('insulin')['readmitted'].value_counts(normalize=True).unstack()[['Early Readmission']]"
   ]
  },
  {
   "cell_type": "markdown",
   "id": "ccdf133a-68b6-4f33-b1c6-f1b0f0b26600",
   "metadata": {},
   "source": [
    "## What is the impact of combination drugs (e.g., glyburide-metformin) on patient outcomes?\n",
    " \t\n"
   ]
  },
  {
   "cell_type": "code",
   "execution_count": 90,
   "id": "1249398d-6af6-4398-ae1a-17135950cd2d",
   "metadata": {},
   "outputs": [
    {
     "name": "stdout",
     "output_type": "stream",
     "text": [
      "\n",
      "glyburide-metformin\n",
      "readmitted           Early Readmission\n",
      "glyburide-metformin                   \n",
      "Down                          0.166667\n",
      "No                            0.111607\n",
      "Steady                        0.111272\n",
      "Up                                 NaN\n",
      "\n",
      "glipizide-metformin\n",
      "readmitted           Early Readmission\n",
      "glipizide-metformin                   \n",
      "No                            0.111604\n",
      "Steady                        0.076923\n",
      "\n",
      "glimepiride-pioglitazone\n",
      "readmitted                Early Readmission\n",
      "glimepiride-pioglitazone                   \n",
      "No                                   0.1116\n",
      "Steady                                  NaN\n",
      "\n",
      "metformin-rosiglitazone\n",
      "readmitted               Early Readmission\n",
      "metformin-rosiglitazone                   \n",
      "No                                0.111601\n",
      "Steady                                 NaN\n",
      "\n",
      "metformin-pioglitazone\n",
      "readmitted              Early Readmission\n",
      "metformin-pioglitazone                   \n",
      "No                                 0.1116\n",
      "Steady                                NaN\n"
     ]
    }
   ],
   "source": [
    "combo_drugs = ['glyburide-metformin', 'glipizide-metformin', 'glimepiride-pioglitazone', \n",
    "               'metformin-rosiglitazone', 'metformin-pioglitazone']\n",
    "for drug in combo_drugs:\n",
    "    print(f\"\\n{drug}\")\n",
    "    print(df.groupby(drug)['readmitted'].value_counts(normalize=True).unstack()[['Early Readmission']])"
   ]
  },
  {
   "cell_type": "markdown",
   "id": "8cfa2d80-7b06-4e87-bcc0-90459fd9adcf",
   "metadata": {},
   "source": [
    "## Which individual medications are associated with the lowest readmission rates?\n",
    " \t"
   ]
  },
  {
   "cell_type": "code",
   "execution_count": 91,
   "id": "beec10bd-b972-444c-bb35-a7a63c10bed2",
   "metadata": {},
   "outputs": [],
   "source": [
    "summary = {}\n",
    "for med in medications:\n",
    "    values = df.groupby(med)['readmitted'].value_counts(normalize=True).unstack()\n",
    "    if 'Yes' in values.index:\n",
    "        summary[med] = values.loc['Yes', 'Early Readmission']\n",
    "sorted_summary = sorted(summary.items(), key=lambda x: x[1])\n",
    "for med, rate in sorted_summary:\n",
    "    print(f\"{med}: Early Readmission Rate = {rate:.3f}\")"
   ]
  },
  {
   "cell_type": "markdown",
   "id": "196a96c3-c5b3-443a-b45a-d4c743941cc7",
   "metadata": {},
   "source": [
    "## Do combination therapies reduce readmission more effectively than single drugs?\n",
    " \t"
   ]
  },
  {
   "cell_type": "code",
   "execution_count": null,
   "id": "c8c4013d-42fc-4f31-906f-ca07891cc2ef",
   "metadata": {},
   "outputs": [],
   "source": []
  },
  {
   "cell_type": "markdown",
   "id": "36f61992-7cc4-4203-87c5-bb57f9fc5653",
   "metadata": {},
   "source": [
    "## Are insulin users more likely to be readmitted than non-insulin users?\n",
    " \t"
   ]
  },
  {
   "cell_type": "code",
   "execution_count": null,
   "id": "4b34e1c9-4d03-4e7b-9bdd-c3ccd461a1b5",
   "metadata": {},
   "outputs": [],
   "source": []
  },
  {
   "cell_type": "markdown",
   "id": "3b5c8ec1-0a6b-42e5-a5a3-04427592249c",
   "metadata": {},
   "source": [
    "## Does metformin use correlate with shorter hospital stays?\n",
    " \t"
   ]
  },
  {
   "cell_type": "code",
   "execution_count": null,
   "id": "bcfe9c11-2e82-4a3f-a926-d271ca4113d9",
   "metadata": {},
   "outputs": [],
   "source": []
  },
  {
   "cell_type": "markdown",
   "id": "ef3c3a31-9e72-4e17-8aa5-1fea232ae1d7",
   "metadata": {},
   "source": [
    "## Are there medications frequently changed during the stay that reduce risk?\n",
    " \t"
   ]
  },
  {
   "cell_type": "code",
   "execution_count": null,
   "id": "23478d34-862b-468c-adb4-cf0f7537a6a5",
   "metadata": {},
   "outputs": [],
   "source": []
  },
  {
   "cell_type": "markdown",
   "id": "52e01d0d-f0a0-422d-bc8a-55b19175eb4f",
   "metadata": {},
   "source": [
    "## Do patients who received \"No\" for diabetes medication have worse outcomes?\n",
    " \t"
   ]
  },
  {
   "cell_type": "code",
   "execution_count": null,
   "id": "9b8b5c3c-2c9f-4c91-80fb-3f4f04957a61",
   "metadata": {},
   "outputs": [],
   "source": []
  },
  {
   "cell_type": "markdown",
   "id": "4de660be-eee7-4b89-ab98-78c588593fc8",
   "metadata": {},
   "source": [
    "## Which medications are more often associated with abnormal A1C values?\n",
    " \t"
   ]
  },
  {
   "cell_type": "code",
   "execution_count": null,
   "id": "443725cf-570e-491d-8d50-7b06fc78acfb",
   "metadata": {},
   "outputs": [],
   "source": []
  },
  {
   "cell_type": "markdown",
   "id": "c0048aa9-4f45-4d3f-a6d5-b5c4cb0d9959",
   "metadata": {},
   "source": [
    "## What is the average number of medications for readmitted vs. non-readmitted patients?\n",
    " \t"
   ]
  },
  {
   "cell_type": "code",
   "execution_count": null,
   "id": "b6ae74fa-8d1e-464e-8ec9-f1a78477be53",
   "metadata": {},
   "outputs": [],
   "source": []
  },
  {
   "cell_type": "markdown",
   "id": "b88a7589-807b-4a67-8e6c-295fc5961912",
   "metadata": {},
   "source": [
    "## Are certain medications only prescribed to certain demographics?\n",
    " \t"
   ]
  },
  {
   "cell_type": "code",
   "execution_count": null,
   "id": "8ae9e871-cab8-4b83-b91e-6942f4677aad",
   "metadata": {},
   "outputs": [],
   "source": []
  },
  {
   "cell_type": "markdown",
   "id": "4946f5bc-cf0e-496f-bf09-0b9eb47c0e97",
   "metadata": {},
   "source": [
    "## What medication patterns are most common in non-readmitted patients?\n",
    " \t"
   ]
  },
  {
   "cell_type": "code",
   "execution_count": null,
   "id": "1be5e936-bb05-46ec-876b-e48284d3c862",
   "metadata": {},
   "outputs": [],
   "source": []
  },
  {
   "cell_type": "markdown",
   "id": "08050b0b-8fd2-4e2f-b752-b513cc714bce",
   "metadata": {},
   "source": [
    "## Is there an interaction between medication type and number of diagnoses?\n",
    " \t"
   ]
  },
  {
   "cell_type": "code",
   "execution_count": null,
   "id": "f8679998-6be0-43bc-aea5-ee354f2d437e",
   "metadata": {},
   "outputs": [],
   "source": []
  },
  {
   "cell_type": "markdown",
   "id": "8bc11be9-30ae-4fe0-a58a-a97b40c85024",
   "metadata": {},
   "source": [
    "## Do patients who experienced a medication change have better A1C improvements?"
   ]
  },
  {
   "cell_type": "code",
   "execution_count": null,
   "id": "998a6e2f-2dd2-48f7-93ed-7ecce1035890",
   "metadata": {},
   "outputs": [],
   "source": []
  },
  {
   "cell_type": "markdown",
   "id": "d43f3c71-68c2-49eb-886c-ef12d0ebdeb6",
   "metadata": {},
   "source": [
    "# 4. Hospital Performance & Process Analysis"
   ]
  },
  {
   "cell_type": "markdown",
   "id": "05f323a2-6da6-45dd-ad50-1015249737aa",
   "metadata": {},
   "source": [
    "## Which admission types (e.g., emergency vs. elective) are associated with the highest readmission rates?"
   ]
  },
  {
   "cell_type": "code",
   "execution_count": 92,
   "id": "976f4567-d31c-4413-8909-b1697dcd7ca0",
   "metadata": {},
   "outputs": [
    {
     "data": {
      "text/html": [
       "<div>\n",
       "<style scoped>\n",
       "    .dataframe tbody tr th:only-of-type {\n",
       "        vertical-align: middle;\n",
       "    }\n",
       "\n",
       "    .dataframe tbody tr th {\n",
       "        vertical-align: top;\n",
       "    }\n",
       "\n",
       "    .dataframe thead th {\n",
       "        text-align: right;\n",
       "    }\n",
       "</style>\n",
       "<table border=\"1\" class=\"dataframe\">\n",
       "  <thead>\n",
       "    <tr style=\"text-align: right;\">\n",
       "      <th>readmitted</th>\n",
       "      <th>Early Readmission</th>\n",
       "    </tr>\n",
       "    <tr>\n",
       "      <th>admission_type_id</th>\n",
       "      <th></th>\n",
       "    </tr>\n",
       "  </thead>\n",
       "  <tbody>\n",
       "    <tr>\n",
       "      <th>1</th>\n",
       "      <td>0.115225</td>\n",
       "    </tr>\n",
       "    <tr>\n",
       "      <th>2</th>\n",
       "      <td>0.111797</td>\n",
       "    </tr>\n",
       "    <tr>\n",
       "      <th>3</th>\n",
       "      <td>0.103927</td>\n",
       "    </tr>\n",
       "    <tr>\n",
       "      <th>4</th>\n",
       "      <td>0.100000</td>\n",
       "    </tr>\n",
       "    <tr>\n",
       "      <th>5</th>\n",
       "      <td>0.103448</td>\n",
       "    </tr>\n",
       "    <tr>\n",
       "      <th>6</th>\n",
       "      <td>0.110754</td>\n",
       "    </tr>\n",
       "    <tr>\n",
       "      <th>7</th>\n",
       "      <td>NaN</td>\n",
       "    </tr>\n",
       "    <tr>\n",
       "      <th>8</th>\n",
       "      <td>0.084375</td>\n",
       "    </tr>\n",
       "  </tbody>\n",
       "</table>\n",
       "</div>"
      ],
      "text/plain": [
       "readmitted         Early Readmission\n",
       "admission_type_id                   \n",
       "1                           0.115225\n",
       "2                           0.111797\n",
       "3                           0.103927\n",
       "4                           0.100000\n",
       "5                           0.103448\n",
       "6                           0.110754\n",
       "7                                NaN\n",
       "8                           0.084375"
      ]
     },
     "execution_count": 92,
     "metadata": {},
     "output_type": "execute_result"
    }
   ],
   "source": [
    "df.groupby('admission_type_id')['readmitted'].value_counts(normalize=True).unstack()[['Early Readmission']]"
   ]
  },
  {
   "cell_type": "code",
   "execution_count": 93,
   "id": "f2b2283b-9e64-4e37-8d16-c523e9a15ad5",
   "metadata": {},
   "outputs": [],
   "source": [
    "admission_type_map = {\n",
    "    1: 'Emergency', 2: 'Urgent', 3: 'Elective', 4: 'Newborn',\n",
    "    5: 'Not Available', 6: 'NULL', 7: 'Trauma Center', 8: 'Not Mapped'\n",
    "}\n",
    "df['admission_type'] = df['admission_type_id'].map(admission_type_map)"
   ]
  },
  {
   "cell_type": "code",
   "execution_count": 94,
   "id": "fe78d801-3737-46a8-a524-a41667ea5d6d",
   "metadata": {},
   "outputs": [
    {
     "data": {
      "text/plain": [
       "admission_type\n",
       "Emergency        53990\n",
       "Elective         18869\n",
       "Urgent           18480\n",
       "NULL              5291\n",
       "Not Available     4785\n",
       "Not Mapped         320\n",
       "Trauma Center       21\n",
       "Newborn             10\n",
       "Name: count, dtype: int64"
      ]
     },
     "execution_count": 94,
     "metadata": {},
     "output_type": "execute_result"
    }
   ],
   "source": [
    "df['admission_type'].value_counts()"
   ]
  },
  {
   "cell_type": "markdown",
   "id": "c1579343-bb34-4330-88c5-8339092ef250",
   "metadata": {},
   "source": [
    "## How do discharge dispositions affect the likelihood of readmission?"
   ]
  },
  {
   "cell_type": "code",
   "execution_count": 95,
   "id": "58e60731-6454-4ce1-88b3-af48ab5f95fd",
   "metadata": {},
   "outputs": [
    {
     "data": {
      "text/html": [
       "<div>\n",
       "<style scoped>\n",
       "    .dataframe tbody tr th:only-of-type {\n",
       "        vertical-align: middle;\n",
       "    }\n",
       "\n",
       "    .dataframe tbody tr th {\n",
       "        vertical-align: top;\n",
       "    }\n",
       "\n",
       "    .dataframe thead th {\n",
       "        text-align: right;\n",
       "    }\n",
       "</style>\n",
       "<table border=\"1\" class=\"dataframe\">\n",
       "  <thead>\n",
       "    <tr style=\"text-align: right;\">\n",
       "      <th>readmitted</th>\n",
       "      <th>Early Readmission</th>\n",
       "    </tr>\n",
       "    <tr>\n",
       "      <th>discharge_disposition_id</th>\n",
       "      <th></th>\n",
       "    </tr>\n",
       "  </thead>\n",
       "  <tbody>\n",
       "    <tr>\n",
       "      <th>1</th>\n",
       "      <td>0.093004</td>\n",
       "    </tr>\n",
       "    <tr>\n",
       "      <th>2</th>\n",
       "      <td>0.160714</td>\n",
       "    </tr>\n",
       "    <tr>\n",
       "      <th>3</th>\n",
       "      <td>0.146625</td>\n",
       "    </tr>\n",
       "    <tr>\n",
       "      <th>4</th>\n",
       "      <td>0.127607</td>\n",
       "    </tr>\n",
       "    <tr>\n",
       "      <th>5</th>\n",
       "      <td>0.208615</td>\n",
       "    </tr>\n",
       "    <tr>\n",
       "      <th>6</th>\n",
       "      <td>0.126957</td>\n",
       "    </tr>\n",
       "    <tr>\n",
       "      <th>7</th>\n",
       "      <td>0.144462</td>\n",
       "    </tr>\n",
       "    <tr>\n",
       "      <th>8</th>\n",
       "      <td>0.138889</td>\n",
       "    </tr>\n",
       "    <tr>\n",
       "      <th>9</th>\n",
       "      <td>0.428571</td>\n",
       "    </tr>\n",
       "    <tr>\n",
       "      <th>10</th>\n",
       "      <td>NaN</td>\n",
       "    </tr>\n",
       "    <tr>\n",
       "      <th>11</th>\n",
       "      <td>NaN</td>\n",
       "    </tr>\n",
       "    <tr>\n",
       "      <th>12</th>\n",
       "      <td>0.666667</td>\n",
       "    </tr>\n",
       "    <tr>\n",
       "      <th>13</th>\n",
       "      <td>0.047619</td>\n",
       "    </tr>\n",
       "    <tr>\n",
       "      <th>14</th>\n",
       "      <td>0.064516</td>\n",
       "    </tr>\n",
       "    <tr>\n",
       "      <th>15</th>\n",
       "      <td>0.444444</td>\n",
       "    </tr>\n",
       "    <tr>\n",
       "      <th>16</th>\n",
       "      <td>NaN</td>\n",
       "    </tr>\n",
       "    <tr>\n",
       "      <th>17</th>\n",
       "      <td>NaN</td>\n",
       "    </tr>\n",
       "    <tr>\n",
       "      <th>18</th>\n",
       "      <td>0.124357</td>\n",
       "    </tr>\n",
       "    <tr>\n",
       "      <th>19</th>\n",
       "      <td>NaN</td>\n",
       "    </tr>\n",
       "    <tr>\n",
       "      <th>20</th>\n",
       "      <td>NaN</td>\n",
       "    </tr>\n",
       "    <tr>\n",
       "      <th>22</th>\n",
       "      <td>0.276969</td>\n",
       "    </tr>\n",
       "    <tr>\n",
       "      <th>23</th>\n",
       "      <td>0.072816</td>\n",
       "    </tr>\n",
       "    <tr>\n",
       "      <th>24</th>\n",
       "      <td>0.145833</td>\n",
       "    </tr>\n",
       "    <tr>\n",
       "      <th>25</th>\n",
       "      <td>0.093023</td>\n",
       "    </tr>\n",
       "    <tr>\n",
       "      <th>27</th>\n",
       "      <td>NaN</td>\n",
       "    </tr>\n",
       "    <tr>\n",
       "      <th>28</th>\n",
       "      <td>0.366906</td>\n",
       "    </tr>\n",
       "  </tbody>\n",
       "</table>\n",
       "</div>"
      ],
      "text/plain": [
       "readmitted                Early Readmission\n",
       "discharge_disposition_id                   \n",
       "1                                  0.093004\n",
       "2                                  0.160714\n",
       "3                                  0.146625\n",
       "4                                  0.127607\n",
       "5                                  0.208615\n",
       "6                                  0.126957\n",
       "7                                  0.144462\n",
       "8                                  0.138889\n",
       "9                                  0.428571\n",
       "10                                      NaN\n",
       "11                                      NaN\n",
       "12                                 0.666667\n",
       "13                                 0.047619\n",
       "14                                 0.064516\n",
       "15                                 0.444444\n",
       "16                                      NaN\n",
       "17                                      NaN\n",
       "18                                 0.124357\n",
       "19                                      NaN\n",
       "20                                      NaN\n",
       "22                                 0.276969\n",
       "23                                 0.072816\n",
       "24                                 0.145833\n",
       "25                                 0.093023\n",
       "27                                      NaN\n",
       "28                                 0.366906"
      ]
     },
     "execution_count": 95,
     "metadata": {},
     "output_type": "execute_result"
    }
   ],
   "source": [
    "df.groupby('discharge_disposition_id')['readmitted'].value_counts(normalize=True).unstack()[['Early Readmission']]"
   ]
  },
  {
   "cell_type": "markdown",
   "id": "263e91ef-8a4d-4072-84bb-be17d4efde87",
   "metadata": {},
   "source": [
    "## Which medical specialties are most effective at preventing readmissions?"
   ]
  },
  {
   "cell_type": "code",
   "execution_count": 96,
   "id": "07c61f73-c360-49f3-bc1d-1cb8ea004d7f",
   "metadata": {},
   "outputs": [
    {
     "data": {
      "text/html": [
       "<div>\n",
       "<style scoped>\n",
       "    .dataframe tbody tr th:only-of-type {\n",
       "        vertical-align: middle;\n",
       "    }\n",
       "\n",
       "    .dataframe tbody tr th {\n",
       "        vertical-align: top;\n",
       "    }\n",
       "\n",
       "    .dataframe thead th {\n",
       "        text-align: right;\n",
       "    }\n",
       "</style>\n",
       "<table border=\"1\" class=\"dataframe\">\n",
       "  <thead>\n",
       "    <tr style=\"text-align: right;\">\n",
       "      <th>readmitted</th>\n",
       "      <th>Early Readmission</th>\n",
       "    </tr>\n",
       "    <tr>\n",
       "      <th>medical_specialty</th>\n",
       "      <th></th>\n",
       "    </tr>\n",
       "  </thead>\n",
       "  <tbody>\n",
       "    <tr>\n",
       "      <th>Pediatrics-Endocrinology</th>\n",
       "      <td>0.006289</td>\n",
       "    </tr>\n",
       "    <tr>\n",
       "      <th>Otolaryngology</th>\n",
       "      <td>0.016000</td>\n",
       "    </tr>\n",
       "    <tr>\n",
       "      <th>Pediatrics-CriticalCare</th>\n",
       "      <td>0.034483</td>\n",
       "    </tr>\n",
       "    <tr>\n",
       "      <th>ObstetricsandGynecology</th>\n",
       "      <td>0.047690</td>\n",
       "    </tr>\n",
       "    <tr>\n",
       "      <th>Endocrinology</th>\n",
       "      <td>0.050000</td>\n",
       "    </tr>\n",
       "    <tr>\n",
       "      <th>...</th>\n",
       "      <td>...</td>\n",
       "    </tr>\n",
       "    <tr>\n",
       "      <th>Psychiatry-Addictive</th>\n",
       "      <td>NaN</td>\n",
       "    </tr>\n",
       "    <tr>\n",
       "      <th>Speech</th>\n",
       "      <td>NaN</td>\n",
       "    </tr>\n",
       "    <tr>\n",
       "      <th>SportsMedicine</th>\n",
       "      <td>NaN</td>\n",
       "    </tr>\n",
       "    <tr>\n",
       "      <th>Surgery-Pediatric</th>\n",
       "      <td>NaN</td>\n",
       "    </tr>\n",
       "    <tr>\n",
       "      <th>Surgery-PlasticwithinHeadandNeck</th>\n",
       "      <td>NaN</td>\n",
       "    </tr>\n",
       "  </tbody>\n",
       "</table>\n",
       "<p>72 rows × 1 columns</p>\n",
       "</div>"
      ],
      "text/plain": [
       "readmitted                        Early Readmission\n",
       "medical_specialty                                  \n",
       "Pediatrics-Endocrinology                   0.006289\n",
       "Otolaryngology                             0.016000\n",
       "Pediatrics-CriticalCare                    0.034483\n",
       "ObstetricsandGynecology                    0.047690\n",
       "Endocrinology                              0.050000\n",
       "...                                             ...\n",
       "Psychiatry-Addictive                            NaN\n",
       "Speech                                          NaN\n",
       "SportsMedicine                                  NaN\n",
       "Surgery-Pediatric                               NaN\n",
       "Surgery-PlasticwithinHeadandNeck                NaN\n",
       "\n",
       "[72 rows x 1 columns]"
      ]
     },
     "execution_count": 96,
     "metadata": {},
     "output_type": "execute_result"
    }
   ],
   "source": [
    "df.groupby('medical_specialty')['readmitted'].value_counts(normalize=True).unstack()[['Early Readmission']].sort_values('Early Readmission')"
   ]
  },
  {
   "cell_type": "code",
   "execution_count": 97,
   "id": "9f99a62d-9e74-4341-8ea1-091501081563",
   "metadata": {},
   "outputs": [],
   "source": [
    "specialty_counts = df['medical_specialty'].value_counts()\n",
    "top_specialties = specialty_counts[specialty_counts > 100]  # threshold\n",
    "df_filtered = df[df['medical_specialty'].isin(top_specialties.index)]"
   ]
  },
  {
   "cell_type": "markdown",
   "id": "88ef7ced-56cf-4db4-93df-51726c89da61",
   "metadata": {},
   "source": [
    "## Is there a correlation between the number of lab procedures and better health outcomes?"
   ]
  },
  {
   "cell_type": "code",
   "execution_count": 127,
   "id": "0a1f30ab-c933-491d-9f61-0b3365e6bdf9",
   "metadata": {},
   "outputs": [
    {
     "name": "stdout",
     "output_type": "stream",
     "text": [
      "Correlation: 0.020, p-value: 0.000\n"
     ]
    },
    {
     "data": {
      "text/plain": [
       "8.207771005578811e-11"
      ]
     },
     "execution_count": 127,
     "metadata": {},
     "output_type": "execute_result"
    }
   ],
   "source": [
    "from scipy.stats import pointbiserialr\n",
    "corr, pval = pointbiserialr(df['num_lab_procedures'], df['readmitted'] == 'Early Readmission')\n",
    "print(f\"Correlation: {corr:.3f}, p-value: {pval:.3f}\")"
   ]
  },
  {
   "cell_type": "markdown",
   "id": "09bad86b-7647-4de2-898e-bdae80d0b67c",
   "metadata": {
    "jp-MarkdownHeadingCollapsed": true
   },
   "source": [
    "### Positive correlation may suggest sicker patients getting more labs"
   ]
  },
  {
   "cell_type": "markdown",
   "id": "fff9b89b-49d9-4252-afc0-99b8fb00e740",
   "metadata": {},
   "source": [
    "## Which admission types have the highest readmission rates?\n",
    " \t"
   ]
  },
  {
   "cell_type": "code",
   "execution_count": 99,
   "id": "61cbaaf7-8a8e-4eec-9be7-80c1d6123e08",
   "metadata": {},
   "outputs": [
    {
     "data": {
      "text/html": [
       "<div>\n",
       "<style scoped>\n",
       "    .dataframe tbody tr th:only-of-type {\n",
       "        vertical-align: middle;\n",
       "    }\n",
       "\n",
       "    .dataframe tbody tr th {\n",
       "        vertical-align: top;\n",
       "    }\n",
       "\n",
       "    .dataframe thead th {\n",
       "        text-align: right;\n",
       "    }\n",
       "</style>\n",
       "<table border=\"1\" class=\"dataframe\">\n",
       "  <thead>\n",
       "    <tr style=\"text-align: right;\">\n",
       "      <th>readmitted</th>\n",
       "      <th>Early Readmission</th>\n",
       "      <th>Greater than 30</th>\n",
       "      <th>Lesser than 30</th>\n",
       "    </tr>\n",
       "    <tr>\n",
       "      <th>admission_type</th>\n",
       "      <th></th>\n",
       "      <th></th>\n",
       "      <th></th>\n",
       "    </tr>\n",
       "  </thead>\n",
       "  <tbody>\n",
       "    <tr>\n",
       "      <th>Elective</th>\n",
       "      <td>0.103927</td>\n",
       "      <td>0.591552</td>\n",
       "      <td>0.304521</td>\n",
       "    </tr>\n",
       "    <tr>\n",
       "      <th>Emergency</th>\n",
       "      <td>0.115225</td>\n",
       "      <td>0.527135</td>\n",
       "      <td>0.357640</td>\n",
       "    </tr>\n",
       "    <tr>\n",
       "      <th>NULL</th>\n",
       "      <td>0.110754</td>\n",
       "      <td>0.467586</td>\n",
       "      <td>0.421659</td>\n",
       "    </tr>\n",
       "    <tr>\n",
       "      <th>Newborn</th>\n",
       "      <td>0.100000</td>\n",
       "      <td>0.700000</td>\n",
       "      <td>0.200000</td>\n",
       "    </tr>\n",
       "    <tr>\n",
       "      <th>Not Available</th>\n",
       "      <td>0.103448</td>\n",
       "      <td>0.536886</td>\n",
       "      <td>0.359666</td>\n",
       "    </tr>\n",
       "    <tr>\n",
       "      <th>Not Mapped</th>\n",
       "      <td>0.084375</td>\n",
       "      <td>0.653125</td>\n",
       "      <td>0.262500</td>\n",
       "    </tr>\n",
       "    <tr>\n",
       "      <th>Trauma Center</th>\n",
       "      <td>NaN</td>\n",
       "      <td>1.000000</td>\n",
       "      <td>NaN</td>\n",
       "    </tr>\n",
       "    <tr>\n",
       "      <th>Urgent</th>\n",
       "      <td>0.111797</td>\n",
       "      <td>0.539069</td>\n",
       "      <td>0.349134</td>\n",
       "    </tr>\n",
       "  </tbody>\n",
       "</table>\n",
       "</div>"
      ],
      "text/plain": [
       "readmitted      Early Readmission  Greater than 30  Lesser than 30\n",
       "admission_type                                                    \n",
       "Elective                 0.103927         0.591552        0.304521\n",
       "Emergency                0.115225         0.527135        0.357640\n",
       "NULL                     0.110754         0.467586        0.421659\n",
       "Newborn                  0.100000         0.700000        0.200000\n",
       "Not Available            0.103448         0.536886        0.359666\n",
       "Not Mapped               0.084375         0.653125        0.262500\n",
       "Trauma Center                 NaN         1.000000             NaN\n",
       "Urgent                   0.111797         0.539069        0.349134"
      ]
     },
     "execution_count": 99,
     "metadata": {},
     "output_type": "execute_result"
    }
   ],
   "source": [
    "admission_readmit = df.groupby('admission_type')['readmitted'].value_counts(normalize=True).unstack()\n",
    "admission_readmit"
   ]
  },
  {
   "cell_type": "markdown",
   "id": "09e8faa9-ed5b-4793-87e2-6b9eb04c81ef",
   "metadata": {},
   "source": [
    "## Are elective admissions less likely to be readmitted than emergency ones?\n",
    " \t"
   ]
  },
  {
   "cell_type": "code",
   "execution_count": null,
   "id": "210e607a-8410-4d1e-b4dc-08cbb49e8da3",
   "metadata": {},
   "outputs": [],
   "source": []
  },
  {
   "cell_type": "markdown",
   "id": "954ace37-afdb-42fd-bcbb-f7fd22bd8c8a",
   "metadata": {},
   "source": [
    "## How does admission source (e.g., referral vs. emergency room) affect readmission?\n",
    " \t"
   ]
  },
  {
   "cell_type": "code",
   "execution_count": null,
   "id": "71000b9d-712c-49a4-ad06-2482f2a11d58",
   "metadata": {},
   "outputs": [],
   "source": []
  },
  {
   "cell_type": "markdown",
   "id": "b66a5039-dfc1-441a-8299-90baae9bfe41",
   "metadata": {},
   "source": [
    "## What discharge disposition types correlate with highest readmission risk?\n",
    " \t"
   ]
  },
  {
   "cell_type": "code",
   "execution_count": null,
   "id": "4d0de324-15fa-4b9b-8edf-95099257b94b",
   "metadata": {},
   "outputs": [],
   "source": []
  },
  {
   "cell_type": "markdown",
   "id": "7909fc3c-2edf-4420-baad-43beb7f01663",
   "metadata": {},
   "source": [
    "## Do patients discharged to skilled nursing facilities have longer stays?\n",
    " \t"
   ]
  },
  {
   "cell_type": "code",
   "execution_count": null,
   "id": "9f5c1f6d-3c7d-4d1a-9e98-d2a0eb2d6f03",
   "metadata": {},
   "outputs": [],
   "source": []
  },
  {
   "cell_type": "markdown",
   "id": "1d99db2f-7a08-4ca2-9a60-97e68e944b9c",
   "metadata": {},
   "source": [
    "## Which medical specialties are associated with the lowest readmissions?\n",
    " \t"
   ]
  },
  {
   "cell_type": "code",
   "execution_count": null,
   "id": "08653efb-fff7-446f-8777-b24ec932acf0",
   "metadata": {},
   "outputs": [],
   "source": []
  },
  {
   "cell_type": "markdown",
   "id": "9b4934e0-60f6-473e-ae1e-3d5c4089df15",
   "metadata": {},
   "source": [
    "## Are certain specialties more aggressive in ordering lab tests?\n",
    " \t"
   ]
  },
  {
   "cell_type": "code",
   "execution_count": null,
   "id": "226e69c6-0793-4b7e-a95a-10e8589f175c",
   "metadata": {},
   "outputs": [],
   "source": []
  },
  {
   "cell_type": "markdown",
   "id": "dacd064d-cb71-4c79-b473-299c24dba11b",
   "metadata": {},
   "source": [
    "## Does medical specialty influence length of stay or medication usage?\n",
    " \t"
   ]
  },
  {
   "cell_type": "code",
   "execution_count": null,
   "id": "14b7d7a9-5f58-4c1d-9581-9aa62565f86e",
   "metadata": {},
   "outputs": [],
   "source": []
  },
  {
   "cell_type": "markdown",
   "id": "32e26aed-30cc-44fc-a37d-8dfd6b0e3230",
   "metadata": {},
   "source": [
    "## Are patients in general practice less likely to receive A1C testing?\n",
    " \t"
   ]
  },
  {
   "cell_type": "code",
   "execution_count": null,
   "id": "3ff70b70-fee0-41fd-b22d-cc30e2dccc83",
   "metadata": {},
   "outputs": [],
   "source": []
  },
  {
   "cell_type": "markdown",
   "id": "a58d3831-e3ce-43f1-838b-f341be37ac90",
   "metadata": {},
   "source": [
    "## Which discharge categories (e.g., expired, home, transfer) relate to patient mortality?\n",
    " \t"
   ]
  },
  {
   "cell_type": "code",
   "execution_count": null,
   "id": "c6ebba5a-3ab3-4ce7-9900-48b8bae8a33c",
   "metadata": {},
   "outputs": [],
   "source": []
  },
  {
   "cell_type": "markdown",
   "id": "141f1eee-b1e9-4b61-bdc1-90c0b7b41e3e",
   "metadata": {},
   "source": [
    "## Does frequency of lab procedures reflect better outcomes?\n",
    " \t"
   ]
  },
  {
   "cell_type": "code",
   "execution_count": null,
   "id": "c2786e1f-49e3-48b0-8288-86bb15cf0d39",
   "metadata": {},
   "outputs": [],
   "source": []
  },
  {
   "cell_type": "markdown",
   "id": "892a2f26-caa1-4b05-a620-e30fdf08faf6",
   "metadata": {},
   "source": [
    "## Can we rank hospitals or departments based on performance using readmission and length of stay?"
   ]
  },
  {
   "cell_type": "code",
   "execution_count": null,
   "id": "db5463b4-49d4-4ec9-9f45-e1560caf4207",
   "metadata": {},
   "outputs": [],
   "source": []
  },
  {
   "cell_type": "markdown",
   "id": "f48b32a6-be16-4c09-85e2-98e253632980",
   "metadata": {},
   "source": [
    "# 5. Length of Stay Analysis"
   ]
  },
  {
   "cell_type": "markdown",
   "id": "13b93bd8-21fc-4797-8f03-aebb1866f9fb",
   "metadata": {},
   "source": [
    "## What are the top predictors of longer hospital stays for diabetic patients? \t"
   ]
  },
  {
   "cell_type": "code",
   "execution_count": 100,
   "id": "8c1e1801-2935-4c71-96db-740fb69d9959",
   "metadata": {},
   "outputs": [
    {
     "name": "stdout",
     "output_type": "stream",
     "text": [
      "age: correlation = 0.108\n",
      "weight: correlation = -0.007\n",
      "num_lab_procedures: correlation = 0.318\n",
      "num_procedures: correlation = 0.191\n",
      "num_medications: correlation = 0.466\n",
      "number_outpatient: correlation = -0.009\n",
      "number_emergency: correlation = -0.010\n",
      "number_inpatient: correlation = 0.074\n",
      "number_diagnoses: correlation = 0.220\n"
     ]
    }
   ],
   "source": [
    "numeric_cols = ['age', 'weight', 'num_lab_procedures', 'num_procedures',\n",
    "                'num_medications', 'number_outpatient', 'number_emergency',\n",
    "                'number_inpatient', 'number_diagnoses']\n",
    "for col in numeric_cols:\n",
    "    corr = df[col].corr(df['time_in_hospital'])\n",
    "    print(f\"{col}: correlation = {corr:.3f}\")"
   ]
  },
  {
   "cell_type": "markdown",
   "id": "2923c550-5fdb-446d-b936-07a354510f28",
   "metadata": {},
   "source": [
    "## Is there a relationship between length of stay and readmission? \t"
   ]
  },
  {
   "cell_type": "code",
   "execution_count": 101,
   "id": "e04e4d66-e3c3-46b5-aa7d-8b6f6f0dc37e",
   "metadata": {},
   "outputs": [
    {
     "data": {
      "text/plain": [
       "readmitted\n",
       "Early Readmission    4.768249\n",
       "Greater than 30      4.254429\n",
       "Lesser than 30       4.495541\n",
       "Name: time_in_hospital, dtype: float64"
      ]
     },
     "execution_count": 101,
     "metadata": {},
     "output_type": "execute_result"
    }
   ],
   "source": [
    "df.groupby('readmitted')['time_in_hospital'].mean()"
   ]
  },
  {
   "cell_type": "markdown",
   "id": "ab4f8d44-7c1e-4b99-a046-97ba8da605ae",
   "metadata": {},
   "source": [
    "## Do certain diagnoses (diag_1/2/3) lead to significantly longer hospitalizations?"
   ]
  },
  {
   "cell_type": "code",
   "execution_count": 102,
   "id": "10f80935-6af0-45a4-947c-86f8a9366d07",
   "metadata": {},
   "outputs": [
    {
     "data": {
      "text/plain": [
       "diag_1\n",
       "486    5.035063\n",
       "410    4.874377\n",
       "682    4.807542\n",
       "434    4.761341\n",
       "491    4.753407\n",
       "428    4.572280\n",
       "715    3.782892\n",
       "427    3.600868\n",
       "414    3.471661\n",
       "786    2.121763\n",
       "Name: time_in_hospital, dtype: float64"
      ]
     },
     "execution_count": 102,
     "metadata": {},
     "output_type": "execute_result"
    }
   ],
   "source": [
    "top_diag = df['diag_1'].value_counts().head(10).index\n",
    "df[df['diag_1'].isin(top_diag)].groupby('diag_1')['time_in_hospital'].mean().sort_values(ascending=False)"
   ]
  },
  {
   "cell_type": "markdown",
   "id": "d9d6d40a-271c-46cf-94c4-56e8507bf3f1",
   "metadata": {},
   "source": [
    "## What is the distribution of hospital stays for diabetic patients?"
   ]
  },
  {
   "cell_type": "code",
   "execution_count": 104,
   "id": "827a08f8-16d3-4c95-ad6c-638d99c28a7d",
   "metadata": {},
   "outputs": [
    {
     "data": {
      "text/plain": [
       "count    101766.000000\n",
       "mean          4.395987\n",
       "std           2.985108\n",
       "min           1.000000\n",
       "25%           2.000000\n",
       "50%           4.000000\n",
       "75%           6.000000\n",
       "max          14.000000\n",
       "Name: time_in_hospital, dtype: float64"
      ]
     },
     "execution_count": 104,
     "metadata": {},
     "output_type": "execute_result"
    }
   ],
   "source": [
    "df['time_in_hospital'].describe()"
   ]
  },
  {
   "cell_type": "markdown",
   "id": "e81f33b6-c5b9-475b-b663-e2a78f716ddb",
   "metadata": {},
   "source": [
    "## What variables most strongly influence the length of hospital stay? \t"
   ]
  },
  {
   "cell_type": "code",
   "execution_count": 105,
   "id": "c231f8b4-1e3e-483a-8d6f-8d951da78619",
   "metadata": {},
   "outputs": [
    {
     "data": {
      "text/plain": [
       "race\n",
       "AfricanAmerican    4.507860\n",
       "Asian              3.995320\n",
       "Caucasian          4.382930\n",
       "Hispanic           4.059892\n",
       "Other              4.273572\n",
       "Name: time_in_hospital, dtype: float64"
      ]
     },
     "execution_count": 105,
     "metadata": {},
     "output_type": "execute_result"
    }
   ],
   "source": [
    "df.groupby('A1Cresult')['time_in_hospital'].mean()\n",
    "df.groupby('max_glu_serum')['time_in_hospital'].mean()\n",
    "df.groupby('insulin')['time_in_hospital'].mean()\n",
    "df.groupby('change')['time_in_hospital'].mean()\n",
    "df.groupby('gender')['time_in_hospital'].mean()\n",
    "df.groupby('race')['time_in_hospital'].mean()"
   ]
  },
  {
   "cell_type": "markdown",
   "id": "b74e29d0-ba9a-4be1-be24-5b88bb5e5c67",
   "metadata": {},
   "source": [
    "## How does time in hospital correlate with readmission risk?"
   ]
  },
  {
   "cell_type": "code",
   "execution_count": null,
   "id": "086cabab-b792-4c7c-a0a4-94697d7dafa4",
   "metadata": {},
   "outputs": [],
   "source": []
  },
  {
   "cell_type": "markdown",
   "id": "066729c7-9a7e-422c-a64e-a1ce292ad9b5",
   "metadata": {},
   "source": [
    "## Do more lab procedures increase or decrease length of stay?"
   ]
  },
  {
   "cell_type": "code",
   "execution_count": null,
   "id": "9af5233b-c83e-4037-9ef4-2166f7d12532",
   "metadata": {},
   "outputs": [],
   "source": []
  },
  {
   "cell_type": "markdown",
   "id": "416b67ec-696c-467e-9e39-7ea270434079",
   "metadata": {},
   "source": [
    "## How does length of stay differ across medical specialties? \t"
   ]
  },
  {
   "cell_type": "code",
   "execution_count": null,
   "id": "ccad05d4-8102-47c5-b3cc-3ee18500b331",
   "metadata": {},
   "outputs": [],
   "source": []
  },
  {
   "cell_type": "markdown",
   "id": "f1300a92-7b30-4e88-81fd-2b1dbc59631d",
   "metadata": {},
   "source": [
    "## Are longer stays associated with better A1C or glucose control? \t"
   ]
  },
  {
   "cell_type": "code",
   "execution_count": null,
   "id": "c6ee29e8-ce62-4e89-ba48-2817ec8bbe31",
   "metadata": {},
   "outputs": [],
   "source": []
  },
  {
   "cell_type": "markdown",
   "id": "c33031d4-ce2b-449f-ab32-6951ae270d75",
   "metadata": {},
   "source": [
    "## Is there a point beyond which a longer stay no longer reduces readmission? \t"
   ]
  },
  {
   "cell_type": "code",
   "execution_count": null,
   "id": "06e83989-0e2b-4c93-be3b-a1a0514e2456",
   "metadata": {},
   "outputs": [],
   "source": []
  },
  {
   "cell_type": "markdown",
   "id": "334d26a0-d6a2-4cd4-b750-a66ce3d937a4",
   "metadata": {},
   "source": [
    "## What diagnoses are most associated with prolonged hospitalization? \t"
   ]
  },
  {
   "cell_type": "code",
   "execution_count": null,
   "id": "e5b8592b-a929-431a-b008-4e1c0dd1c3b6",
   "metadata": {},
   "outputs": [],
   "source": []
  },
  {
   "cell_type": "markdown",
   "id": "6d875128-8746-4ee9-b0f6-85651e34af95",
   "metadata": {},
   "source": [
    "## Do certain medications correlate with shorter stays? \t"
   ]
  },
  {
   "cell_type": "code",
   "execution_count": null,
   "id": "3a2f719f-55d3-4c04-982c-d129674c10b7",
   "metadata": {},
   "outputs": [],
   "source": []
  },
  {
   "cell_type": "markdown",
   "id": "6fbef842-2c81-4a57-89b5-d46d83a39585",
   "metadata": {},
   "source": [
    "## Are readmitted patients typically those who stayed shorter or longer initially? \t"
   ]
  },
  {
   "cell_type": "code",
   "execution_count": null,
   "id": "dafb8ff3-f98b-4fa7-a859-61c961666f11",
   "metadata": {},
   "outputs": [],
   "source": []
  },
  {
   "cell_type": "markdown",
   "id": "4c395f83-cb65-4252-a7ba-e804df8931ce",
   "metadata": {},
   "source": [
    "## What is the average length of stay by admission type? \t"
   ]
  },
  {
   "cell_type": "code",
   "execution_count": null,
   "id": "d0897c2e-6f22-49c3-a3cd-75cfd15ec6fc",
   "metadata": {},
   "outputs": [],
   "source": []
  },
  {
   "cell_type": "markdown",
   "id": "7349a35f-537e-4e2c-95a1-10c6d8c953df",
   "metadata": {},
   "source": [
    "## Does a longer stay predict higher number of procedures or tests?"
   ]
  },
  {
   "cell_type": "code",
   "execution_count": null,
   "id": "ecaacddf-adb1-4140-8dda-d08a7cab073f",
   "metadata": {},
   "outputs": [],
   "source": []
  },
  {
   "cell_type": "markdown",
   "id": "bada9aee-7f57-4750-92a3-070c4c0c0841",
   "metadata": {},
   "source": [
    "# 6. Diagnosis & Comorbidity Insights"
   ]
  },
  {
   "cell_type": "markdown",
   "id": "99b56ae3-5877-4721-acde-4f7d6e1eacaa",
   "metadata": {},
   "source": [
    "## What are the most common comorbid diagnoses among diabetic patients?"
   ]
  },
  {
   "cell_type": "code",
   "execution_count": 108,
   "id": "823da70c-11f9-4429-a415-f7a85c9b1b9c",
   "metadata": {},
   "outputs": [
    {
     "data": {
      "text/plain": [
       "250    19049\n",
       "276    12285\n",
       "401    12025\n",
       "428    11239\n",
       "427     8991\n",
       "       ...  \n",
       "947        1\n",
       "520        1\n",
       "V69        1\n",
       "974        1\n",
       "971        1\n",
       "Name: count, Length: 848, dtype: int64"
      ]
     },
     "execution_count": 108,
     "metadata": {},
     "output_type": "execute_result"
    }
   ],
   "source": [
    "from collections import Counter\n",
    "comorbid = pd.concat([df['diag_2'], df['diag_3']])\n",
    "comorbid_counts = comorbid.value_counts()\n",
    "comorbid_counts"
   ]
  },
  {
   "cell_type": "code",
   "execution_count": 109,
   "id": "f5bb616a-aa89-4ee8-9cd1-9cdc9cb82e90",
   "metadata": {},
   "outputs": [
    {
     "data": {
      "text/plain": [
       "250    19049\n",
       "276    12285\n",
       "401    12025\n",
       "428    11239\n",
       "427     8991\n",
       "414     6314\n",
       "496     5910\n",
       "599     5229\n",
       "403     5180\n",
       "585     3863\n",
       "Name: count, dtype: int64"
      ]
     },
     "execution_count": 109,
     "metadata": {},
     "output_type": "execute_result"
    }
   ],
   "source": [
    "comorbid_counts = comorbid.value_counts().head(10)\n",
    "comorbid_counts"
   ]
  },
  {
   "cell_type": "markdown",
   "id": "918091d8-ba38-4c80-9310-be9378afd283",
   "metadata": {},
   "source": [
    "## How does the number of diagnoses relate to readmission or mortality risk?"
   ]
  },
  {
   "cell_type": "code",
   "execution_count": 110,
   "id": "c3707ebe-5730-427e-90e9-492bebc7924d",
   "metadata": {},
   "outputs": [
    {
     "data": {
      "text/plain": [
       "readmitted\n",
       "Early Readmission    7.692789\n",
       "Greater than 30      7.221366\n",
       "Lesser than 30       7.646898\n",
       "Name: number_diagnoses, dtype: float64"
      ]
     },
     "execution_count": 110,
     "metadata": {},
     "output_type": "execute_result"
    }
   ],
   "source": [
    "df.groupby('readmitted')['number_diagnoses'].mean()"
   ]
  },
  {
   "cell_type": "markdown",
   "id": "76f81fbd-4ca7-4e86-a9c9-aabe3a230469",
   "metadata": {},
   "source": [
    "## Are there certain diagnosis patterns that indicate high-risk diabetic patients?"
   ]
  },
  {
   "cell_type": "code",
   "execution_count": 112,
   "id": "9b7b60f8-6772-4173-b42a-67e0e92ffaf0",
   "metadata": {},
   "outputs": [
    {
     "data": {
      "text/plain": [
       "diag_1  diag_2  diag_3\n",
       "414     411     250       23\n",
       "715     401     250       23\n",
       "410     414     250       20\n",
       "414     411     401       19\n",
       "                428       19\n",
       "434     250     401       18\n",
       "414     411     496       18\n",
       "996     403     585       16\n",
       "414     411     427       16\n",
       "715     250     401       16\n",
       "dtype: int64"
      ]
     },
     "execution_count": 112,
     "metadata": {},
     "output_type": "execute_result"
    }
   ],
   "source": [
    "early = df[df['readmitted'] == 'Early Readmission']\n",
    "combo_counts = early.groupby(['diag_1', 'diag_2', 'diag_3']).size().sort_values(ascending=False).head(10)\n",
    "combo_counts"
   ]
  },
  {
   "cell_type": "markdown",
   "id": "114842cc-1c53-4a0a-aab7-7e68778d648f",
   "metadata": {},
   "source": [
    "## What are the top 10 most frequent primary diagnoses (diag_1)?"
   ]
  },
  {
   "cell_type": "code",
   "execution_count": 113,
   "id": "08f1650e-58c9-43fd-9724-b5e295867e01",
   "metadata": {},
   "outputs": [
    {
     "data": {
      "text/plain": [
       "diag_1\n",
       "428    6883\n",
       "414    6581\n",
       "786    4016\n",
       "410    3614\n",
       "486    3508\n",
       "427    2766\n",
       "491    2275\n",
       "715    2151\n",
       "682    2042\n",
       "434    2028\n",
       "Name: count, dtype: int64"
      ]
     },
     "execution_count": 113,
     "metadata": {},
     "output_type": "execute_result"
    }
   ],
   "source": [
    "df['diag_1'].value_counts().head(10)"
   ]
  },
  {
   "cell_type": "markdown",
   "id": "2d999872-506e-4dd2-8f27-f703af1b66d7",
   "metadata": {},
   "source": [
    "## Which combinations of diag_1, diag_2, diag_3 are most common?"
   ]
  },
  {
   "cell_type": "code",
   "execution_count": 114,
   "id": "95f4bec7-0a46-48af-afbc-d0ab6d6f8e57",
   "metadata": {},
   "outputs": [
    {
     "data": {
      "text/plain": [
       "diag_1  diag_2  diag_3\n",
       "414     411     250       350\n",
       "                401       271\n",
       "786     401     250       247\n",
       "410     414     250       235\n",
       "786     250     401       231\n",
       "715     401     250       208\n",
       "414     401     250       197\n",
       "715     250     401       188\n",
       "414     250     401       187\n",
       "        411     428       172\n",
       "dtype: int64"
      ]
     },
     "execution_count": 114,
     "metadata": {},
     "output_type": "execute_result"
    }
   ],
   "source": [
    "common_combos = df.groupby(['diag_1', 'diag_2', 'diag_3']).size().sort_values(ascending=False).head(10)\n",
    "common_combos"
   ]
  },
  {
   "cell_type": "markdown",
   "id": "38099878-fa5f-41ae-b8b8-df744108ae1e",
   "metadata": {},
   "source": [
    "## Which diagnosis combinations are associated with the highest readmission rates?"
   ]
  },
  {
   "cell_type": "code",
   "execution_count": null,
   "id": "df6c8524-b1cd-437b-8a09-5b77d5494a41",
   "metadata": {},
   "outputs": [],
   "source": []
  },
  {
   "cell_type": "markdown",
   "id": "df3c761c-b857-4d99-a757-886b9d2d4b5a",
   "metadata": {},
   "source": [
    "## Do comorbidities like hypertension or kidney disease influence readmission?"
   ]
  },
  {
   "cell_type": "code",
   "execution_count": null,
   "id": "4d22ae12-648a-44cd-90a1-d6041becd3af",
   "metadata": {},
   "outputs": [],
   "source": []
  },
  {
   "cell_type": "markdown",
   "id": "16dc176e-8176-4dd1-8c31-1de3d0db7122",
   "metadata": {},
   "source": [
    "## How does the number of diagnoses relate to time in hospital?"
   ]
  },
  {
   "cell_type": "code",
   "execution_count": null,
   "id": "1bc4847e-8482-4b72-b6e7-adf1e453cf17",
   "metadata": {},
   "outputs": [],
   "source": []
  },
  {
   "cell_type": "markdown",
   "id": "5fcf223d-b5c5-4289-98f3-ddb0cc994562",
   "metadata": {},
   "source": [
    "## What are the most common comorbid patterns among patients who died?"
   ]
  },
  {
   "cell_type": "code",
   "execution_count": null,
   "id": "3d9f73b7-6482-4727-a8fb-b6795d0c5328",
   "metadata": {},
   "outputs": [],
   "source": []
  },
  {
   "cell_type": "markdown",
   "id": "30018f68-021e-4335-80c0-b1e1848b443a",
   "metadata": {},
   "source": [
    "## Are certain diagnoses more common in younger vs. older patients?"
   ]
  },
  {
   "cell_type": "code",
   "execution_count": null,
   "id": "fda5ffff-d4c8-4f74-8fd5-99e3c064b292",
   "metadata": {},
   "outputs": [],
   "source": []
  },
  {
   "cell_type": "markdown",
   "id": "9ece501a-cd5e-44c2-ac73-916ea77d08c6",
   "metadata": {},
   "source": [
    "## How do patients with 9+ diagnoses differ in outcomes from those with <3?"
   ]
  },
  {
   "cell_type": "code",
   "execution_count": null,
   "id": "29509bba-f977-422a-ac67-f162b760a455",
   "metadata": {},
   "outputs": [],
   "source": []
  },
  {
   "cell_type": "markdown",
   "id": "73077cd0-616e-49bb-9a2a-94ce8a8b1fed",
   "metadata": {},
   "source": [
    "## Which diagnostic categories correlate most with abnormal glucose levels?"
   ]
  },
  {
   "cell_type": "code",
   "execution_count": null,
   "id": "a59d1cdc-ad31-488c-b210-4b5c68d6e47a",
   "metadata": {},
   "outputs": [],
   "source": []
  },
  {
   "cell_type": "markdown",
   "id": "5d409756-840e-4cdd-83b3-2fb5e96b460d",
   "metadata": {},
   "source": [
    "## Do patients with heart-related diagnoses stay longer than others?"
   ]
  },
  {
   "cell_type": "code",
   "execution_count": null,
   "id": "a6f8132d-d01d-4618-bb1f-2b502884db70",
   "metadata": {},
   "outputs": [],
   "source": []
  },
  {
   "cell_type": "markdown",
   "id": "c5bcb0a1-f098-4181-8e20-a106eda78ad1",
   "metadata": {},
   "source": [
    "## Can we predict likely readmission based solely on diagnosis codes?"
   ]
  },
  {
   "cell_type": "code",
   "execution_count": null,
   "id": "68e0e560-e94d-4b77-81fc-a812bd7da7e4",
   "metadata": {},
   "outputs": [],
   "source": []
  },
  {
   "cell_type": "markdown",
   "id": "d76da69e-ad6f-444b-ae76-a31ec1f113e3",
   "metadata": {},
   "source": [
    "## Are certain diagnosis combinations tied to higher medication counts?"
   ]
  },
  {
   "cell_type": "code",
   "execution_count": null,
   "id": "f477950d-fc9f-405b-96bd-1590d6e8d5fd",
   "metadata": {},
   "outputs": [],
   "source": []
  },
  {
   "cell_type": "markdown",
   "id": "b521b26d-3003-49e4-bac9-f517f46660dc",
   "metadata": {},
   "source": [
    "# 7. Utilization & Resource Efficiency"
   ]
  },
  {
   "cell_type": "markdown",
   "id": "21ee8dd3-7c3b-4903-a697-df94ca05b545",
   "metadata": {},
   "source": [
    "## How does the number of medications or lab procedures relate to outcomes?\n",
    " \t"
   ]
  },
  {
   "cell_type": "code",
   "execution_count": 115,
   "id": "139d998a-3cbb-45a5-a172-49204b4b5ee9",
   "metadata": {},
   "outputs": [
    {
     "data": {
      "text/html": [
       "<div>\n",
       "<style scoped>\n",
       "    .dataframe tbody tr th:only-of-type {\n",
       "        vertical-align: middle;\n",
       "    }\n",
       "\n",
       "    .dataframe tbody tr th {\n",
       "        vertical-align: top;\n",
       "    }\n",
       "\n",
       "    .dataframe thead th {\n",
       "        text-align: right;\n",
       "    }\n",
       "</style>\n",
       "<table border=\"1\" class=\"dataframe\">\n",
       "  <thead>\n",
       "    <tr style=\"text-align: right;\">\n",
       "      <th></th>\n",
       "      <th>num_medications</th>\n",
       "      <th>num_lab_procedures</th>\n",
       "    </tr>\n",
       "    <tr>\n",
       "      <th>readmitted</th>\n",
       "      <th></th>\n",
       "      <th></th>\n",
       "    </tr>\n",
       "  </thead>\n",
       "  <tbody>\n",
       "    <tr>\n",
       "      <th>Early Readmission</th>\n",
       "      <td>16.903143</td>\n",
       "      <td>44.226028</td>\n",
       "    </tr>\n",
       "    <tr>\n",
       "      <th>Greater than 30</th>\n",
       "      <td>15.670367</td>\n",
       "      <td>42.381598</td>\n",
       "    </tr>\n",
       "    <tr>\n",
       "      <th>Lesser than 30</th>\n",
       "      <td>16.282768</td>\n",
       "      <td>43.836601</td>\n",
       "    </tr>\n",
       "  </tbody>\n",
       "</table>\n",
       "</div>"
      ],
      "text/plain": [
       "                   num_medications  num_lab_procedures\n",
       "readmitted                                            \n",
       "Early Readmission        16.903143           44.226028\n",
       "Greater than 30          15.670367           42.381598\n",
       "Lesser than 30           16.282768           43.836601"
      ]
     },
     "execution_count": 115,
     "metadata": {},
     "output_type": "execute_result"
    }
   ],
   "source": [
    "df.groupby('readmitted')[['num_medications', 'num_lab_procedures']].mean()"
   ]
  },
  {
   "cell_type": "markdown",
   "id": "71a5b4d9-6eb3-4e34-a51a-9cda3b829571",
   "metadata": {},
   "source": [
    "## Are more procedures always linked to better results, or is there a point of diminishing returns?\n",
    " \t"
   ]
  },
  {
   "cell_type": "code",
   "execution_count": 117,
   "id": "604d3087-bae7-41f3-845a-ec285e3102cc",
   "metadata": {},
   "outputs": [
    {
     "name": "stderr",
     "output_type": "stream",
     "text": [
      "C:\\Users\\DLK Groups\\AppData\\Local\\Temp\\ipykernel_6872\\3542623539.py:2: FutureWarning: The default of observed=False is deprecated and will be changed to True in a future version of pandas. Pass observed=False to retain current behavior or observed=True to adopt the future default and silence this warning.\n",
      "  early_readmit_rate = df[df['readmitted'] == 'Early Readmission'].groupby('procedure_bin').size() / df.groupby('procedure_bin').size()\n",
      "C:\\Users\\DLK Groups\\AppData\\Local\\Temp\\ipykernel_6872\\3542623539.py:2: FutureWarning: The default of observed=False is deprecated and will be changed to True in a future version of pandas. Pass observed=False to retain current behavior or observed=True to adopt the future default and silence this warning.\n",
      "  early_readmit_rate = df[df['readmitted'] == 'Early Readmission'].groupby('procedure_bin').size() / df.groupby('procedure_bin').size()\n"
     ]
    },
    {
     "data": {
      "text/plain": [
       "procedure_bin\n",
       "(-1, 0]     0.110778\n",
       "(0, 1]      0.122071\n",
       "(1, 2]      0.111819\n",
       "(2, 3]      0.106852\n",
       "(3, 4]      0.110287\n",
       "(4, 5]      0.094217\n",
       "(5, 10]     0.095882\n",
       "(10, 20]         NaN\n",
       "dtype: float64"
      ]
     },
     "execution_count": 117,
     "metadata": {},
     "output_type": "execute_result"
    }
   ],
   "source": [
    "df['procedure_bin'] = pd.cut(df['num_procedures'], bins=[-1, 0, 1, 2, 3, 4, 5, 10, 20], right=True)\n",
    "early_readmit_rate = df[df['readmitted'] == 'Early Readmission'].groupby('procedure_bin').size() / df.groupby('procedure_bin').size()\n",
    "early_readmit_rate"
   ]
  },
  {
   "cell_type": "markdown",
   "id": "b4e208e8-2758-4b21-846e-b9702a001ece",
   "metadata": {},
   "source": [
    "## What is the average resource utilization (labs, procedures) for patients who are not readmitted?\n",
    " \t\n"
   ]
  },
  {
   "cell_type": "code",
   "execution_count": 119,
   "id": "145f15ac-64c6-4a37-b038-6e38d93e8df1",
   "metadata": {},
   "outputs": [
    {
     "data": {
      "text/html": [
       "<div>\n",
       "<style scoped>\n",
       "    .dataframe tbody tr th:only-of-type {\n",
       "        vertical-align: middle;\n",
       "    }\n",
       "\n",
       "    .dataframe tbody tr th {\n",
       "        vertical-align: top;\n",
       "    }\n",
       "\n",
       "    .dataframe thead th {\n",
       "        text-align: right;\n",
       "    }\n",
       "</style>\n",
       "<table border=\"1\" class=\"dataframe\">\n",
       "  <thead>\n",
       "    <tr style=\"text-align: right;\">\n",
       "      <th></th>\n",
       "      <th>num_lab_procedures</th>\n",
       "      <th>num_procedures</th>\n",
       "      <th>num_medications</th>\n",
       "    </tr>\n",
       "  </thead>\n",
       "  <tbody>\n",
       "    <tr>\n",
       "      <th>count</th>\n",
       "      <td>54864.000000</td>\n",
       "      <td>54864.000000</td>\n",
       "      <td>54864.000000</td>\n",
       "    </tr>\n",
       "    <tr>\n",
       "      <th>mean</th>\n",
       "      <td>42.381598</td>\n",
       "      <td>1.410305</td>\n",
       "      <td>15.670367</td>\n",
       "    </tr>\n",
       "    <tr>\n",
       "      <th>std</th>\n",
       "      <td>19.796262</td>\n",
       "      <td>1.739693</td>\n",
       "      <td>8.427628</td>\n",
       "    </tr>\n",
       "    <tr>\n",
       "      <th>min</th>\n",
       "      <td>1.000000</td>\n",
       "      <td>0.000000</td>\n",
       "      <td>1.000000</td>\n",
       "    </tr>\n",
       "    <tr>\n",
       "      <th>25%</th>\n",
       "      <td>30.000000</td>\n",
       "      <td>0.000000</td>\n",
       "      <td>10.000000</td>\n",
       "    </tr>\n",
       "    <tr>\n",
       "      <th>50%</th>\n",
       "      <td>44.000000</td>\n",
       "      <td>1.000000</td>\n",
       "      <td>14.000000</td>\n",
       "    </tr>\n",
       "    <tr>\n",
       "      <th>75%</th>\n",
       "      <td>56.000000</td>\n",
       "      <td>2.000000</td>\n",
       "      <td>20.000000</td>\n",
       "    </tr>\n",
       "    <tr>\n",
       "      <th>max</th>\n",
       "      <td>126.000000</td>\n",
       "      <td>6.000000</td>\n",
       "      <td>79.000000</td>\n",
       "    </tr>\n",
       "  </tbody>\n",
       "</table>\n",
       "</div>"
      ],
      "text/plain": [
       "       num_lab_procedures  num_procedures  num_medications\n",
       "count        54864.000000    54864.000000     54864.000000\n",
       "mean            42.381598        1.410305        15.670367\n",
       "std             19.796262        1.739693         8.427628\n",
       "min              1.000000        0.000000         1.000000\n",
       "25%             30.000000        0.000000        10.000000\n",
       "50%             44.000000        1.000000        14.000000\n",
       "75%             56.000000        2.000000        20.000000\n",
       "max            126.000000        6.000000        79.000000"
      ]
     },
     "execution_count": 119,
     "metadata": {},
     "output_type": "execute_result"
    }
   ],
   "source": [
    "df[df['readmitted'] == 'Greater than 30'][['num_lab_procedures', 'num_procedures', 'num_medications']].describe()"
   ]
  },
  {
   "cell_type": "markdown",
   "id": "d9776dca-4e8e-4ad1-ac06-0a0b89d991b2",
   "metadata": {},
   "source": [
    "## How does the number of lab procedures relate to readmission risk?\n",
    " \t"
   ]
  },
  {
   "cell_type": "code",
   "execution_count": 120,
   "id": "8e1a9499-f0b9-4978-98e3-729329ab1ae1",
   "metadata": {},
   "outputs": [
    {
     "name": "stdout",
     "output_type": "stream",
     "text": [
      "Correlation = 0.020, p-value = 0.000\n"
     ]
    }
   ],
   "source": [
    "from scipy.stats import pointbiserialr\n",
    "df['readmit_binary'] = df['readmitted'].apply(lambda x: 1 if x == 'Early Readmission' else 0)\n",
    "corr, pval = pointbiserialr(df['num_lab_procedures'], df['readmit_binary'])\n",
    "print(f\"Correlation = {corr:.3f}, p-value = {pval:.3f}\")"
   ]
  },
  {
   "cell_type": "markdown",
   "id": "7eaa33c7-8369-4f10-a88c-104823159eb7",
   "metadata": {},
   "source": [
    "## Do patients with more medications always fare better?\n",
    " \t"
   ]
  },
  {
   "cell_type": "code",
   "execution_count": 121,
   "id": "add767b3-376e-4f8e-900b-956ed854d914",
   "metadata": {},
   "outputs": [
    {
     "data": {
      "text/plain": [
       "readmitted\n",
       "Early Readmission    16.903143\n",
       "Greater than 30      15.670367\n",
       "Lesser than 30       16.282768\n",
       "Name: num_medications, dtype: float64"
      ]
     },
     "execution_count": 121,
     "metadata": {},
     "output_type": "execute_result"
    }
   ],
   "source": [
    "df.groupby('readmitted')['num_medications'].mean()"
   ]
  },
  {
   "cell_type": "markdown",
   "id": "906a7788-e022-46ef-92f6-2f8965b50ace",
   "metadata": {},
   "source": [
    "## Is there a diminishing return effect in number of procedures and outcomes?\n",
    " \t"
   ]
  },
  {
   "cell_type": "code",
   "execution_count": null,
   "id": "6551e20a-457a-4e09-81f0-fb902c659072",
   "metadata": {},
   "outputs": [],
   "source": []
  },
  {
   "cell_type": "markdown",
   "id": "10a38457-9248-4bdd-a6d2-d79d6418e86b",
   "metadata": {},
   "source": [
    "## What is the average number of lab procedures for non-readmitted patients?\n",
    " \t"
   ]
  },
  {
   "cell_type": "code",
   "execution_count": null,
   "id": "fd051cab-db30-41d1-afb2-67a99148e57e",
   "metadata": {},
   "outputs": [],
   "source": []
  },
  {
   "cell_type": "markdown",
   "id": "35ec63e3-0e87-4cd5-88f3-6432d85e9f3d",
   "metadata": {},
   "source": [
    "## How does resource usage vary by age or gender?\n",
    " \t"
   ]
  },
  {
   "cell_type": "code",
   "execution_count": null,
   "id": "e4df6a79-024f-4df4-bb04-3454eae51a9a",
   "metadata": {},
   "outputs": [],
   "source": []
  },
  {
   "cell_type": "markdown",
   "id": "ac8a9302-8ee4-4be1-8769-13eea0c1af4d",
   "metadata": {},
   "source": [
    "## Are high-utilization patients receiving better care, or just more interventions?\n",
    " \t"
   ]
  },
  {
   "cell_type": "code",
   "execution_count": null,
   "id": "f7ad7a19-e261-4e7b-86f8-6d8d44f184e7",
   "metadata": {},
   "outputs": [],
   "source": []
  },
  {
   "cell_type": "markdown",
   "id": "df3fb242-e940-4b04-8cdf-76db9b6390cd",
   "metadata": {},
   "source": [
    "## Do more procedures correlate with longer stays or fewer readmissions?\n",
    " \t"
   ]
  },
  {
   "cell_type": "code",
   "execution_count": null,
   "id": "45b046fa-6ca4-42e9-9787-80468d861f16",
   "metadata": {},
   "outputs": [],
   "source": []
  },
  {
   "cell_type": "markdown",
   "id": "47515a88-849b-4799-a2c8-49f29bd7708e",
   "metadata": {},
   "source": [
    "## Is there a consistent pattern in lab tests for patients with normal A1C results?\n",
    " \t"
   ]
  },
  {
   "cell_type": "code",
   "execution_count": null,
   "id": "1fb53db4-1817-4c30-8526-f8dfe8a6221d",
   "metadata": {},
   "outputs": [],
   "source": []
  },
  {
   "cell_type": "markdown",
   "id": "c5ab25e3-a2b9-42e0-a94c-836192d25a19",
   "metadata": {},
   "source": [
    "## Do patients with the same diagnosis receive varying levels of care?\n",
    " \t"
   ]
  },
  {
   "cell_type": "code",
   "execution_count": null,
   "id": "d7d334f1-8866-4a7a-a311-891a7f85b435",
   "metadata": {},
   "outputs": [],
   "source": []
  },
  {
   "cell_type": "markdown",
   "id": "b55d034f-7617-4ac6-b6bb-3dadfd6f491f",
   "metadata": {},
   "source": [
    "## Are there outliers with very high resource use and poor outcomes?\n",
    " \t"
   ]
  },
  {
   "cell_type": "code",
   "execution_count": null,
   "id": "a8e14357-1b6e-4ab9-96eb-3f8b25ba985e",
   "metadata": {},
   "outputs": [],
   "source": []
  },
  {
   "cell_type": "markdown",
   "id": "aa308082-8222-4e19-b336-5914ecbe9a5e",
   "metadata": {},
   "source": [
    "## Is there a “sweet spot” of lab tests/medications that minimizes readmission?\n",
    " \t"
   ]
  },
  {
   "cell_type": "code",
   "execution_count": null,
   "id": "e4cf8a98-0db1-4a82-97f5-3aa4741c402e",
   "metadata": {},
   "outputs": [],
   "source": []
  },
  {
   "cell_type": "markdown",
   "id": "d1ea2061-e67d-427b-b52e-5f4d7d279a63",
   "metadata": {},
   "source": [
    "## Can we cluster patients based on utilization patterns and outcome?"
   ]
  },
  {
   "cell_type": "code",
   "execution_count": null,
   "id": "013097ec-eacf-418e-9a22-200cf6ab2b35",
   "metadata": {},
   "outputs": [],
   "source": []
  },
  {
   "cell_type": "markdown",
   "id": "2707627d-ca88-43f6-9a3f-1d42613b457c",
   "metadata": {},
   "source": [
    "# 8. Temporal Patterns "
   ]
  },
  {
   "cell_type": "markdown",
   "id": "7cc3f5ff-6a7d-4024-bbff-dd01e07c2862",
   "metadata": {},
   "source": [
    "## How have readmission rates changed over the 1999–2008 period?"
   ]
  },
  {
   "cell_type": "code",
   "execution_count": 122,
   "id": "0a9d1ac8-6b50-464f-ba35-a0285ab84ef6",
   "metadata": {},
   "outputs": [
    {
     "name": "stdout",
     "output_type": "stream",
     "text": [
      "year\n",
      "1000    0.074074\n",
      "1001    0.081081\n",
      "1002    0.085714\n",
      "1003    0.095238\n",
      "1004    0.096774\n",
      "          ...   \n",
      "9995    0.000000\n",
      "9996    0.000000\n",
      "9997    0.000000\n",
      "9998    0.125000\n",
      "9999    0.000000\n",
      "Name: readmitted, Length: 8385, dtype: float64\n"
     ]
    }
   ],
   "source": [
    "df['year'] = df['encounter_id'].astype(str).str[:4].astype(int)  # Assuming year is encoded in the ID\n",
    "readmit_rate = df.groupby('year')['readmitted'].apply(lambda x: (x == 'Early Readmission').mean())\n",
    "readmit_rate"
   ]
  },
  {
   "cell_type": "markdown",
   "id": "b8693f6d-3dbb-48b5-9723-7d8573c2cd46",
   "metadata": {},
   "source": [
    "## Has the use of specific medications (e.g., metformin) increased or decreased over time?"
   ]
  },
  {
   "cell_type": "code",
   "execution_count": 123,
   "id": "dbdfccde-4962-4fdf-a42d-27aecf11dbf5",
   "metadata": {},
   "outputs": [
    {
     "name": "stdout",
     "output_type": "stream",
     "text": [
      "year\n",
      "1000    0.129630\n",
      "1001    0.243243\n",
      "1002    0.257143\n",
      "1003    0.142857\n",
      "1004    0.064516\n",
      "          ...   \n",
      "9995    0.000000\n",
      "9996    0.000000\n",
      "9997    0.500000\n",
      "9998    0.125000\n",
      "9999    0.250000\n",
      "Name: metformin_use, Length: 8385, dtype: float64\n"
     ]
    }
   ],
   "source": [
    "df['metformin_use'] = df['metformin'].isin(['Up', 'Steady'])\n",
    "metformin_trend = df.groupby('year')['metformin_use'].mean()\n",
    "print(metformin_trend)\n"
   ]
  },
  {
   "cell_type": "markdown",
   "id": "83b55e2f-c353-4af6-b8dd-51c28047350b",
   "metadata": {},
   "source": [
    "## Are there improvements in treatment protocols over the 10-year span?"
   ]
  },
  {
   "cell_type": "code",
   "execution_count": 124,
   "id": "f480db35-71bc-41b8-b540-f6d2f111a856",
   "metadata": {},
   "outputs": [
    {
     "data": {
      "text/html": [
       "<div>\n",
       "<style scoped>\n",
       "    .dataframe tbody tr th:only-of-type {\n",
       "        vertical-align: middle;\n",
       "    }\n",
       "\n",
       "    .dataframe tbody tr th {\n",
       "        vertical-align: top;\n",
       "    }\n",
       "\n",
       "    .dataframe thead th {\n",
       "        text-align: right;\n",
       "    }\n",
       "</style>\n",
       "<table border=\"1\" class=\"dataframe\">\n",
       "  <thead>\n",
       "    <tr style=\"text-align: right;\">\n",
       "      <th>change</th>\n",
       "      <th>Ch</th>\n",
       "      <th>No</th>\n",
       "    </tr>\n",
       "    <tr>\n",
       "      <th>year</th>\n",
       "      <th></th>\n",
       "      <th></th>\n",
       "    </tr>\n",
       "  </thead>\n",
       "  <tbody>\n",
       "    <tr>\n",
       "      <th>1000</th>\n",
       "      <td>0.314815</td>\n",
       "      <td>0.685185</td>\n",
       "    </tr>\n",
       "    <tr>\n",
       "      <th>1001</th>\n",
       "      <td>0.486486</td>\n",
       "      <td>0.513514</td>\n",
       "    </tr>\n",
       "    <tr>\n",
       "      <th>1002</th>\n",
       "      <td>0.457143</td>\n",
       "      <td>0.542857</td>\n",
       "    </tr>\n",
       "    <tr>\n",
       "      <th>1003</th>\n",
       "      <td>0.380952</td>\n",
       "      <td>0.619048</td>\n",
       "    </tr>\n",
       "    <tr>\n",
       "      <th>1004</th>\n",
       "      <td>0.322581</td>\n",
       "      <td>0.677419</td>\n",
       "    </tr>\n",
       "    <tr>\n",
       "      <th>...</th>\n",
       "      <td>...</td>\n",
       "      <td>...</td>\n",
       "    </tr>\n",
       "    <tr>\n",
       "      <th>9995</th>\n",
       "      <td>0.000000</td>\n",
       "      <td>1.000000</td>\n",
       "    </tr>\n",
       "    <tr>\n",
       "      <th>9996</th>\n",
       "      <td>0.000000</td>\n",
       "      <td>1.000000</td>\n",
       "    </tr>\n",
       "    <tr>\n",
       "      <th>9997</th>\n",
       "      <td>0.500000</td>\n",
       "      <td>0.500000</td>\n",
       "    </tr>\n",
       "    <tr>\n",
       "      <th>9998</th>\n",
       "      <td>0.375000</td>\n",
       "      <td>0.625000</td>\n",
       "    </tr>\n",
       "    <tr>\n",
       "      <th>9999</th>\n",
       "      <td>0.000000</td>\n",
       "      <td>1.000000</td>\n",
       "    </tr>\n",
       "  </tbody>\n",
       "</table>\n",
       "<p>8385 rows × 2 columns</p>\n",
       "</div>"
      ],
      "text/plain": [
       "change        Ch        No\n",
       "year                      \n",
       "1000    0.314815  0.685185\n",
       "1001    0.486486  0.513514\n",
       "1002    0.457143  0.542857\n",
       "1003    0.380952  0.619048\n",
       "1004    0.322581  0.677419\n",
       "...          ...       ...\n",
       "9995    0.000000  1.000000\n",
       "9996    0.000000  1.000000\n",
       "9997    0.500000  0.500000\n",
       "9998    0.375000  0.625000\n",
       "9999    0.000000  1.000000\n",
       "\n",
       "[8385 rows x 2 columns]"
      ]
     },
     "execution_count": 124,
     "metadata": {},
     "output_type": "execute_result"
    }
   ],
   "source": [
    "df.groupby('year')['change'].value_counts(normalize=True).unstack().fillna(0)"
   ]
  },
  {
   "cell_type": "markdown",
   "id": "75d5ee74-2295-4640-bac5-6b458b9ea948",
   "metadata": {},
   "source": [
    "## How did readmission rates trend from 1999 to 2008?"
   ]
  },
  {
   "cell_type": "code",
   "execution_count": 125,
   "id": "2b21ae17-9773-411a-8ce6-d3f76820e4ac",
   "metadata": {},
   "outputs": [
    {
     "name": "stdout",
     "output_type": "stream",
     "text": [
      "year\n",
      "1000    0.074074\n",
      "1001    0.081081\n",
      "1002    0.085714\n",
      "1003    0.095238\n",
      "1004    0.096774\n",
      "          ...   \n",
      "9995    0.000000\n",
      "9996    0.000000\n",
      "9997    0.000000\n",
      "9998    0.125000\n",
      "9999    0.000000\n",
      "Name: readmitted, Length: 8385, dtype: float64\n"
     ]
    }
   ],
   "source": [
    "df['year'] = df['encounter_id'].astype(str).str[:4].astype(int)  # Assuming year is encoded in the ID\n",
    "readmit_rate = df.groupby('year')['readmitted'].apply(lambda x: (x == 'Early Readmission').mean())\n",
    "readmit_rate\n"
   ]
  },
  {
   "cell_type": "markdown",
   "id": "ffe5e967-3d73-4137-b7ae-69eb55836291",
   "metadata": {},
   "source": [
    "## Was there an increase in average length of stay over time?"
   ]
  },
  {
   "cell_type": "code",
   "execution_count": 126,
   "id": "2eb6bf96-1715-42b5-a4bc-690281dcfbee",
   "metadata": {},
   "outputs": [
    {
     "name": "stdout",
     "output_type": "stream",
     "text": [
      "year\n",
      "1000    4.314815\n",
      "1001    4.108108\n",
      "1002    4.200000\n",
      "1003    4.952381\n",
      "1004    4.016129\n",
      "          ...   \n",
      "9995    4.000000\n",
      "9996    8.000000\n",
      "9997    5.500000\n",
      "9998    3.375000\n",
      "9999    3.250000\n",
      "Name: time_in_hospital, Length: 8385, dtype: float64\n"
     ]
    }
   ],
   "source": [
    "los_trend = df.groupby('year')['time_in_hospital'].mean()\n",
    "los_trend"
   ]
  },
  {
   "cell_type": "markdown",
   "id": "4430b319-f546-4d4d-a815-d3323a160b9c",
   "metadata": {},
   "source": [
    "## Did metformin or insulin usage increase or decrease over the years?"
   ]
  },
  {
   "cell_type": "code",
   "execution_count": null,
   "id": "e7b61a09-e62b-4da5-b618-88a0d5699610",
   "metadata": {},
   "outputs": [],
   "source": []
  },
  {
   "cell_type": "markdown",
   "id": "1985d850-719a-4b67-a813-49edc888b8a8",
   "metadata": {},
   "source": [
    "## Are newer drugs (e.g., rosiglitazone) more common in later years?"
   ]
  },
  {
   "cell_type": "code",
   "execution_count": null,
   "id": "d098a5c0-7a2a-4a33-91a1-8b57e18c1bda",
   "metadata": {},
   "outputs": [],
   "source": []
  },
  {
   "cell_type": "markdown",
   "id": "d939ef91-17ec-4e39-be5c-5585a852ef99",
   "metadata": {},
   "source": [
    "## Were there specific years with spikes in lab test frequency?"
   ]
  },
  {
   "cell_type": "code",
   "execution_count": null,
   "id": "e54426c4-6582-4897-bb4f-efbea370b935",
   "metadata": {},
   "outputs": [],
   "source": []
  },
  {
   "cell_type": "markdown",
   "id": "e0323d5a-4599-4c6d-874a-f51107b4ee85",
   "metadata": {},
   "source": [
    "## Has the number of diagnoses per patient increased over the years?"
   ]
  },
  {
   "cell_type": "code",
   "execution_count": null,
   "id": "a2096d63-8f97-4768-a10e-de023a76a49d",
   "metadata": {},
   "outputs": [],
   "source": []
  },
  {
   "cell_type": "markdown",
   "id": "c78188d5-dc5a-4b41-a41a-176a4e6504c4",
   "metadata": {},
   "source": [
    "## Did outcomes improve as treatment protocols evolved over time?"
   ]
  },
  {
   "cell_type": "code",
   "execution_count": null,
   "id": "6e6af320-6e98-48b8-90fd-042d935f51ff",
   "metadata": {},
   "outputs": [],
   "source": []
  },
  {
   "cell_type": "markdown",
   "id": "28c15d07-a430-4eb0-a43f-864ee8be73b9",
   "metadata": {},
   "source": [
    "## Were treatment changes more frequent in early or later years?"
   ]
  },
  {
   "cell_type": "code",
   "execution_count": null,
   "id": "80d968d4-4ea1-43e1-905b-93c4296c54c4",
   "metadata": {},
   "outputs": [],
   "source": []
  },
  {
   "cell_type": "markdown",
   "id": "382114e5-760a-46a3-9c77-a11f5b0d0761",
   "metadata": {},
   "source": [
    "## Were earlier years associated with higher mortality or longer stays?"
   ]
  },
  {
   "cell_type": "code",
   "execution_count": null,
   "id": "1b7893ac-8d6f-40c3-a4b8-26e400a20855",
   "metadata": {},
   "outputs": [],
   "source": []
  },
  {
   "cell_type": "markdown",
   "id": "ea4170cc-da15-43c9-a87d-8e33a911cc9b",
   "metadata": {},
   "source": [
    "## How did the use of combination therapies change over time?"
   ]
  },
  {
   "cell_type": "code",
   "execution_count": null,
   "id": "fb2a3e5c-b53c-4c42-bc58-2e1df50cb53d",
   "metadata": {},
   "outputs": [],
   "source": []
  },
  {
   "cell_type": "markdown",
   "id": "f044195a-62ee-4765-b2d3-4dc6e1388903",
   "metadata": {},
   "source": [
    "## Was there a shift in dominant diagnosis codes across years?"
   ]
  },
  {
   "cell_type": "code",
   "execution_count": null,
   "id": "8e7b16b8-6dcb-47f0-a26a-f6d58cac5057",
   "metadata": {},
   "outputs": [],
   "source": []
  },
  {
   "cell_type": "markdown",
   "id": "4390a2a9-59e4-4736-8c3b-5b1b7f73d6e1",
   "metadata": {},
   "source": [
    "## Are more recent records associated with lower readmission and better A1C control?"
   ]
  },
  {
   "cell_type": "code",
   "execution_count": null,
   "id": "34f2d17c-450e-4886-9462-9426d20d3236",
   "metadata": {},
   "outputs": [],
   "source": []
  }
 ],
 "metadata": {
  "kernelspec": {
   "display_name": "Python 3 (ipykernel)",
   "language": "python",
   "name": "python3"
  },
  "language_info": {
   "codemirror_mode": {
    "name": "ipython",
    "version": 3
   },
   "file_extension": ".py",
   "mimetype": "text/x-python",
   "name": "python",
   "nbconvert_exporter": "python",
   "pygments_lexer": "ipython3",
   "version": "3.11.7"
  }
 },
 "nbformat": 4,
 "nbformat_minor": 5
}
